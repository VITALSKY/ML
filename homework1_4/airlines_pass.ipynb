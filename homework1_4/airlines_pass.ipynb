{
  "nbformat": 4,
  "nbformat_minor": 0,
  "metadata": {
    "colab": {
      "provenance": []
    },
    "kernelspec": {
      "name": "python3",
      "display_name": "Python 3"
    },
    "language_info": {
      "name": "python"
    }
  },
  "cells": [
    {
      "cell_type": "code",
      "execution_count": 52,
      "metadata": {
        "id": "MXsI3M7vd1ki"
      },
      "outputs": [],
      "source": [
        "import numpy as np\n",
        "import matplotlib.pyplot as plt\n",
        "import pandas as pd\n",
        "import seaborn as sns\n",
        "import sklearn\n",
        "%matplotlib inline"
      ]
    },
    {
      "cell_type": "markdown",
      "source": [
        "***Описание задачи:***\n",
        "\n",
        "Датасет содержит опрос удовлетворенности 103904 пассажиров авиакомпаний.Набор данных содержит 25 признаков, по которым можно определить сильно коррелирующие факторы с довольным (или недовольным) пассажиром. Всех пассажиров можно разделить на довльного или недовольного клиента авиакомпании."
      ],
      "metadata": {
        "id": "Gu_PQw86eJjD"
      }
    },
    {
      "cell_type": "markdown",
      "source": [
        "***Загрузка данных:***"
      ],
      "metadata": {
        "id": "_v-3m7UDgq6W"
      }
    },
    {
      "cell_type": "code",
      "source": [
        "data_raw = pd.read_csv(\"https://raw.githubusercontent.com/VITALSKY/ML/main/homework1/airlines_pass.csv\")\n",
        "data_raw.shape"
      ],
      "metadata": {
        "colab": {
          "base_uri": "https://localhost:8080/"
        },
        "id": "gJXq5k_QgnGD",
        "outputId": "9d325dbd-a211-4f7a-c76f-645890749624"
      },
      "execution_count": 53,
      "outputs": [
        {
          "output_type": "execute_result",
          "data": {
            "text/plain": [
              "(103904, 25)"
            ]
          },
          "metadata": {},
          "execution_count": 53
        }
      ]
    },
    {
      "cell_type": "code",
      "source": [
        "data_raw.head()"
      ],
      "metadata": {
        "colab": {
          "base_uri": "https://localhost:8080/",
          "height": 438
        },
        "id": "usi6qo-QigRq",
        "outputId": "a20ea915-1dc7-4f64-c4fd-797667a44649"
      },
      "execution_count": 54,
      "outputs": [
        {
          "output_type": "execute_result",
          "data": {
            "text/plain": [
              "   Unnamed: 0      id  Gender      Customer Type   Age   Type of Travel  \\\n",
              "0           0   70172    Male     Loyal Customer  13.0  Personal Travel   \n",
              "1           1    5047    Male  disloyal Customer  25.0  Business travel   \n",
              "2           2  110028  Female     Loyal Customer  26.0  Business travel   \n",
              "3           3   24026  Female     Loyal Customer  25.0  Business travel   \n",
              "4           4  119299    Male     Loyal Customer  61.0  Business travel   \n",
              "\n",
              "      Class  Flight Distance  Inflight wifi service  \\\n",
              "0  Eco Plus            460.0                      3   \n",
              "1  Business            235.0                      3   \n",
              "2  Business           1142.0                      2   \n",
              "3  Business            562.0                      2   \n",
              "4  Business            214.0                      3   \n",
              "\n",
              "   Departure/Arrival time convenient  ...  Inflight entertainment  \\\n",
              "0                                  4  ...                     5.0   \n",
              "1                                  2  ...                     1.0   \n",
              "2                                  2  ...                     5.0   \n",
              "3                                  5  ...                     2.0   \n",
              "4                                  3  ...                     3.0   \n",
              "\n",
              "   On-board service  Leg room service  Baggage handling  Checkin service  \\\n",
              "0               4.0               3.0                 4              4.0   \n",
              "1               1.0               5.0                 3              1.0   \n",
              "2               4.0               3.0                 4              4.0   \n",
              "3               2.0               5.0                 3              1.0   \n",
              "4               3.0               4.0                 4              3.0   \n",
              "\n",
              "   Inflight service  Cleanliness  Departure Delay in Minutes  \\\n",
              "0                 5            5                          25   \n",
              "1                 4            1                           1   \n",
              "2                 4            5                           0   \n",
              "3                 4            2                          11   \n",
              "4                 3            3                           0   \n",
              "\n",
              "   Arrival Delay in Minutes             satisfaction  \n",
              "0                      18.0  neutral or dissatisfied  \n",
              "1                       6.0  neutral or dissatisfied  \n",
              "2                       0.0                satisfied  \n",
              "3                       9.0  neutral or dissatisfied  \n",
              "4                       0.0                satisfied  \n",
              "\n",
              "[5 rows x 25 columns]"
            ],
            "text/html": [
              "\n",
              "  <div id=\"df-d7998326-ee3f-4cf0-a129-e63580d56724\">\n",
              "    <div class=\"colab-df-container\">\n",
              "      <div>\n",
              "<style scoped>\n",
              "    .dataframe tbody tr th:only-of-type {\n",
              "        vertical-align: middle;\n",
              "    }\n",
              "\n",
              "    .dataframe tbody tr th {\n",
              "        vertical-align: top;\n",
              "    }\n",
              "\n",
              "    .dataframe thead th {\n",
              "        text-align: right;\n",
              "    }\n",
              "</style>\n",
              "<table border=\"1\" class=\"dataframe\">\n",
              "  <thead>\n",
              "    <tr style=\"text-align: right;\">\n",
              "      <th></th>\n",
              "      <th>Unnamed: 0</th>\n",
              "      <th>id</th>\n",
              "      <th>Gender</th>\n",
              "      <th>Customer Type</th>\n",
              "      <th>Age</th>\n",
              "      <th>Type of Travel</th>\n",
              "      <th>Class</th>\n",
              "      <th>Flight Distance</th>\n",
              "      <th>Inflight wifi service</th>\n",
              "      <th>Departure/Arrival time convenient</th>\n",
              "      <th>...</th>\n",
              "      <th>Inflight entertainment</th>\n",
              "      <th>On-board service</th>\n",
              "      <th>Leg room service</th>\n",
              "      <th>Baggage handling</th>\n",
              "      <th>Checkin service</th>\n",
              "      <th>Inflight service</th>\n",
              "      <th>Cleanliness</th>\n",
              "      <th>Departure Delay in Minutes</th>\n",
              "      <th>Arrival Delay in Minutes</th>\n",
              "      <th>satisfaction</th>\n",
              "    </tr>\n",
              "  </thead>\n",
              "  <tbody>\n",
              "    <tr>\n",
              "      <th>0</th>\n",
              "      <td>0</td>\n",
              "      <td>70172</td>\n",
              "      <td>Male</td>\n",
              "      <td>Loyal Customer</td>\n",
              "      <td>13.0</td>\n",
              "      <td>Personal Travel</td>\n",
              "      <td>Eco Plus</td>\n",
              "      <td>460.0</td>\n",
              "      <td>3</td>\n",
              "      <td>4</td>\n",
              "      <td>...</td>\n",
              "      <td>5.0</td>\n",
              "      <td>4.0</td>\n",
              "      <td>3.0</td>\n",
              "      <td>4</td>\n",
              "      <td>4.0</td>\n",
              "      <td>5</td>\n",
              "      <td>5</td>\n",
              "      <td>25</td>\n",
              "      <td>18.0</td>\n",
              "      <td>neutral or dissatisfied</td>\n",
              "    </tr>\n",
              "    <tr>\n",
              "      <th>1</th>\n",
              "      <td>1</td>\n",
              "      <td>5047</td>\n",
              "      <td>Male</td>\n",
              "      <td>disloyal Customer</td>\n",
              "      <td>25.0</td>\n",
              "      <td>Business travel</td>\n",
              "      <td>Business</td>\n",
              "      <td>235.0</td>\n",
              "      <td>3</td>\n",
              "      <td>2</td>\n",
              "      <td>...</td>\n",
              "      <td>1.0</td>\n",
              "      <td>1.0</td>\n",
              "      <td>5.0</td>\n",
              "      <td>3</td>\n",
              "      <td>1.0</td>\n",
              "      <td>4</td>\n",
              "      <td>1</td>\n",
              "      <td>1</td>\n",
              "      <td>6.0</td>\n",
              "      <td>neutral or dissatisfied</td>\n",
              "    </tr>\n",
              "    <tr>\n",
              "      <th>2</th>\n",
              "      <td>2</td>\n",
              "      <td>110028</td>\n",
              "      <td>Female</td>\n",
              "      <td>Loyal Customer</td>\n",
              "      <td>26.0</td>\n",
              "      <td>Business travel</td>\n",
              "      <td>Business</td>\n",
              "      <td>1142.0</td>\n",
              "      <td>2</td>\n",
              "      <td>2</td>\n",
              "      <td>...</td>\n",
              "      <td>5.0</td>\n",
              "      <td>4.0</td>\n",
              "      <td>3.0</td>\n",
              "      <td>4</td>\n",
              "      <td>4.0</td>\n",
              "      <td>4</td>\n",
              "      <td>5</td>\n",
              "      <td>0</td>\n",
              "      <td>0.0</td>\n",
              "      <td>satisfied</td>\n",
              "    </tr>\n",
              "    <tr>\n",
              "      <th>3</th>\n",
              "      <td>3</td>\n",
              "      <td>24026</td>\n",
              "      <td>Female</td>\n",
              "      <td>Loyal Customer</td>\n",
              "      <td>25.0</td>\n",
              "      <td>Business travel</td>\n",
              "      <td>Business</td>\n",
              "      <td>562.0</td>\n",
              "      <td>2</td>\n",
              "      <td>5</td>\n",
              "      <td>...</td>\n",
              "      <td>2.0</td>\n",
              "      <td>2.0</td>\n",
              "      <td>5.0</td>\n",
              "      <td>3</td>\n",
              "      <td>1.0</td>\n",
              "      <td>4</td>\n",
              "      <td>2</td>\n",
              "      <td>11</td>\n",
              "      <td>9.0</td>\n",
              "      <td>neutral or dissatisfied</td>\n",
              "    </tr>\n",
              "    <tr>\n",
              "      <th>4</th>\n",
              "      <td>4</td>\n",
              "      <td>119299</td>\n",
              "      <td>Male</td>\n",
              "      <td>Loyal Customer</td>\n",
              "      <td>61.0</td>\n",
              "      <td>Business travel</td>\n",
              "      <td>Business</td>\n",
              "      <td>214.0</td>\n",
              "      <td>3</td>\n",
              "      <td>3</td>\n",
              "      <td>...</td>\n",
              "      <td>3.0</td>\n",
              "      <td>3.0</td>\n",
              "      <td>4.0</td>\n",
              "      <td>4</td>\n",
              "      <td>3.0</td>\n",
              "      <td>3</td>\n",
              "      <td>3</td>\n",
              "      <td>0</td>\n",
              "      <td>0.0</td>\n",
              "      <td>satisfied</td>\n",
              "    </tr>\n",
              "  </tbody>\n",
              "</table>\n",
              "<p>5 rows × 25 columns</p>\n",
              "</div>\n",
              "      <button class=\"colab-df-convert\" onclick=\"convertToInteractive('df-d7998326-ee3f-4cf0-a129-e63580d56724')\"\n",
              "              title=\"Convert this dataframe to an interactive table.\"\n",
              "              style=\"display:none;\">\n",
              "        \n",
              "  <svg xmlns=\"http://www.w3.org/2000/svg\" height=\"24px\"viewBox=\"0 0 24 24\"\n",
              "       width=\"24px\">\n",
              "    <path d=\"M0 0h24v24H0V0z\" fill=\"none\"/>\n",
              "    <path d=\"M18.56 5.44l.94 2.06.94-2.06 2.06-.94-2.06-.94-.94-2.06-.94 2.06-2.06.94zm-11 1L8.5 8.5l.94-2.06 2.06-.94-2.06-.94L8.5 2.5l-.94 2.06-2.06.94zm10 10l.94 2.06.94-2.06 2.06-.94-2.06-.94-.94-2.06-.94 2.06-2.06.94z\"/><path d=\"M17.41 7.96l-1.37-1.37c-.4-.4-.92-.59-1.43-.59-.52 0-1.04.2-1.43.59L10.3 9.45l-7.72 7.72c-.78.78-.78 2.05 0 2.83L4 21.41c.39.39.9.59 1.41.59.51 0 1.02-.2 1.41-.59l7.78-7.78 2.81-2.81c.8-.78.8-2.07 0-2.86zM5.41 20L4 18.59l7.72-7.72 1.47 1.35L5.41 20z\"/>\n",
              "  </svg>\n",
              "      </button>\n",
              "      \n",
              "  <style>\n",
              "    .colab-df-container {\n",
              "      display:flex;\n",
              "      flex-wrap:wrap;\n",
              "      gap: 12px;\n",
              "    }\n",
              "\n",
              "    .colab-df-convert {\n",
              "      background-color: #E8F0FE;\n",
              "      border: none;\n",
              "      border-radius: 50%;\n",
              "      cursor: pointer;\n",
              "      display: none;\n",
              "      fill: #1967D2;\n",
              "      height: 32px;\n",
              "      padding: 0 0 0 0;\n",
              "      width: 32px;\n",
              "    }\n",
              "\n",
              "    .colab-df-convert:hover {\n",
              "      background-color: #E2EBFA;\n",
              "      box-shadow: 0px 1px 2px rgba(60, 64, 67, 0.3), 0px 1px 3px 1px rgba(60, 64, 67, 0.15);\n",
              "      fill: #174EA6;\n",
              "    }\n",
              "\n",
              "    [theme=dark] .colab-df-convert {\n",
              "      background-color: #3B4455;\n",
              "      fill: #D2E3FC;\n",
              "    }\n",
              "\n",
              "    [theme=dark] .colab-df-convert:hover {\n",
              "      background-color: #434B5C;\n",
              "      box-shadow: 0px 1px 3px 1px rgba(0, 0, 0, 0.15);\n",
              "      filter: drop-shadow(0px 1px 2px rgba(0, 0, 0, 0.3));\n",
              "      fill: #FFFFFF;\n",
              "    }\n",
              "  </style>\n",
              "\n",
              "      <script>\n",
              "        const buttonEl =\n",
              "          document.querySelector('#df-d7998326-ee3f-4cf0-a129-e63580d56724 button.colab-df-convert');\n",
              "        buttonEl.style.display =\n",
              "          google.colab.kernel.accessAllowed ? 'block' : 'none';\n",
              "\n",
              "        async function convertToInteractive(key) {\n",
              "          const element = document.querySelector('#df-d7998326-ee3f-4cf0-a129-e63580d56724');\n",
              "          const dataTable =\n",
              "            await google.colab.kernel.invokeFunction('convertToInteractive',\n",
              "                                                     [key], {});\n",
              "          if (!dataTable) return;\n",
              "\n",
              "          const docLinkHtml = 'Like what you see? Visit the ' +\n",
              "            '<a target=\"_blank\" href=https://colab.research.google.com/notebooks/data_table.ipynb>data table notebook</a>'\n",
              "            + ' to learn more about interactive tables.';\n",
              "          element.innerHTML = '';\n",
              "          dataTable['output_type'] = 'display_data';\n",
              "          await google.colab.output.renderOutput(dataTable, element);\n",
              "          const docLink = document.createElement('div');\n",
              "          docLink.innerHTML = docLinkHtml;\n",
              "          element.appendChild(docLink);\n",
              "        }\n",
              "      </script>\n",
              "    </div>\n",
              "  </div>\n",
              "  "
            ]
          },
          "metadata": {},
          "execution_count": 54
        }
      ]
    },
    {
      "cell_type": "code",
      "source": [
        "data_raw.tail()"
      ],
      "metadata": {
        "colab": {
          "base_uri": "https://localhost:8080/",
          "height": 438
        },
        "id": "oXWkjJ3BikqZ",
        "outputId": "67a3a8d7-7969-432c-852d-964e35783257"
      },
      "execution_count": 55,
      "outputs": [
        {
          "output_type": "execute_result",
          "data": {
            "text/plain": [
              "        Unnamed: 0     id  Gender      Customer Type   Age   Type of Travel  \\\n",
              "103899      103899  94171  Female  disloyal Customer  23.0  Business travel   \n",
              "103900      103900  73097    Male     Loyal Customer  49.0  Business travel   \n",
              "103901      103901  68825    Male  disloyal Customer  30.0  Business travel   \n",
              "103902      103902  54173  Female  disloyal Customer  22.0  Business travel   \n",
              "103903      103903  62567    Male     Loyal Customer   NaN  Business travel   \n",
              "\n",
              "           Class  Flight Distance  Inflight wifi service  \\\n",
              "103899       Eco            192.0                      2   \n",
              "103900  Business           2347.0                      4   \n",
              "103901  Business           1995.0                      1   \n",
              "103902       Eco           1000.0                      1   \n",
              "103903  Business              NaN                      1   \n",
              "\n",
              "        Departure/Arrival time convenient  ...  Inflight entertainment  \\\n",
              "103899                                  1  ...                     2.0   \n",
              "103900                                  4  ...                     5.0   \n",
              "103901                                  1  ...                     4.0   \n",
              "103902                                  1  ...                     1.0   \n",
              "103903                                  3  ...                     1.0   \n",
              "\n",
              "        On-board service  Leg room service  Baggage handling  Checkin service  \\\n",
              "103899               3.0               1.0                 4              2.0   \n",
              "103900               5.0               5.0                 5              5.0   \n",
              "103901               3.0               2.0                 4              5.0   \n",
              "103902               4.0               5.0                 1              5.0   \n",
              "103903               1.0               1.0                 4              4.0   \n",
              "\n",
              "        Inflight service  Cleanliness  Departure Delay in Minutes  \\\n",
              "103899                 3            2                           3   \n",
              "103900                 5            4                           0   \n",
              "103901                 5            4                           7   \n",
              "103902                 4            1                           0   \n",
              "103903                 3            1                           0   \n",
              "\n",
              "        Arrival Delay in Minutes             satisfaction  \n",
              "103899                       0.0                      NaN  \n",
              "103900                       0.0                satisfied  \n",
              "103901                      14.0  neutral or dissatisfied  \n",
              "103902                       0.0  neutral or dissatisfied  \n",
              "103903                       0.0                      NaN  \n",
              "\n",
              "[5 rows x 25 columns]"
            ],
            "text/html": [
              "\n",
              "  <div id=\"df-203acb2c-6e4d-459b-9a70-c82634aeea49\">\n",
              "    <div class=\"colab-df-container\">\n",
              "      <div>\n",
              "<style scoped>\n",
              "    .dataframe tbody tr th:only-of-type {\n",
              "        vertical-align: middle;\n",
              "    }\n",
              "\n",
              "    .dataframe tbody tr th {\n",
              "        vertical-align: top;\n",
              "    }\n",
              "\n",
              "    .dataframe thead th {\n",
              "        text-align: right;\n",
              "    }\n",
              "</style>\n",
              "<table border=\"1\" class=\"dataframe\">\n",
              "  <thead>\n",
              "    <tr style=\"text-align: right;\">\n",
              "      <th></th>\n",
              "      <th>Unnamed: 0</th>\n",
              "      <th>id</th>\n",
              "      <th>Gender</th>\n",
              "      <th>Customer Type</th>\n",
              "      <th>Age</th>\n",
              "      <th>Type of Travel</th>\n",
              "      <th>Class</th>\n",
              "      <th>Flight Distance</th>\n",
              "      <th>Inflight wifi service</th>\n",
              "      <th>Departure/Arrival time convenient</th>\n",
              "      <th>...</th>\n",
              "      <th>Inflight entertainment</th>\n",
              "      <th>On-board service</th>\n",
              "      <th>Leg room service</th>\n",
              "      <th>Baggage handling</th>\n",
              "      <th>Checkin service</th>\n",
              "      <th>Inflight service</th>\n",
              "      <th>Cleanliness</th>\n",
              "      <th>Departure Delay in Minutes</th>\n",
              "      <th>Arrival Delay in Minutes</th>\n",
              "      <th>satisfaction</th>\n",
              "    </tr>\n",
              "  </thead>\n",
              "  <tbody>\n",
              "    <tr>\n",
              "      <th>103899</th>\n",
              "      <td>103899</td>\n",
              "      <td>94171</td>\n",
              "      <td>Female</td>\n",
              "      <td>disloyal Customer</td>\n",
              "      <td>23.0</td>\n",
              "      <td>Business travel</td>\n",
              "      <td>Eco</td>\n",
              "      <td>192.0</td>\n",
              "      <td>2</td>\n",
              "      <td>1</td>\n",
              "      <td>...</td>\n",
              "      <td>2.0</td>\n",
              "      <td>3.0</td>\n",
              "      <td>1.0</td>\n",
              "      <td>4</td>\n",
              "      <td>2.0</td>\n",
              "      <td>3</td>\n",
              "      <td>2</td>\n",
              "      <td>3</td>\n",
              "      <td>0.0</td>\n",
              "      <td>NaN</td>\n",
              "    </tr>\n",
              "    <tr>\n",
              "      <th>103900</th>\n",
              "      <td>103900</td>\n",
              "      <td>73097</td>\n",
              "      <td>Male</td>\n",
              "      <td>Loyal Customer</td>\n",
              "      <td>49.0</td>\n",
              "      <td>Business travel</td>\n",
              "      <td>Business</td>\n",
              "      <td>2347.0</td>\n",
              "      <td>4</td>\n",
              "      <td>4</td>\n",
              "      <td>...</td>\n",
              "      <td>5.0</td>\n",
              "      <td>5.0</td>\n",
              "      <td>5.0</td>\n",
              "      <td>5</td>\n",
              "      <td>5.0</td>\n",
              "      <td>5</td>\n",
              "      <td>4</td>\n",
              "      <td>0</td>\n",
              "      <td>0.0</td>\n",
              "      <td>satisfied</td>\n",
              "    </tr>\n",
              "    <tr>\n",
              "      <th>103901</th>\n",
              "      <td>103901</td>\n",
              "      <td>68825</td>\n",
              "      <td>Male</td>\n",
              "      <td>disloyal Customer</td>\n",
              "      <td>30.0</td>\n",
              "      <td>Business travel</td>\n",
              "      <td>Business</td>\n",
              "      <td>1995.0</td>\n",
              "      <td>1</td>\n",
              "      <td>1</td>\n",
              "      <td>...</td>\n",
              "      <td>4.0</td>\n",
              "      <td>3.0</td>\n",
              "      <td>2.0</td>\n",
              "      <td>4</td>\n",
              "      <td>5.0</td>\n",
              "      <td>5</td>\n",
              "      <td>4</td>\n",
              "      <td>7</td>\n",
              "      <td>14.0</td>\n",
              "      <td>neutral or dissatisfied</td>\n",
              "    </tr>\n",
              "    <tr>\n",
              "      <th>103902</th>\n",
              "      <td>103902</td>\n",
              "      <td>54173</td>\n",
              "      <td>Female</td>\n",
              "      <td>disloyal Customer</td>\n",
              "      <td>22.0</td>\n",
              "      <td>Business travel</td>\n",
              "      <td>Eco</td>\n",
              "      <td>1000.0</td>\n",
              "      <td>1</td>\n",
              "      <td>1</td>\n",
              "      <td>...</td>\n",
              "      <td>1.0</td>\n",
              "      <td>4.0</td>\n",
              "      <td>5.0</td>\n",
              "      <td>1</td>\n",
              "      <td>5.0</td>\n",
              "      <td>4</td>\n",
              "      <td>1</td>\n",
              "      <td>0</td>\n",
              "      <td>0.0</td>\n",
              "      <td>neutral or dissatisfied</td>\n",
              "    </tr>\n",
              "    <tr>\n",
              "      <th>103903</th>\n",
              "      <td>103903</td>\n",
              "      <td>62567</td>\n",
              "      <td>Male</td>\n",
              "      <td>Loyal Customer</td>\n",
              "      <td>NaN</td>\n",
              "      <td>Business travel</td>\n",
              "      <td>Business</td>\n",
              "      <td>NaN</td>\n",
              "      <td>1</td>\n",
              "      <td>3</td>\n",
              "      <td>...</td>\n",
              "      <td>1.0</td>\n",
              "      <td>1.0</td>\n",
              "      <td>1.0</td>\n",
              "      <td>4</td>\n",
              "      <td>4.0</td>\n",
              "      <td>3</td>\n",
              "      <td>1</td>\n",
              "      <td>0</td>\n",
              "      <td>0.0</td>\n",
              "      <td>NaN</td>\n",
              "    </tr>\n",
              "  </tbody>\n",
              "</table>\n",
              "<p>5 rows × 25 columns</p>\n",
              "</div>\n",
              "      <button class=\"colab-df-convert\" onclick=\"convertToInteractive('df-203acb2c-6e4d-459b-9a70-c82634aeea49')\"\n",
              "              title=\"Convert this dataframe to an interactive table.\"\n",
              "              style=\"display:none;\">\n",
              "        \n",
              "  <svg xmlns=\"http://www.w3.org/2000/svg\" height=\"24px\"viewBox=\"0 0 24 24\"\n",
              "       width=\"24px\">\n",
              "    <path d=\"M0 0h24v24H0V0z\" fill=\"none\"/>\n",
              "    <path d=\"M18.56 5.44l.94 2.06.94-2.06 2.06-.94-2.06-.94-.94-2.06-.94 2.06-2.06.94zm-11 1L8.5 8.5l.94-2.06 2.06-.94-2.06-.94L8.5 2.5l-.94 2.06-2.06.94zm10 10l.94 2.06.94-2.06 2.06-.94-2.06-.94-.94-2.06-.94 2.06-2.06.94z\"/><path d=\"M17.41 7.96l-1.37-1.37c-.4-.4-.92-.59-1.43-.59-.52 0-1.04.2-1.43.59L10.3 9.45l-7.72 7.72c-.78.78-.78 2.05 0 2.83L4 21.41c.39.39.9.59 1.41.59.51 0 1.02-.2 1.41-.59l7.78-7.78 2.81-2.81c.8-.78.8-2.07 0-2.86zM5.41 20L4 18.59l7.72-7.72 1.47 1.35L5.41 20z\"/>\n",
              "  </svg>\n",
              "      </button>\n",
              "      \n",
              "  <style>\n",
              "    .colab-df-container {\n",
              "      display:flex;\n",
              "      flex-wrap:wrap;\n",
              "      gap: 12px;\n",
              "    }\n",
              "\n",
              "    .colab-df-convert {\n",
              "      background-color: #E8F0FE;\n",
              "      border: none;\n",
              "      border-radius: 50%;\n",
              "      cursor: pointer;\n",
              "      display: none;\n",
              "      fill: #1967D2;\n",
              "      height: 32px;\n",
              "      padding: 0 0 0 0;\n",
              "      width: 32px;\n",
              "    }\n",
              "\n",
              "    .colab-df-convert:hover {\n",
              "      background-color: #E2EBFA;\n",
              "      box-shadow: 0px 1px 2px rgba(60, 64, 67, 0.3), 0px 1px 3px 1px rgba(60, 64, 67, 0.15);\n",
              "      fill: #174EA6;\n",
              "    }\n",
              "\n",
              "    [theme=dark] .colab-df-convert {\n",
              "      background-color: #3B4455;\n",
              "      fill: #D2E3FC;\n",
              "    }\n",
              "\n",
              "    [theme=dark] .colab-df-convert:hover {\n",
              "      background-color: #434B5C;\n",
              "      box-shadow: 0px 1px 3px 1px rgba(0, 0, 0, 0.15);\n",
              "      filter: drop-shadow(0px 1px 2px rgba(0, 0, 0, 0.3));\n",
              "      fill: #FFFFFF;\n",
              "    }\n",
              "  </style>\n",
              "\n",
              "      <script>\n",
              "        const buttonEl =\n",
              "          document.querySelector('#df-203acb2c-6e4d-459b-9a70-c82634aeea49 button.colab-df-convert');\n",
              "        buttonEl.style.display =\n",
              "          google.colab.kernel.accessAllowed ? 'block' : 'none';\n",
              "\n",
              "        async function convertToInteractive(key) {\n",
              "          const element = document.querySelector('#df-203acb2c-6e4d-459b-9a70-c82634aeea49');\n",
              "          const dataTable =\n",
              "            await google.colab.kernel.invokeFunction('convertToInteractive',\n",
              "                                                     [key], {});\n",
              "          if (!dataTable) return;\n",
              "\n",
              "          const docLinkHtml = 'Like what you see? Visit the ' +\n",
              "            '<a target=\"_blank\" href=https://colab.research.google.com/notebooks/data_table.ipynb>data table notebook</a>'\n",
              "            + ' to learn more about interactive tables.';\n",
              "          element.innerHTML = '';\n",
              "          dataTable['output_type'] = 'display_data';\n",
              "          await google.colab.output.renderOutput(dataTable, element);\n",
              "          const docLink = document.createElement('div');\n",
              "          docLink.innerHTML = docLinkHtml;\n",
              "          element.appendChild(docLink);\n",
              "        }\n",
              "      </script>\n",
              "    </div>\n",
              "  </div>\n",
              "  "
            ]
          },
          "metadata": {},
          "execution_count": 55
        }
      ]
    },
    {
      "cell_type": "markdown",
      "source": [
        "***Признаки(25):***\n",
        "\n",
        "**Gender**: Пол пассажиров (женщина, мужчина)\n",
        "\n",
        "**Customer type**: Тип клиента (Лояльный клиент, нелояльный клиент)\n",
        "\n",
        "**Age**: Фактический возраст пассажиров\n",
        "\n",
        "**Type of Travel**: Цель полета пассажиров (Личные поездки, Деловые поездки)\n",
        "\n",
        "**Class**: Класс обслуживания в самолете пассажиров (Бизнес, Эко, Эко Плюс)\n",
        "\n",
        "**Flight Distance**: Дальность полета этого путешествия\n",
        "\n",
        "**Inflight wifi service**: Уровень удовлетворенности услугой Wi-Fi на борту (0:Неприменимо;1-5)\n",
        "\n",
        "**Departure/Arrival time convenient**: Удобный уровень удовлетворенности временем вылета/прилета\n",
        "\n",
        "**Ease of Online boarding**: Уровень удовлетворенности онлайн-бронированием\n",
        "\n",
        "**Gate location**: Уровень удовлетворенности расположением ворот\n",
        "\n",
        "**Food and drink**: Уровень удовлетворенности едой и напитками\n",
        "\n",
        "**Online boarding**: Уровень удовлетворенности онлайн-посадкой\n",
        "\n",
        "**Seat comfort**: Уровень удовлетворенности комфортом сидений\n",
        "\n",
        "**Inflight entertainment**: Уровень удовлетворенности развлечениями на борту\n",
        "\n",
        "**On-board service**: Уровень удовлетворенности обслуживанием на борту\n",
        "\n",
        "**Leg room service**: Уровень удовлетворенности обслуживанием leg room\n",
        "\n",
        "**Baggage handling**: Уровень удовлетворенности обработкой багажа\n",
        "\n",
        "**Checkin service**: Уровень удовлетворенности услугой check-in\n",
        "\n",
        "**Inflight service**: Уровень удовлетворенности обслуживанием на борту\n",
        "\n",
        "**Cleanliness**: Уровень удовлетворенности чистотой\n",
        "\n",
        "**Departure Delay in Minutes**: Минуты задержки при отъезде\n",
        "\n",
        "**Arrival Delay in Minutes**: Минуты задержки при заезде\n",
        "\n",
        "**satisfaction**: Уровень удовлетворенности авиакомпании (удовлетворенность, нейтральность или неудовлетворенность)"
      ],
      "metadata": {
        "id": "kXFA5gKAiyLD"
      }
    },
    {
      "cell_type": "markdown",
      "source": [
        "Выведем информацию о столбцах, чтобы узнать тип значений в них:"
      ],
      "metadata": {
        "id": "yN38SO5ck3rl"
      }
    },
    {
      "cell_type": "code",
      "source": [
        "data_raw.info()"
      ],
      "metadata": {
        "colab": {
          "base_uri": "https://localhost:8080/"
        },
        "id": "Yph2SwOLjLOf",
        "outputId": "1e62412d-f456-4bb3-e9d9-2b284e3a3bce"
      },
      "execution_count": 56,
      "outputs": [
        {
          "output_type": "stream",
          "name": "stdout",
          "text": [
            "<class 'pandas.core.frame.DataFrame'>\n",
            "RangeIndex: 103904 entries, 0 to 103903\n",
            "Data columns (total 25 columns):\n",
            " #   Column                             Non-Null Count   Dtype  \n",
            "---  ------                             --------------   -----  \n",
            " 0   Unnamed: 0                         103904 non-null  int64  \n",
            " 1   id                                 103904 non-null  int64  \n",
            " 2   Gender                             103904 non-null  object \n",
            " 3   Customer Type                      103904 non-null  object \n",
            " 4   Age                                103901 non-null  float64\n",
            " 5   Type of Travel                     103901 non-null  object \n",
            " 6   Class                              103898 non-null  object \n",
            " 7   Flight Distance                    103902 non-null  float64\n",
            " 8   Inflight wifi service              103904 non-null  int64  \n",
            " 9   Departure/Arrival time convenient  103904 non-null  int64  \n",
            " 10  Ease of Online booking             103903 non-null  float64\n",
            " 11  Gate location                      103904 non-null  int64  \n",
            " 12  Food and drink                     103904 non-null  int64  \n",
            " 13  Online boarding                    103902 non-null  float64\n",
            " 14  Seat comfort                       103903 non-null  float64\n",
            " 15  Inflight entertainment             103903 non-null  float64\n",
            " 16  On-board service                   103903 non-null  float64\n",
            " 17  Leg room service                   103902 non-null  float64\n",
            " 18  Baggage handling                   103904 non-null  int64  \n",
            " 19  Checkin service                    103903 non-null  float64\n",
            " 20  Inflight service                   103904 non-null  int64  \n",
            " 21  Cleanliness                        103904 non-null  int64  \n",
            " 22  Departure Delay in Minutes         103904 non-null  int64  \n",
            " 23  Arrival Delay in Minutes           103594 non-null  float64\n",
            " 24  satisfaction                       103899 non-null  object \n",
            "dtypes: float64(10), int64(10), object(5)\n",
            "memory usage: 19.8+ MB\n"
          ]
        }
      ]
    },
    {
      "cell_type": "markdown",
      "source": [
        "Имена ячеек:"
      ],
      "metadata": {
        "id": "4UH4Hh7ZpkS1"
      }
    },
    {
      "cell_type": "code",
      "source": [
        "data_raw.columns"
      ],
      "metadata": {
        "colab": {
          "base_uri": "https://localhost:8080/"
        },
        "id": "edGM3ggTplOW",
        "outputId": "bdaba7f6-a689-416c-9dd0-67974811a6d2"
      },
      "execution_count": 57,
      "outputs": [
        {
          "output_type": "execute_result",
          "data": {
            "text/plain": [
              "Index(['Unnamed: 0', 'id', 'Gender', 'Customer Type', 'Age', 'Type of Travel',\n",
              "       'Class', 'Flight Distance', 'Inflight wifi service',\n",
              "       'Departure/Arrival time convenient', 'Ease of Online booking',\n",
              "       'Gate location', 'Food and drink', 'Online boarding', 'Seat comfort',\n",
              "       'Inflight entertainment', 'On-board service', 'Leg room service',\n",
              "       'Baggage handling', 'Checkin service', 'Inflight service',\n",
              "       'Cleanliness', 'Departure Delay in Minutes', 'Arrival Delay in Minutes',\n",
              "       'satisfaction'],\n",
              "      dtype='object')"
            ]
          },
          "metadata": {},
          "execution_count": 57
        }
      ]
    },
    {
      "cell_type": "code",
      "source": [
        "data_raw.index"
      ],
      "metadata": {
        "colab": {
          "base_uri": "https://localhost:8080/"
        },
        "id": "X08baHVIpsg3",
        "outputId": "47b568e5-1cfe-4c14-8037-acd7754cd437"
      },
      "execution_count": 58,
      "outputs": [
        {
          "output_type": "execute_result",
          "data": {
            "text/plain": [
              "RangeIndex(start=0, stop=103904, step=1)"
            ]
          },
          "metadata": {},
          "execution_count": 58
        }
      ]
    },
    {
      "cell_type": "markdown",
      "source": [
        "***Обработка пропущенных значений***"
      ],
      "metadata": {
        "id": "lP2dRTyLp1iP"
      }
    },
    {
      "cell_type": "code",
      "source": [
        "categorical_columns = [c for c in data_raw.columns if data_raw[c].dtype.name == 'object']\n",
        "numerical_columns   = [c for c in data_raw.columns if data_raw[c].dtype.name != 'object']\n",
        "print(categorical_columns)\n",
        "print(numerical_columns)"
      ],
      "metadata": {
        "colab": {
          "base_uri": "https://localhost:8080/"
        },
        "id": "O8D36g8vp3RC",
        "outputId": "12441d21-93a5-46a5-c834-7731af862350"
      },
      "execution_count": 59,
      "outputs": [
        {
          "output_type": "stream",
          "name": "stdout",
          "text": [
            "['Gender', 'Customer Type', 'Type of Travel', 'Class', 'satisfaction']\n",
            "['Unnamed: 0', 'id', 'Age', 'Flight Distance', 'Inflight wifi service', 'Departure/Arrival time convenient', 'Ease of Online booking', 'Gate location', 'Food and drink', 'Online boarding', 'Seat comfort', 'Inflight entertainment', 'On-board service', 'Leg room service', 'Baggage handling', 'Checkin service', 'Inflight service', 'Cleanliness', 'Departure Delay in Minutes', 'Arrival Delay in Minutes']\n"
          ]
        }
      ]
    },
    {
      "cell_type": "markdown",
      "source": [
        "Исследуем категориальные и количественные данные на наличие пустых значений и обработаем их"
      ],
      "metadata": {
        "id": "YvdRn4W2qFv8"
      }
    },
    {
      "cell_type": "code",
      "source": [
        "data_raw[categorical_columns].count(axis = 0)"
      ],
      "metadata": {
        "colab": {
          "base_uri": "https://localhost:8080/"
        },
        "id": "Zt_ehg3gqS_R",
        "outputId": "16d67c13-ec79-4dc2-e630-ec9e887f050b"
      },
      "execution_count": 60,
      "outputs": [
        {
          "output_type": "execute_result",
          "data": {
            "text/plain": [
              "Gender            103904\n",
              "Customer Type     103904\n",
              "Type of Travel    103901\n",
              "Class             103898\n",
              "satisfaction      103899\n",
              "dtype: int64"
            ]
          },
          "metadata": {},
          "execution_count": 60
        }
      ]
    },
    {
      "cell_type": "markdown",
      "source": [
        "Пропущенные значения в категориальных данных заполним популярными данными."
      ],
      "metadata": {
        "id": "TSYa3f6hqnG4"
      }
    },
    {
      "cell_type": "code",
      "source": [
        "data_raw['Gender'] = data_raw['Gender'].fillna(data_raw['Gender'].describe().top)\n",
        "data_raw['Customer Type'] = data_raw['Customer Type'].fillna(data_raw['Customer Type'].describe().top)\n",
        "data_raw['Type of Travel'] = data_raw['Type of Travel'].fillna(data_raw['Type of Travel'].describe().top)\n",
        "data_raw['Class'] = data_raw['Class'].fillna(data_raw['Class'].describe().top)\n",
        "data_raw['satisfaction'] = data_raw['satisfaction'].fillna(data_raw['satisfaction'].describe().top)"
      ],
      "metadata": {
        "id": "IwSYgwrhq2Bm"
      },
      "execution_count": 61,
      "outputs": []
    },
    {
      "cell_type": "code",
      "source": [
        "data_raw[categorical_columns].count(axis = 0)"
      ],
      "metadata": {
        "colab": {
          "base_uri": "https://localhost:8080/"
        },
        "id": "wgq94fEzs8Rs",
        "outputId": "b9d48d6f-14bc-4d14-8c50-55f4590394e3"
      },
      "execution_count": 62,
      "outputs": [
        {
          "output_type": "execute_result",
          "data": {
            "text/plain": [
              "Gender            103904\n",
              "Customer Type     103904\n",
              "Type of Travel    103904\n",
              "Class             103904\n",
              "satisfaction      103904\n",
              "dtype: int64"
            ]
          },
          "metadata": {},
          "execution_count": 62
        }
      ]
    },
    {
      "cell_type": "code",
      "source": [
        "data_raw[numerical_columns].count(axis = 0)"
      ],
      "metadata": {
        "colab": {
          "base_uri": "https://localhost:8080/"
        },
        "id": "I0v6c4-ztLBD",
        "outputId": "8a2b9f29-fe57-4bc4-b256-11664522196c"
      },
      "execution_count": 63,
      "outputs": [
        {
          "output_type": "execute_result",
          "data": {
            "text/plain": [
              "Unnamed: 0                           103904\n",
              "id                                   103904\n",
              "Age                                  103901\n",
              "Flight Distance                      103902\n",
              "Inflight wifi service                103904\n",
              "Departure/Arrival time convenient    103904\n",
              "Ease of Online booking               103903\n",
              "Gate location                        103904\n",
              "Food and drink                       103904\n",
              "Online boarding                      103902\n",
              "Seat comfort                         103903\n",
              "Inflight entertainment               103903\n",
              "On-board service                     103903\n",
              "Leg room service                     103902\n",
              "Baggage handling                     103904\n",
              "Checkin service                      103903\n",
              "Inflight service                     103904\n",
              "Cleanliness                          103904\n",
              "Departure Delay in Minutes           103904\n",
              "Arrival Delay in Minutes             103594\n",
              "dtype: int64"
            ]
          },
          "metadata": {},
          "execution_count": 63
        }
      ]
    },
    {
      "cell_type": "markdown",
      "source": [
        "Age заполним медианным значением \n",
        "Flight distance,ease of online boarding,online boarding,seat comfort,inflight entertaiment,on-boarding service,leg room service,checkin service,Arrival Delay in Minutes - средним значением по данному полю, т.к. это в целом не повлияет на определение довольного/недовольного пассажира. \n",
        "                               "
      ],
      "metadata": {
        "id": "wqx7v0C_tR-C"
      }
    },
    {
      "cell_type": "code",
      "source": [
        "data_raw['Age'] = data_raw['Age'].fillna(data_raw['Age'].median(axis = 0), axis = 0)\n",
        "data_raw['Arrival Delay in Minutes'] = data_raw['Arrival Delay in Minutes'].fillna(data_raw['Arrival Delay in Minutes'].median(axis = 0), axis = 0)\n",
        "data_raw['Flight Distance'] = data_raw['Flight Distance'].fillna(data_raw['Flight Distance'].median(axis = 0), axis = 0)\n",
        "data_raw['Ease of Online booking'] = data_raw['Ease of Online booking'].fillna(data_raw['Ease of Online booking'].median(axis = 0), axis = 0)\n",
        "data_raw['Online boarding'] = data_raw['Online boarding'].fillna(data_raw['Online boarding'].median(axis = 0), axis = 0)\n",
        "data_raw['Seat comfort'] = data_raw['Seat comfort'].fillna(data_raw['Seat comfort'].median(axis = 0), axis = 0)\n",
        "data_raw['Inflight entertainment'] = data_raw['Inflight entertainment'].fillna(data_raw['Inflight entertainment'].median(axis = 0), axis = 0)\n",
        "data_raw['On-board service'] = data_raw['On-board service'].fillna(data_raw['On-board service'].median(axis = 0), axis = 0)\n",
        "data_raw['Leg room service'] = data_raw['Leg room service'].fillna(data_raw['Leg room service'].median(axis = 0), axis = 0)\n",
        "data_raw['Checkin service'] = data_raw['Checkin service'].fillna(data_raw['Checkin service'].median(axis = 0), axis = 0)"
      ],
      "metadata": {
        "id": "68XWs3_UttA3"
      },
      "execution_count": 64,
      "outputs": []
    },
    {
      "cell_type": "code",
      "source": [
        "data_raw.info()"
      ],
      "metadata": {
        "colab": {
          "base_uri": "https://localhost:8080/"
        },
        "id": "E5jyHKc8wvRD",
        "outputId": "978cb458-0015-43fc-ab68-90e457cd5a8a"
      },
      "execution_count": 65,
      "outputs": [
        {
          "output_type": "stream",
          "name": "stdout",
          "text": [
            "<class 'pandas.core.frame.DataFrame'>\n",
            "RangeIndex: 103904 entries, 0 to 103903\n",
            "Data columns (total 25 columns):\n",
            " #   Column                             Non-Null Count   Dtype  \n",
            "---  ------                             --------------   -----  \n",
            " 0   Unnamed: 0                         103904 non-null  int64  \n",
            " 1   id                                 103904 non-null  int64  \n",
            " 2   Gender                             103904 non-null  object \n",
            " 3   Customer Type                      103904 non-null  object \n",
            " 4   Age                                103904 non-null  float64\n",
            " 5   Type of Travel                     103904 non-null  object \n",
            " 6   Class                              103904 non-null  object \n",
            " 7   Flight Distance                    103904 non-null  float64\n",
            " 8   Inflight wifi service              103904 non-null  int64  \n",
            " 9   Departure/Arrival time convenient  103904 non-null  int64  \n",
            " 10  Ease of Online booking             103904 non-null  float64\n",
            " 11  Gate location                      103904 non-null  int64  \n",
            " 12  Food and drink                     103904 non-null  int64  \n",
            " 13  Online boarding                    103904 non-null  float64\n",
            " 14  Seat comfort                       103904 non-null  float64\n",
            " 15  Inflight entertainment             103904 non-null  float64\n",
            " 16  On-board service                   103904 non-null  float64\n",
            " 17  Leg room service                   103904 non-null  float64\n",
            " 18  Baggage handling                   103904 non-null  int64  \n",
            " 19  Checkin service                    103904 non-null  float64\n",
            " 20  Inflight service                   103904 non-null  int64  \n",
            " 21  Cleanliness                        103904 non-null  int64  \n",
            " 22  Departure Delay in Minutes         103904 non-null  int64  \n",
            " 23  Arrival Delay in Minutes           103904 non-null  float64\n",
            " 24  satisfaction                       103904 non-null  object \n",
            "dtypes: float64(10), int64(10), object(5)\n",
            "memory usage: 19.8+ MB\n"
          ]
        }
      ]
    },
    {
      "cell_type": "markdown",
      "source": [
        "***Обработка категориальных значений***\n",
        "\n",
        "Столбцы ['Gender', 'Customer Type', 'Type of Travel', 'Class', 'satisfaction'] содержат категориальные признаки. Необходимо заменить их тип 'Object' на специальный, предназначенный для хранения категориальных значений"
      ],
      "metadata": {
        "id": "fggUWB_SwzMW"
      }
    },
    {
      "cell_type": "code",
      "source": [
        "data_raw['Gender'] = data_raw['Gender'].astype('category')\n",
        "data_raw['Gender'].dtype"
      ],
      "metadata": {
        "colab": {
          "base_uri": "https://localhost:8080/"
        },
        "id": "Bs7gcDPbypun",
        "outputId": "460629ce-5539-4550-9920-ef3a87ceead6"
      },
      "execution_count": 66,
      "outputs": [
        {
          "output_type": "execute_result",
          "data": {
            "text/plain": [
              "CategoricalDtype(categories=['Female', 'Male'], ordered=False)"
            ]
          },
          "metadata": {},
          "execution_count": 66
        }
      ]
    },
    {
      "cell_type": "code",
      "source": [
        "data_raw.info()"
      ],
      "metadata": {
        "colab": {
          "base_uri": "https://localhost:8080/"
        },
        "id": "ISVAmvAcHgaE",
        "outputId": "e9b6a0d0-c243-40a2-bc2b-8c57643121ed"
      },
      "execution_count": 67,
      "outputs": [
        {
          "output_type": "stream",
          "name": "stdout",
          "text": [
            "<class 'pandas.core.frame.DataFrame'>\n",
            "RangeIndex: 103904 entries, 0 to 103903\n",
            "Data columns (total 25 columns):\n",
            " #   Column                             Non-Null Count   Dtype   \n",
            "---  ------                             --------------   -----   \n",
            " 0   Unnamed: 0                         103904 non-null  int64   \n",
            " 1   id                                 103904 non-null  int64   \n",
            " 2   Gender                             103904 non-null  category\n",
            " 3   Customer Type                      103904 non-null  object  \n",
            " 4   Age                                103904 non-null  float64 \n",
            " 5   Type of Travel                     103904 non-null  object  \n",
            " 6   Class                              103904 non-null  object  \n",
            " 7   Flight Distance                    103904 non-null  float64 \n",
            " 8   Inflight wifi service              103904 non-null  int64   \n",
            " 9   Departure/Arrival time convenient  103904 non-null  int64   \n",
            " 10  Ease of Online booking             103904 non-null  float64 \n",
            " 11  Gate location                      103904 non-null  int64   \n",
            " 12  Food and drink                     103904 non-null  int64   \n",
            " 13  Online boarding                    103904 non-null  float64 \n",
            " 14  Seat comfort                       103904 non-null  float64 \n",
            " 15  Inflight entertainment             103904 non-null  float64 \n",
            " 16  On-board service                   103904 non-null  float64 \n",
            " 17  Leg room service                   103904 non-null  float64 \n",
            " 18  Baggage handling                   103904 non-null  int64   \n",
            " 19  Checkin service                    103904 non-null  float64 \n",
            " 20  Inflight service                   103904 non-null  int64   \n",
            " 21  Cleanliness                        103904 non-null  int64   \n",
            " 22  Departure Delay in Minutes         103904 non-null  int64   \n",
            " 23  Arrival Delay in Minutes           103904 non-null  float64 \n",
            " 24  satisfaction                       103904 non-null  object  \n",
            "dtypes: category(1), float64(10), int64(10), object(4)\n",
            "memory usage: 19.1+ MB\n"
          ]
        }
      ]
    },
    {
      "cell_type": "code",
      "source": [
        "data_raw['Customer Type'] = data_raw['Customer Type'].astype('category')\n",
        "data_raw['Customer Type'].dtype"
      ],
      "metadata": {
        "colab": {
          "base_uri": "https://localhost:8080/"
        },
        "id": "myJCj5gVyx6F",
        "outputId": "2060797a-43ea-4b0f-f6ae-5e349f6776c4"
      },
      "execution_count": 68,
      "outputs": [
        {
          "output_type": "execute_result",
          "data": {
            "text/plain": [
              "CategoricalDtype(categories=['Loyal Customer', 'disloyal Customer'], ordered=False)"
            ]
          },
          "metadata": {},
          "execution_count": 68
        }
      ]
    },
    {
      "cell_type": "code",
      "source": [
        "data_raw.info()"
      ],
      "metadata": {
        "colab": {
          "base_uri": "https://localhost:8080/"
        },
        "id": "0h4780DUHnOc",
        "outputId": "bdbfbb26-3d13-43e9-9b68-1107adbda99b"
      },
      "execution_count": 69,
      "outputs": [
        {
          "output_type": "stream",
          "name": "stdout",
          "text": [
            "<class 'pandas.core.frame.DataFrame'>\n",
            "RangeIndex: 103904 entries, 0 to 103903\n",
            "Data columns (total 25 columns):\n",
            " #   Column                             Non-Null Count   Dtype   \n",
            "---  ------                             --------------   -----   \n",
            " 0   Unnamed: 0                         103904 non-null  int64   \n",
            " 1   id                                 103904 non-null  int64   \n",
            " 2   Gender                             103904 non-null  category\n",
            " 3   Customer Type                      103904 non-null  category\n",
            " 4   Age                                103904 non-null  float64 \n",
            " 5   Type of Travel                     103904 non-null  object  \n",
            " 6   Class                              103904 non-null  object  \n",
            " 7   Flight Distance                    103904 non-null  float64 \n",
            " 8   Inflight wifi service              103904 non-null  int64   \n",
            " 9   Departure/Arrival time convenient  103904 non-null  int64   \n",
            " 10  Ease of Online booking             103904 non-null  float64 \n",
            " 11  Gate location                      103904 non-null  int64   \n",
            " 12  Food and drink                     103904 non-null  int64   \n",
            " 13  Online boarding                    103904 non-null  float64 \n",
            " 14  Seat comfort                       103904 non-null  float64 \n",
            " 15  Inflight entertainment             103904 non-null  float64 \n",
            " 16  On-board service                   103904 non-null  float64 \n",
            " 17  Leg room service                   103904 non-null  float64 \n",
            " 18  Baggage handling                   103904 non-null  int64   \n",
            " 19  Checkin service                    103904 non-null  float64 \n",
            " 20  Inflight service                   103904 non-null  int64   \n",
            " 21  Cleanliness                        103904 non-null  int64   \n",
            " 22  Departure Delay in Minutes         103904 non-null  int64   \n",
            " 23  Arrival Delay in Minutes           103904 non-null  float64 \n",
            " 24  satisfaction                       103904 non-null  object  \n",
            "dtypes: category(2), float64(10), int64(10), object(3)\n",
            "memory usage: 18.4+ MB\n"
          ]
        }
      ]
    },
    {
      "cell_type": "code",
      "source": [
        "data_raw['Type of Travel'] = data_raw['Type of Travel'].astype('category')\n",
        "data_raw['Type of Travel'].dtype"
      ],
      "metadata": {
        "colab": {
          "base_uri": "https://localhost:8080/"
        },
        "id": "1-U8Nmhny3D5",
        "outputId": "f2b8039e-8cd7-4ec8-ec23-5462cdb5abe3"
      },
      "execution_count": 70,
      "outputs": [
        {
          "output_type": "execute_result",
          "data": {
            "text/plain": [
              "CategoricalDtype(categories=['Business travel', 'Personal Travel'], ordered=False)"
            ]
          },
          "metadata": {},
          "execution_count": 70
        }
      ]
    },
    {
      "cell_type": "code",
      "source": [
        "data_raw['Class'] = data_raw['Class'].astype('category')\n",
        "data_raw['Class'].dtype"
      ],
      "metadata": {
        "colab": {
          "base_uri": "https://localhost:8080/"
        },
        "id": "S62HVgpzze5Q",
        "outputId": "a4c5265f-c456-4a9b-ffaf-6774f1f724de"
      },
      "execution_count": 71,
      "outputs": [
        {
          "output_type": "execute_result",
          "data": {
            "text/plain": [
              "CategoricalDtype(categories=['Business', 'Eco', 'Eco Plus'], ordered=False)"
            ]
          },
          "metadata": {},
          "execution_count": 71
        }
      ]
    },
    {
      "cell_type": "code",
      "source": [
        "#data_raw['satisfaction'] = data_raw['satisfaction'].astype('category')\n",
        "#data_raw['satisfaction'].dtype\n",
        "data_=data_raw['satisfaction']\n",
        "data_raw.drop('satisfaction', axis=1, inplace=True)"
      ],
      "metadata": {
        "id": "p-vp4mwjzkNL"
      },
      "execution_count": 72,
      "outputs": []
    },
    {
      "cell_type": "markdown",
      "source": [
        "**Обработка выбросов**"
      ],
      "metadata": {
        "id": "oQl7mKgE3AcX"
      }
    },
    {
      "cell_type": "markdown",
      "source": [
        "Проверим зависимость дальности полета от возраста пассажира"
      ],
      "metadata": {
        "id": "gwGSmf__73Kt"
      }
    },
    {
      "cell_type": "code",
      "source": [
        "plt.scatter(data_raw['Flight Distance'], data_raw['Age'], alpha=1)\n",
        "plt.xlabel('Flight Distance')\n",
        "plt.ylabel('Age')\n",
        "pass"
      ],
      "metadata": {
        "colab": {
          "base_uri": "https://localhost:8080/",
          "height": 279
        },
        "id": "nfnM2-E14u0r",
        "outputId": "7842c341-b9af-4e3f-e686-f2e948d81080"
      },
      "execution_count": 73,
      "outputs": [
        {
          "output_type": "display_data",
          "data": {
            "text/plain": [
              "<Figure size 432x288 with 1 Axes>"
            ],
            "image/png": "[encoded data removed]"
          },
          "metadata": {
            "needs_background": "light"
          }
        }
      ]
    },
    {
      "cell_type": "markdown",
      "source": [
        "Заметно, что основное количество точек находится в общей массе, но некоторые значения выходят из определенного диапазона значений(выбрасываются)"
      ],
      "metadata": {
        "id": "J4UkIvZ48KYI"
      }
    },
    {
      "cell_type": "markdown",
      "source": [
        "Проверим зависимость дальности полета от задержки рейса в минутах"
      ],
      "metadata": {
        "id": "8DrbhwHc8CEg"
      }
    },
    {
      "cell_type": "code",
      "source": [
        "plt.scatter(data_raw['Flight Distance'], data_raw['Arrival Delay in Minutes'], alpha=1)\n",
        "plt.xlabel('Flight Distance')\n",
        "plt.ylabel('Arrival Delay in Minutes')\n",
        "pass"
      ],
      "metadata": {
        "colab": {
          "base_uri": "https://localhost:8080/",
          "height": 279
        },
        "id": "5b69Lp2C6Qln",
        "outputId": "e75cccd6-9e7d-4a96-8aca-f1f10fd9dbe8"
      },
      "execution_count": 74,
      "outputs": [
        {
          "output_type": "display_data",
          "data": {
            "text/plain": [
              "<Figure size 432x288 with 1 Axes>"
            ],
            "image/png": "[encoded data removed]"
          },
          "metadata": {
            "needs_background": "light"
          }
        }
      ]
    },
    {
      "cell_type": "markdown",
      "source": [
        "Аналогично с предыдущим графиком, присутствуют небольшие выбросы.\n",
        "Для обнаружения выбросов найдем квантили для признаков Arrival Delay in Minutes, Flight Distance и Age!\n"
      ],
      "metadata": {
        "id": "dcwP8tH08b2v"
      }
    },
    {
      "cell_type": "code",
      "source": [
        "data_raw['Flight Distance'].quantile([.1,.5,.70, .90, .95, .999, 1])"
      ],
      "metadata": {
        "colab": {
          "base_uri": "https://localhost:8080/"
        },
        "id": "JD9DvUnU6YHz",
        "outputId": "7c3c3aee-7ddb-43f6-a2a0-03f5d136c42c"
      },
      "execution_count": 75,
      "outputs": [
        {
          "output_type": "execute_result",
          "data": {
            "text/plain": [
              "0.100     236.0\n",
              "0.500     843.0\n",
              "0.700    1513.0\n",
              "0.900    2750.0\n",
              "0.950    3383.0\n",
              "0.999    3995.0\n",
              "1.000    4983.0\n",
              "Name: Flight Distance, dtype: float64"
            ]
          },
          "metadata": {},
          "execution_count": 75
        }
      ]
    },
    {
      "cell_type": "code",
      "source": [
        "data_raw['Age'].quantile([.1,.5,.70, .90, .95, .999, 1])"
      ],
      "metadata": {
        "colab": {
          "base_uri": "https://localhost:8080/"
        },
        "id": "DIPQ1QAJ62cu",
        "outputId": "4506e17d-ebbb-42a0-982c-1e3ea7c2357c"
      },
      "execution_count": 76,
      "outputs": [
        {
          "output_type": "execute_result",
          "data": {
            "text/plain": [
              "0.100    20.0\n",
              "0.500    40.0\n",
              "0.700    48.0\n",
              "0.900    59.0\n",
              "0.950    64.0\n",
              "0.999    79.0\n",
              "1.000    85.0\n",
              "Name: Age, dtype: float64"
            ]
          },
          "metadata": {},
          "execution_count": 76
        }
      ]
    },
    {
      "cell_type": "code",
      "source": [
        "data_raw['Arrival Delay in Minutes'].quantile([.1,.5,.70, .90, .95, .999, 1])"
      ],
      "metadata": {
        "colab": {
          "base_uri": "https://localhost:8080/"
        },
        "id": "a4zAWSez660Y",
        "outputId": "6eadf858-b35d-4250-8e8b-c2ee98dc8677"
      },
      "execution_count": 77,
      "outputs": [
        {
          "output_type": "execute_result",
          "data": {
            "text/plain": [
              "0.100       0.000\n",
              "0.500       0.000\n",
              "0.700       8.000\n",
              "0.900      44.000\n",
              "0.950      79.000\n",
              "0.999     382.097\n",
              "1.000    1584.000\n",
              "Name: Arrival Delay in Minutes, dtype: float64"
            ]
          },
          "metadata": {},
          "execution_count": 77
        }
      ]
    },
    {
      "cell_type": "code",
      "source": [
        "rows_to_drop = data_raw[\n",
        "    (data_raw['Arrival Delay in Minutes'] > data_raw['Arrival Delay in Minutes'].quantile(0.999)) | (data_raw['Flight Distance'] > data_raw['Flight Distance'].quantile(0.999))].index\n",
        "data1 = data_raw.drop(rows_to_drop)"
      ],
      "metadata": {
        "id": "GsV7_as97PaV"
      },
      "execution_count": 78,
      "outputs": []
    },
    {
      "cell_type": "markdown",
      "source": [
        "Избавились от выбросов, заметно по размерности текущего датасета"
      ],
      "metadata": {
        "id": "ZWweGoeP8rqK"
      }
    },
    {
      "cell_type": "code",
      "source": [
        "data1.shape"
      ],
      "metadata": {
        "colab": {
          "base_uri": "https://localhost:8080/"
        },
        "id": "-FJPdKRU7tpk",
        "outputId": "e1e0ce0b-a74f-488d-d1b5-66ae2d0680e2"
      },
      "execution_count": 79,
      "outputs": [
        {
          "output_type": "execute_result",
          "data": {
            "text/plain": [
              "(103701, 24)"
            ]
          },
          "metadata": {},
          "execution_count": 79
        }
      ]
    },
    {
      "cell_type": "markdown",
      "source": [
        "***Визуализация и описательная статистика***"
      ],
      "metadata": {
        "id": "bcQFrZcZ837a"
      }
    },
    {
      "cell_type": "markdown",
      "source": [
        "Приведем описание следующей таблице:\n",
        "25% - первый квартиль\n",
        "50% - второй квартиль\n",
        "75% - третий квартиль\n",
        "count - количество значений для каждого признака\n",
        "mean - среднее значение\n",
        "std - стандартное отклонение\n",
        "min/max - мин / макc значение"
      ],
      "metadata": {
        "id": "ygeOcKcJ9F0f"
      }
    },
    {
      "cell_type": "code",
      "source": [
        "data1.describe()"
      ],
      "metadata": {
        "colab": {
          "base_uri": "https://localhost:8080/",
          "height": 399
        },
        "id": "1NED19Sw87_j",
        "outputId": "1da965f3-e29a-4386-e4c9-139d5a882f7f"
      },
      "execution_count": 80,
      "outputs": [
        {
          "output_type": "execute_result",
          "data": {
            "text/plain": [
              "          Unnamed: 0             id            Age  Flight Distance  \\\n",
              "count  103701.000000  103701.000000  103701.000000    103701.000000   \n",
              "mean    51943.338975   64938.033982      39.383825      1186.273912   \n",
              "std     29994.403661   37474.749898      15.116359       992.677919   \n",
              "min         0.000000       1.000000       7.000000        31.000000   \n",
              "25%     25965.000000   32532.000000      27.000000       413.000000   \n",
              "50%     51937.000000   64889.000000      40.000000       842.000000   \n",
              "75%     77917.000000   97407.000000      51.000000      1739.000000   \n",
              "max    103903.000000  129880.000000      85.000000      3995.000000   \n",
              "\n",
              "       Inflight wifi service  Departure/Arrival time convenient  \\\n",
              "count          103701.000000                      103701.000000   \n",
              "mean                2.729839                           3.060395   \n",
              "std                 1.327882                           1.525156   \n",
              "min                 0.000000                           0.000000   \n",
              "25%                 2.000000                           2.000000   \n",
              "50%                 3.000000                           3.000000   \n",
              "75%                 4.000000                           4.000000   \n",
              "max                 5.000000                           5.000000   \n",
              "\n",
              "       Ease of Online booking  Gate location  Food and drink  Online boarding  \\\n",
              "count           103701.000000  103701.000000   103701.000000    103701.000000   \n",
              "mean                 2.756772       2.976779        3.202361         3.250104   \n",
              "std                  1.398856       1.277579        1.329440         1.349579   \n",
              "min                  0.000000       0.000000        0.000000         0.000000   \n",
              "25%                  2.000000       2.000000        2.000000         2.000000   \n",
              "50%                  3.000000       3.000000        3.000000         3.000000   \n",
              "75%                  4.000000       4.000000        4.000000         4.000000   \n",
              "max                  5.000000       5.000000        5.000000         5.000000   \n",
              "\n",
              "        Seat comfort  Inflight entertainment  On-board service  \\\n",
              "count  103701.000000           103701.000000     103701.000000   \n",
              "mean        3.439350                3.358251          3.382610   \n",
              "std         1.319126                1.333203          1.288291   \n",
              "min         0.000000                0.000000          0.000000   \n",
              "25%         2.000000                2.000000          2.000000   \n",
              "50%         4.000000                4.000000          4.000000   \n",
              "75%         5.000000                4.000000          4.000000   \n",
              "max         5.000000                5.000000          5.000000   \n",
              "\n",
              "       Leg room service  Baggage handling  Checkin service  Inflight service  \\\n",
              "count     103701.000000     103701.000000    103701.000000     103701.000000   \n",
              "mean           3.350479          3.631672         3.304134          3.641045   \n",
              "std            1.315932          1.180921         1.265250          1.175506   \n",
              "min            0.000000          1.000000         0.000000          0.000000   \n",
              "25%            2.000000          3.000000         3.000000          3.000000   \n",
              "50%            4.000000          4.000000         3.000000          4.000000   \n",
              "75%            4.000000          5.000000         4.000000          5.000000   \n",
              "max            5.000000          5.000000         5.000000          5.000000   \n",
              "\n",
              "         Cleanliness  Departure Delay in Minutes  Arrival Delay in Minutes  \n",
              "count  103701.000000               103701.000000             103701.000000  \n",
              "mean        3.286169                   14.327335                 14.631836  \n",
              "std         1.312273                   34.355091                 34.722864  \n",
              "min         0.000000                    0.000000                  0.000000  \n",
              "25%         2.000000                    0.000000                  0.000000  \n",
              "50%         3.000000                    0.000000                  0.000000  \n",
              "75%         4.000000                   12.000000                 13.000000  \n",
              "max         5.000000                  455.000000                382.000000  "
            ],
            "text/html": [
              "\n",
              "  <div id=\"df-44dd4e40-bd3e-4985-b195-7a37e5e31d5f\">\n",
              "    <div class=\"colab-df-container\">\n",
              "      <div>\n",
              "<style scoped>\n",
              "    .dataframe tbody tr th:only-of-type {\n",
              "        vertical-align: middle;\n",
              "    }\n",
              "\n",
              "    .dataframe tbody tr th {\n",
              "        vertical-align: top;\n",
              "    }\n",
              "\n",
              "    .dataframe thead th {\n",
              "        text-align: right;\n",
              "    }\n",
              "</style>\n",
              "<table border=\"1\" class=\"dataframe\">\n",
              "  <thead>\n",
              "    <tr style=\"text-align: right;\">\n",
              "      <th></th>\n",
              "      <th>Unnamed: 0</th>\n",
              "      <th>id</th>\n",
              "      <th>Age</th>\n",
              "      <th>Flight Distance</th>\n",
              "      <th>Inflight wifi service</th>\n",
              "      <th>Departure/Arrival time convenient</th>\n",
              "      <th>Ease of Online booking</th>\n",
              "      <th>Gate location</th>\n",
              "      <th>Food and drink</th>\n",
              "      <th>Online boarding</th>\n",
              "      <th>Seat comfort</th>\n",
              "      <th>Inflight entertainment</th>\n",
              "      <th>On-board service</th>\n",
              "      <th>Leg room service</th>\n",
              "      <th>Baggage handling</th>\n",
              "      <th>Checkin service</th>\n",
              "      <th>Inflight service</th>\n",
              "      <th>Cleanliness</th>\n",
              "      <th>Departure Delay in Minutes</th>\n",
              "      <th>Arrival Delay in Minutes</th>\n",
              "    </tr>\n",
              "  </thead>\n",
              "  <tbody>\n",
              "    <tr>\n",
              "      <th>count</th>\n",
              "      <td>103701.000000</td>\n",
              "      <td>103701.000000</td>\n",
              "      <td>103701.000000</td>\n",
              "      <td>103701.000000</td>\n",
              "      <td>103701.000000</td>\n",
              "      <td>103701.000000</td>\n",
              "      <td>103701.000000</td>\n",
              "      <td>103701.000000</td>\n",
              "      <td>103701.000000</td>\n",
              "      <td>103701.000000</td>\n",
              "      <td>103701.000000</td>\n",
              "      <td>103701.000000</td>\n",
              "      <td>103701.000000</td>\n",
              "      <td>103701.000000</td>\n",
              "      <td>103701.000000</td>\n",
              "      <td>103701.000000</td>\n",
              "      <td>103701.000000</td>\n",
              "      <td>103701.000000</td>\n",
              "      <td>103701.000000</td>\n",
              "      <td>103701.000000</td>\n",
              "    </tr>\n",
              "    <tr>\n",
              "      <th>mean</th>\n",
              "      <td>51943.338975</td>\n",
              "      <td>64938.033982</td>\n",
              "      <td>39.383825</td>\n",
              "      <td>1186.273912</td>\n",
              "      <td>2.729839</td>\n",
              "      <td>3.060395</td>\n",
              "      <td>2.756772</td>\n",
              "      <td>2.976779</td>\n",
              "      <td>3.202361</td>\n",
              "      <td>3.250104</td>\n",
              "      <td>3.439350</td>\n",
              "      <td>3.358251</td>\n",
              "      <td>3.382610</td>\n",
              "      <td>3.350479</td>\n",
              "      <td>3.631672</td>\n",
              "      <td>3.304134</td>\n",
              "      <td>3.641045</td>\n",
              "      <td>3.286169</td>\n",
              "      <td>14.327335</td>\n",
              "      <td>14.631836</td>\n",
              "    </tr>\n",
              "    <tr>\n",
              "      <th>std</th>\n",
              "      <td>29994.403661</td>\n",
              "      <td>37474.749898</td>\n",
              "      <td>15.116359</td>\n",
              "      <td>992.677919</td>\n",
              "      <td>1.327882</td>\n",
              "      <td>1.525156</td>\n",
              "      <td>1.398856</td>\n",
              "      <td>1.277579</td>\n",
              "      <td>1.329440</td>\n",
              "      <td>1.349579</td>\n",
              "      <td>1.319126</td>\n",
              "      <td>1.333203</td>\n",
              "      <td>1.288291</td>\n",
              "      <td>1.315932</td>\n",
              "      <td>1.180921</td>\n",
              "      <td>1.265250</td>\n",
              "      <td>1.175506</td>\n",
              "      <td>1.312273</td>\n",
              "      <td>34.355091</td>\n",
              "      <td>34.722864</td>\n",
              "    </tr>\n",
              "    <tr>\n",
              "      <th>min</th>\n",
              "      <td>0.000000</td>\n",
              "      <td>1.000000</td>\n",
              "      <td>7.000000</td>\n",
              "      <td>31.000000</td>\n",
              "      <td>0.000000</td>\n",
              "      <td>0.000000</td>\n",
              "      <td>0.000000</td>\n",
              "      <td>0.000000</td>\n",
              "      <td>0.000000</td>\n",
              "      <td>0.000000</td>\n",
              "      <td>0.000000</td>\n",
              "      <td>0.000000</td>\n",
              "      <td>0.000000</td>\n",
              "      <td>0.000000</td>\n",
              "      <td>1.000000</td>\n",
              "      <td>0.000000</td>\n",
              "      <td>0.000000</td>\n",
              "      <td>0.000000</td>\n",
              "      <td>0.000000</td>\n",
              "      <td>0.000000</td>\n",
              "    </tr>\n",
              "    <tr>\n",
              "      <th>25%</th>\n",
              "      <td>25965.000000</td>\n",
              "      <td>32532.000000</td>\n",
              "      <td>27.000000</td>\n",
              "      <td>413.000000</td>\n",
              "      <td>2.000000</td>\n",
              "      <td>2.000000</td>\n",
              "      <td>2.000000</td>\n",
              "      <td>2.000000</td>\n",
              "      <td>2.000000</td>\n",
              "      <td>2.000000</td>\n",
              "      <td>2.000000</td>\n",
              "      <td>2.000000</td>\n",
              "      <td>2.000000</td>\n",
              "      <td>2.000000</td>\n",
              "      <td>3.000000</td>\n",
              "      <td>3.000000</td>\n",
              "      <td>3.000000</td>\n",
              "      <td>2.000000</td>\n",
              "      <td>0.000000</td>\n",
              "      <td>0.000000</td>\n",
              "    </tr>\n",
              "    <tr>\n",
              "      <th>50%</th>\n",
              "      <td>51937.000000</td>\n",
              "      <td>64889.000000</td>\n",
              "      <td>40.000000</td>\n",
              "      <td>842.000000</td>\n",
              "      <td>3.000000</td>\n",
              "      <td>3.000000</td>\n",
              "      <td>3.000000</td>\n",
              "      <td>3.000000</td>\n",
              "      <td>3.000000</td>\n",
              "      <td>3.000000</td>\n",
              "      <td>4.000000</td>\n",
              "      <td>4.000000</td>\n",
              "      <td>4.000000</td>\n",
              "      <td>4.000000</td>\n",
              "      <td>4.000000</td>\n",
              "      <td>3.000000</td>\n",
              "      <td>4.000000</td>\n",
              "      <td>3.000000</td>\n",
              "      <td>0.000000</td>\n",
              "      <td>0.000000</td>\n",
              "    </tr>\n",
              "    <tr>\n",
              "      <th>75%</th>\n",
              "      <td>77917.000000</td>\n",
              "      <td>97407.000000</td>\n",
              "      <td>51.000000</td>\n",
              "      <td>1739.000000</td>\n",
              "      <td>4.000000</td>\n",
              "      <td>4.000000</td>\n",
              "      <td>4.000000</td>\n",
              "      <td>4.000000</td>\n",
              "      <td>4.000000</td>\n",
              "      <td>4.000000</td>\n",
              "      <td>5.000000</td>\n",
              "      <td>4.000000</td>\n",
              "      <td>4.000000</td>\n",
              "      <td>4.000000</td>\n",
              "      <td>5.000000</td>\n",
              "      <td>4.000000</td>\n",
              "      <td>5.000000</td>\n",
              "      <td>4.000000</td>\n",
              "      <td>12.000000</td>\n",
              "      <td>13.000000</td>\n",
              "    </tr>\n",
              "    <tr>\n",
              "      <th>max</th>\n",
              "      <td>103903.000000</td>\n",
              "      <td>129880.000000</td>\n",
              "      <td>85.000000</td>\n",
              "      <td>3995.000000</td>\n",
              "      <td>5.000000</td>\n",
              "      <td>5.000000</td>\n",
              "      <td>5.000000</td>\n",
              "      <td>5.000000</td>\n",
              "      <td>5.000000</td>\n",
              "      <td>5.000000</td>\n",
              "      <td>5.000000</td>\n",
              "      <td>5.000000</td>\n",
              "      <td>5.000000</td>\n",
              "      <td>5.000000</td>\n",
              "      <td>5.000000</td>\n",
              "      <td>5.000000</td>\n",
              "      <td>5.000000</td>\n",
              "      <td>5.000000</td>\n",
              "      <td>455.000000</td>\n",
              "      <td>382.000000</td>\n",
              "    </tr>\n",
              "  </tbody>\n",
              "</table>\n",
              "</div>\n",
              "      <button class=\"colab-df-convert\" onclick=\"convertToInteractive('df-44dd4e40-bd3e-4985-b195-7a37e5e31d5f')\"\n",
              "              title=\"Convert this dataframe to an interactive table.\"\n",
              "              style=\"display:none;\">\n",
              "        \n",
              "  <svg xmlns=\"http://www.w3.org/2000/svg\" height=\"24px\"viewBox=\"0 0 24 24\"\n",
              "       width=\"24px\">\n",
              "    <path d=\"M0 0h24v24H0V0z\" fill=\"none\"/>\n",
              "    <path d=\"M18.56 5.44l.94 2.06.94-2.06 2.06-.94-2.06-.94-.94-2.06-.94 2.06-2.06.94zm-11 1L8.5 8.5l.94-2.06 2.06-.94-2.06-.94L8.5 2.5l-.94 2.06-2.06.94zm10 10l.94 2.06.94-2.06 2.06-.94-2.06-.94-.94-2.06-.94 2.06-2.06.94z\"/><path d=\"M17.41 7.96l-1.37-1.37c-.4-.4-.92-.59-1.43-.59-.52 0-1.04.2-1.43.59L10.3 9.45l-7.72 7.72c-.78.78-.78 2.05 0 2.83L4 21.41c.39.39.9.59 1.41.59.51 0 1.02-.2 1.41-.59l7.78-7.78 2.81-2.81c.8-.78.8-2.07 0-2.86zM5.41 20L4 18.59l7.72-7.72 1.47 1.35L5.41 20z\"/>\n",
              "  </svg>\n",
              "      </button>\n",
              "      \n",
              "  <style>\n",
              "    .colab-df-container {\n",
              "      display:flex;\n",
              "      flex-wrap:wrap;\n",
              "      gap: 12px;\n",
              "    }\n",
              "\n",
              "    .colab-df-convert {\n",
              "      background-color: #E8F0FE;\n",
              "      border: none;\n",
              "      border-radius: 50%;\n",
              "      cursor: pointer;\n",
              "      display: none;\n",
              "      fill: #1967D2;\n",
              "      height: 32px;\n",
              "      padding: 0 0 0 0;\n",
              "      width: 32px;\n",
              "    }\n",
              "\n",
              "    .colab-df-convert:hover {\n",
              "      background-color: #E2EBFA;\n",
              "      box-shadow: 0px 1px 2px rgba(60, 64, 67, 0.3), 0px 1px 3px 1px rgba(60, 64, 67, 0.15);\n",
              "      fill: #174EA6;\n",
              "    }\n",
              "\n",
              "    [theme=dark] .colab-df-convert {\n",
              "      background-color: #3B4455;\n",
              "      fill: #D2E3FC;\n",
              "    }\n",
              "\n",
              "    [theme=dark] .colab-df-convert:hover {\n",
              "      background-color: #434B5C;\n",
              "      box-shadow: 0px 1px 3px 1px rgba(0, 0, 0, 0.15);\n",
              "      filter: drop-shadow(0px 1px 2px rgba(0, 0, 0, 0.3));\n",
              "      fill: #FFFFFF;\n",
              "    }\n",
              "  </style>\n",
              "\n",
              "      <script>\n",
              "        const buttonEl =\n",
              "          document.querySelector('#df-44dd4e40-bd3e-4985-b195-7a37e5e31d5f button.colab-df-convert');\n",
              "        buttonEl.style.display =\n",
              "          google.colab.kernel.accessAllowed ? 'block' : 'none';\n",
              "\n",
              "        async function convertToInteractive(key) {\n",
              "          const element = document.querySelector('#df-44dd4e40-bd3e-4985-b195-7a37e5e31d5f');\n",
              "          const dataTable =\n",
              "            await google.colab.kernel.invokeFunction('convertToInteractive',\n",
              "                                                     [key], {});\n",
              "          if (!dataTable) return;\n",
              "\n",
              "          const docLinkHtml = 'Like what you see? Visit the ' +\n",
              "            '<a target=\"_blank\" href=https://colab.research.google.com/notebooks/data_table.ipynb>data table notebook</a>'\n",
              "            + ' to learn more about interactive tables.';\n",
              "          element.innerHTML = '';\n",
              "          dataTable['output_type'] = 'display_data';\n",
              "          await google.colab.output.renderOutput(dataTable, element);\n",
              "          const docLink = document.createElement('div');\n",
              "          docLink.innerHTML = docLinkHtml;\n",
              "          element.appendChild(docLink);\n",
              "        }\n",
              "      </script>\n",
              "    </div>\n",
              "  </div>\n",
              "  "
            ]
          },
          "metadata": {},
          "execution_count": 80
        }
      ]
    },
    {
      "cell_type": "code",
      "source": [
        "data1.describe(include=['category'])"
      ],
      "metadata": {
        "colab": {
          "base_uri": "https://localhost:8080/",
          "height": 175
        },
        "id": "DIL6Is1m9Zms",
        "outputId": "54d6b9f0-1906-4722-d3de-33ca644ec161"
      },
      "execution_count": 81,
      "outputs": [
        {
          "output_type": "execute_result",
          "data": {
            "text/plain": [
              "        Gender   Customer Type   Type of Travel     Class\n",
              "count   103701          103701           103701    103701\n",
              "unique       2               2                2         3\n",
              "top     Female  Loyal Customer  Business travel  Business\n",
              "freq     52631           84749            71504     49550"
            ],
            "text/html": [
              "\n",
              "  <div id=\"df-dae83277-4061-42ea-a7f9-4dc232941da4\">\n",
              "    <div class=\"colab-df-container\">\n",
              "      <div>\n",
              "<style scoped>\n",
              "    .dataframe tbody tr th:only-of-type {\n",
              "        vertical-align: middle;\n",
              "    }\n",
              "\n",
              "    .dataframe tbody tr th {\n",
              "        vertical-align: top;\n",
              "    }\n",
              "\n",
              "    .dataframe thead th {\n",
              "        text-align: right;\n",
              "    }\n",
              "</style>\n",
              "<table border=\"1\" class=\"dataframe\">\n",
              "  <thead>\n",
              "    <tr style=\"text-align: right;\">\n",
              "      <th></th>\n",
              "      <th>Gender</th>\n",
              "      <th>Customer Type</th>\n",
              "      <th>Type of Travel</th>\n",
              "      <th>Class</th>\n",
              "    </tr>\n",
              "  </thead>\n",
              "  <tbody>\n",
              "    <tr>\n",
              "      <th>count</th>\n",
              "      <td>103701</td>\n",
              "      <td>103701</td>\n",
              "      <td>103701</td>\n",
              "      <td>103701</td>\n",
              "    </tr>\n",
              "    <tr>\n",
              "      <th>unique</th>\n",
              "      <td>2</td>\n",
              "      <td>2</td>\n",
              "      <td>2</td>\n",
              "      <td>3</td>\n",
              "    </tr>\n",
              "    <tr>\n",
              "      <th>top</th>\n",
              "      <td>Female</td>\n",
              "      <td>Loyal Customer</td>\n",
              "      <td>Business travel</td>\n",
              "      <td>Business</td>\n",
              "    </tr>\n",
              "    <tr>\n",
              "      <th>freq</th>\n",
              "      <td>52631</td>\n",
              "      <td>84749</td>\n",
              "      <td>71504</td>\n",
              "      <td>49550</td>\n",
              "    </tr>\n",
              "  </tbody>\n",
              "</table>\n",
              "</div>\n",
              "      <button class=\"colab-df-convert\" onclick=\"convertToInteractive('df-dae83277-4061-42ea-a7f9-4dc232941da4')\"\n",
              "              title=\"Convert this dataframe to an interactive table.\"\n",
              "              style=\"display:none;\">\n",
              "        \n",
              "  <svg xmlns=\"http://www.w3.org/2000/svg\" height=\"24px\"viewBox=\"0 0 24 24\"\n",
              "       width=\"24px\">\n",
              "    <path d=\"M0 0h24v24H0V0z\" fill=\"none\"/>\n",
              "    <path d=\"M18.56 5.44l.94 2.06.94-2.06 2.06-.94-2.06-.94-.94-2.06-.94 2.06-2.06.94zm-11 1L8.5 8.5l.94-2.06 2.06-.94-2.06-.94L8.5 2.5l-.94 2.06-2.06.94zm10 10l.94 2.06.94-2.06 2.06-.94-2.06-.94-.94-2.06-.94 2.06-2.06.94z\"/><path d=\"M17.41 7.96l-1.37-1.37c-.4-.4-.92-.59-1.43-.59-.52 0-1.04.2-1.43.59L10.3 9.45l-7.72 7.72c-.78.78-.78 2.05 0 2.83L4 21.41c.39.39.9.59 1.41.59.51 0 1.02-.2 1.41-.59l7.78-7.78 2.81-2.81c.8-.78.8-2.07 0-2.86zM5.41 20L4 18.59l7.72-7.72 1.47 1.35L5.41 20z\"/>\n",
              "  </svg>\n",
              "      </button>\n",
              "      \n",
              "  <style>\n",
              "    .colab-df-container {\n",
              "      display:flex;\n",
              "      flex-wrap:wrap;\n",
              "      gap: 12px;\n",
              "    }\n",
              "\n",
              "    .colab-df-convert {\n",
              "      background-color: #E8F0FE;\n",
              "      border: none;\n",
              "      border-radius: 50%;\n",
              "      cursor: pointer;\n",
              "      display: none;\n",
              "      fill: #1967D2;\n",
              "      height: 32px;\n",
              "      padding: 0 0 0 0;\n",
              "      width: 32px;\n",
              "    }\n",
              "\n",
              "    .colab-df-convert:hover {\n",
              "      background-color: #E2EBFA;\n",
              "      box-shadow: 0px 1px 2px rgba(60, 64, 67, 0.3), 0px 1px 3px 1px rgba(60, 64, 67, 0.15);\n",
              "      fill: #174EA6;\n",
              "    }\n",
              "\n",
              "    [theme=dark] .colab-df-convert {\n",
              "      background-color: #3B4455;\n",
              "      fill: #D2E3FC;\n",
              "    }\n",
              "\n",
              "    [theme=dark] .colab-df-convert:hover {\n",
              "      background-color: #434B5C;\n",
              "      box-shadow: 0px 1px 3px 1px rgba(0, 0, 0, 0.15);\n",
              "      filter: drop-shadow(0px 1px 2px rgba(0, 0, 0, 0.3));\n",
              "      fill: #FFFFFF;\n",
              "    }\n",
              "  </style>\n",
              "\n",
              "      <script>\n",
              "        const buttonEl =\n",
              "          document.querySelector('#df-dae83277-4061-42ea-a7f9-4dc232941da4 button.colab-df-convert');\n",
              "        buttonEl.style.display =\n",
              "          google.colab.kernel.accessAllowed ? 'block' : 'none';\n",
              "\n",
              "        async function convertToInteractive(key) {\n",
              "          const element = document.querySelector('#df-dae83277-4061-42ea-a7f9-4dc232941da4');\n",
              "          const dataTable =\n",
              "            await google.colab.kernel.invokeFunction('convertToInteractive',\n",
              "                                                     [key], {});\n",
              "          if (!dataTable) return;\n",
              "\n",
              "          const docLinkHtml = 'Like what you see? Visit the ' +\n",
              "            '<a target=\"_blank\" href=https://colab.research.google.com/notebooks/data_table.ipynb>data table notebook</a>'\n",
              "            + ' to learn more about interactive tables.';\n",
              "          element.innerHTML = '';\n",
              "          dataTable['output_type'] = 'display_data';\n",
              "          await google.colab.output.renderOutput(dataTable, element);\n",
              "          const docLink = document.createElement('div');\n",
              "          docLink.innerHTML = docLinkHtml;\n",
              "          element.appendChild(docLink);\n",
              "        }\n",
              "      </script>\n",
              "    </div>\n",
              "  </div>\n",
              "  "
            ]
          },
          "metadata": {},
          "execution_count": 81
        }
      ]
    },
    {
      "cell_type": "markdown",
      "source": [
        "Для категориальных признаков мы получили:\n",
        "\n",
        "top - наиболее встречающееся значение;\n",
        "\n",
        "freq - частота наиболее встречающегося значения;\n",
        "\n",
        "count - количество значений;\n",
        "\n",
        "unique - количество уникальных значений;\n",
        "\n"
      ],
      "metadata": {
        "id": "reR8Nkp29iGP"
      }
    },
    {
      "cell_type": "markdown",
      "source": [
        "***Вычислим матрицу корреляции***"
      ],
      "metadata": {
        "id": "jCzbhyFS9znv"
      }
    },
    {
      "cell_type": "code",
      "source": [
        "corr_matrix = data1.corr()\n",
        "corr_matrix"
      ],
      "metadata": {
        "colab": {
          "base_uri": "https://localhost:8080/",
          "height": 931
        },
        "id": "fzUu8vP793c0",
        "outputId": "03c07b79-8e72-4fd4-f6c2-1b20e518e601"
      },
      "execution_count": 82,
      "outputs": [
        {
          "output_type": "execute_result",
          "data": {
            "text/plain": [
              "                                   Unnamed: 0        id       Age  \\\n",
              "Unnamed: 0                           1.000000  0.002951  0.004710   \n",
              "id                                   0.002951  1.000000  0.022795   \n",
              "Age                                  0.004710  0.022795  1.000000   \n",
              "Flight Distance                      0.002026  0.096297  0.099912   \n",
              "Inflight wifi service               -0.002489 -0.021408  0.017926   \n",
              "Departure/Arrival time convenient    0.000714 -0.002063  0.038175   \n",
              "Ease of Online booking               0.001894  0.014099  0.024831   \n",
              "Gate location                        0.005129 -0.000574 -0.001353   \n",
              "Food and drink                      -0.002023  0.000848  0.022801   \n",
              "Online boarding                      0.001047  0.055421  0.209215   \n",
              "Seat comfort                         0.000150  0.052939  0.160465   \n",
              "Inflight entertainment               0.001447  0.002259  0.076435   \n",
              "On-board service                     0.000604  0.055185  0.057750   \n",
              "Leg room service                     0.003928  0.044723  0.040721   \n",
              "Baggage handling                    -0.000592  0.074876 -0.047661   \n",
              "Checkin service                     -0.004175  0.079392  0.035476   \n",
              "Inflight service                    -0.000039  0.079291 -0.049789   \n",
              "Cleanliness                         -0.001029  0.024993  0.053660   \n",
              "Departure Delay in Minutes          -0.000749 -0.017332 -0.007333   \n",
              "Arrival Delay in Minutes            -0.000908 -0.036995 -0.009446   \n",
              "\n",
              "                                   Flight Distance  Inflight wifi service  \\\n",
              "Unnamed: 0                                0.002026              -0.002489   \n",
              "id                                        0.096297              -0.021408   \n",
              "Age                                       0.099912               0.017926   \n",
              "Flight Distance                           1.000000               0.007382   \n",
              "Inflight wifi service                     0.007382               1.000000   \n",
              "Departure/Arrival time convenient        -0.019637               0.343817   \n",
              "Ease of Online booking                    0.065751               0.715915   \n",
              "Gate location                             0.004716               0.336050   \n",
              "Food and drink                            0.057057               0.133834   \n",
              "Online boarding                           0.215669               0.457789   \n",
              "Seat comfort                              0.158243               0.122523   \n",
              "Inflight entertainment                    0.129382               0.209647   \n",
              "On-board service                          0.110331               0.121557   \n",
              "Leg room service                          0.133852               0.160812   \n",
              "Baggage handling                          0.063155               0.121188   \n",
              "Checkin service                           0.073367               0.042827   \n",
              "Inflight service                          0.058661               0.110537   \n",
              "Cleanliness                               0.093621               0.132563   \n",
              "Departure Delay in Minutes                0.000095              -0.017586   \n",
              "Arrival Delay in Minutes                 -0.005170              -0.019434   \n",
              "\n",
              "                                   Departure/Arrival time convenient  \\\n",
              "Unnamed: 0                                                  0.000714   \n",
              "id                                                         -0.002063   \n",
              "Age                                                         0.038175   \n",
              "Flight Distance                                            -0.019637   \n",
              "Inflight wifi service                                       0.343817   \n",
              "Departure/Arrival time convenient                           1.000000   \n",
              "Ease of Online booking                                      0.436950   \n",
              "Gate location                                               0.444661   \n",
              "Food and drink                                              0.005025   \n",
              "Online boarding                                             0.070460   \n",
              "Seat comfort                                                0.011639   \n",
              "Inflight entertainment                                     -0.004945   \n",
              "On-board service                                            0.068817   \n",
              "Leg room service                                            0.012329   \n",
              "Baggage handling                                            0.072022   \n",
              "Checkin service                                             0.093719   \n",
              "Inflight service                                            0.073211   \n",
              "Cleanliness                                                 0.014598   \n",
              "Departure Delay in Minutes                                  0.000424   \n",
              "Arrival Delay in Minutes                                   -0.001593   \n",
              "\n",
              "                                   Ease of Online booking  Gate location  \\\n",
              "Unnamed: 0                                       0.001894       0.005129   \n",
              "id                                               0.014099      -0.000574   \n",
              "Age                                              0.024831      -0.001353   \n",
              "Flight Distance                                  0.065751       0.004716   \n",
              "Inflight wifi service                            0.715915       0.336050   \n",
              "Departure/Arrival time convenient                0.436950       0.444661   \n",
              "Ease of Online booking                           1.000000       0.458460   \n",
              "Gate location                                    0.458460       1.000000   \n",
              "Food and drink                                   0.030968      -0.001208   \n",
              "Online boarding                                  0.404912       0.001769   \n",
              "Seat comfort                                     0.029865       0.003645   \n",
              "Inflight entertainment                           0.047080       0.003718   \n",
              "On-board service                                 0.038541      -0.028537   \n",
              "Leg room service                                 0.107921      -0.005633   \n",
              "Baggage handling                                 0.038864       0.002423   \n",
              "Checkin service                                  0.010843      -0.035625   \n",
              "Inflight service                                 0.035216       0.001635   \n",
              "Cleanliness                                      0.016085      -0.003876   \n",
              "Departure Delay in Minutes                      -0.005988       0.006946   \n",
              "Arrival Delay in Minutes                        -0.007696       0.006625   \n",
              "\n",
              "                                   Food and drink  Online boarding  \\\n",
              "Unnamed: 0                              -0.002023         0.001047   \n",
              "id                                       0.000848         0.055421   \n",
              "Age                                      0.022801         0.209215   \n",
              "Flight Distance                          0.057057         0.215669   \n",
              "Inflight wifi service                    0.133834         0.457789   \n",
              "Departure/Arrival time convenient        0.005025         0.070460   \n",
              "Ease of Online booking                   0.030968         0.404912   \n",
              "Gate location                           -0.001208         0.001769   \n",
              "Food and drink                           1.000000         0.234421   \n",
              "Online boarding                          0.234421         1.000000   \n",
              "Seat comfort                             0.574910         0.419655   \n",
              "Inflight entertainment                   0.623295         0.285204   \n",
              "On-board service                         0.058758         0.155735   \n",
              "Leg room service                         0.032429         0.124045   \n",
              "Baggage handling                         0.034522         0.083402   \n",
              "Checkin service                          0.086703         0.203576   \n",
              "Inflight service                         0.033726         0.074698   \n",
              "Cleanliness                              0.658229         0.330790   \n",
              "Departure Delay in Minutes              -0.030165        -0.021308   \n",
              "Arrival Delay in Minutes                -0.033066        -0.024732   \n",
              "\n",
              "                                   Seat comfort  Inflight entertainment  \\\n",
              "Unnamed: 0                             0.000150                0.001447   \n",
              "id                                     0.052939                0.002259   \n",
              "Age                                    0.160465                0.076435   \n",
              "Flight Distance                        0.158243                0.129382   \n",
              "Inflight wifi service                  0.122523                0.209647   \n",
              "Departure/Arrival time convenient      0.011639               -0.004945   \n",
              "Ease of Online booking                 0.029865                0.047080   \n",
              "Gate location                          0.003645                0.003718   \n",
              "Food and drink                         0.574910                0.623295   \n",
              "Online boarding                        0.419655                0.285204   \n",
              "Seat comfort                           1.000000                0.611327   \n",
              "Inflight entertainment                 0.611327                1.000000   \n",
              "On-board service                       0.132168                0.420328   \n",
              "Leg room service                       0.105771                0.299697   \n",
              "Baggage handling                       0.074794                0.378105   \n",
              "Checkin service                        0.190385                0.120738   \n",
              "Inflight service                       0.069230                0.404778   \n",
              "Cleanliness                            0.678083                0.692704   \n",
              "Departure Delay in Minutes            -0.029983               -0.028924   \n",
              "Arrival Delay in Minutes              -0.032218               -0.032322   \n",
              "\n",
              "                                   On-board service  Leg room service  \\\n",
              "Unnamed: 0                                 0.000604          0.003928   \n",
              "id                                         0.055185          0.044723   \n",
              "Age                                        0.057750          0.040721   \n",
              "Flight Distance                            0.110331          0.133852   \n",
              "Inflight wifi service                      0.121557          0.160812   \n",
              "Departure/Arrival time convenient          0.068817          0.012329   \n",
              "Ease of Online booking                     0.038541          0.107921   \n",
              "Gate location                             -0.028537         -0.005633   \n",
              "Food and drink                             0.058758          0.032429   \n",
              "Online boarding                            0.155735          0.124045   \n",
              "Seat comfort                               0.132168          0.105771   \n",
              "Inflight entertainment                     0.420328          0.299697   \n",
              "On-board service                           1.000000          0.355728   \n",
              "Leg room service                           0.355728          1.000000   \n",
              "Baggage handling                           0.519663          0.369380   \n",
              "Checkin service                            0.244367          0.153339   \n",
              "Inflight service                           0.551081          0.368883   \n",
              "Cleanliness                                0.123417          0.096502   \n",
              "Departure Delay in Minutes                -0.033321          0.012743   \n",
              "Arrival Delay in Minutes                  -0.036983          0.010141   \n",
              "\n",
              "                                   Baggage handling  Checkin service  \\\n",
              "Unnamed: 0                                -0.000592        -0.004175   \n",
              "id                                         0.074876         0.079392   \n",
              "Age                                       -0.047661         0.035476   \n",
              "Flight Distance                            0.063155         0.073367   \n",
              "Inflight wifi service                      0.121188         0.042827   \n",
              "Departure/Arrival time convenient          0.072022         0.093719   \n",
              "Ease of Online booking                     0.038864         0.010843   \n",
              "Gate location                              0.002423        -0.035625   \n",
              "Food and drink                             0.034522         0.086703   \n",
              "Online boarding                            0.083402         0.203576   \n",
              "Seat comfort                               0.074794         0.190385   \n",
              "Inflight entertainment                     0.378105         0.120738   \n",
              "On-board service                           0.519663         0.244367   \n",
              "Leg room service                           0.369380         0.153339   \n",
              "Baggage handling                           1.000000         0.233617   \n",
              "Checkin service                            0.233617         1.000000   \n",
              "Inflight service                           0.629140         0.237562   \n",
              "Cleanliness                                0.096044         0.178248   \n",
              "Departure Delay in Minutes                -0.007018        -0.020924   \n",
              "Arrival Delay in Minutes                  -0.010415        -0.023223   \n",
              "\n",
              "                                   Inflight service  Cleanliness  \\\n",
              "Unnamed: 0                                -0.000039    -0.001029   \n",
              "id                                         0.079291     0.024993   \n",
              "Age                                       -0.049789     0.053660   \n",
              "Flight Distance                            0.058661     0.093621   \n",
              "Inflight wifi service                      0.110537     0.132563   \n",
              "Departure/Arrival time convenient          0.073211     0.014598   \n",
              "Ease of Online booking                     0.035216     0.016085   \n",
              "Gate location                              0.001635    -0.003876   \n",
              "Food and drink                             0.033726     0.658229   \n",
              "Online boarding                            0.074698     0.330790   \n",
              "Seat comfort                               0.069230     0.678083   \n",
              "Inflight entertainment                     0.404778     0.692704   \n",
              "On-board service                           0.551081     0.123417   \n",
              "Leg room service                           0.368883     0.096502   \n",
              "Baggage handling                           0.629140     0.096044   \n",
              "Checkin service                            0.237562     0.178248   \n",
              "Inflight service                           1.000000     0.088859   \n",
              "Cleanliness                                0.088859     1.000000   \n",
              "Departure Delay in Minutes                -0.056103    -0.016284   \n",
              "Arrival Delay in Minutes                  -0.060702    -0.018325   \n",
              "\n",
              "                                   Departure Delay in Minutes  \\\n",
              "Unnamed: 0                                          -0.000749   \n",
              "id                                                  -0.017332   \n",
              "Age                                                 -0.007333   \n",
              "Flight Distance                                      0.000095   \n",
              "Inflight wifi service                               -0.017586   \n",
              "Departure/Arrival time convenient                    0.000424   \n",
              "Ease of Online booking                              -0.005988   \n",
              "Gate location                                        0.006946   \n",
              "Food and drink                                      -0.030165   \n",
              "Online boarding                                     -0.021308   \n",
              "Seat comfort                                        -0.029983   \n",
              "Inflight entertainment                              -0.028924   \n",
              "On-board service                                    -0.033321   \n",
              "Leg room service                                     0.012743   \n",
              "Baggage handling                                    -0.007018   \n",
              "Checkin service                                     -0.020924   \n",
              "Inflight service                                    -0.056103   \n",
              "Cleanliness                                         -0.016284   \n",
              "Departure Delay in Minutes                           1.000000   \n",
              "Arrival Delay in Minutes                             0.951641   \n",
              "\n",
              "                                   Arrival Delay in Minutes  \n",
              "Unnamed: 0                                        -0.000908  \n",
              "id                                                -0.036995  \n",
              "Age                                               -0.009446  \n",
              "Flight Distance                                   -0.005170  \n",
              "Inflight wifi service                             -0.019434  \n",
              "Departure/Arrival time convenient                 -0.001593  \n",
              "Ease of Online booking                            -0.007696  \n",
              "Gate location                                      0.006625  \n",
              "Food and drink                                    -0.033066  \n",
              "Online boarding                                   -0.024732  \n",
              "Seat comfort                                      -0.032218  \n",
              "Inflight entertainment                            -0.032322  \n",
              "On-board service                                  -0.036983  \n",
              "Leg room service                                   0.010141  \n",
              "Baggage handling                                  -0.010415  \n",
              "Checkin service                                   -0.023223  \n",
              "Inflight service                                  -0.060702  \n",
              "Cleanliness                                       -0.018325  \n",
              "Departure Delay in Minutes                         0.951641  \n",
              "Arrival Delay in Minutes                           1.000000  "
            ],
            "text/html": [
              "\n",
              "  <div id=\"df-24493065-849b-455c-a64a-9d5e8ea1466d\">\n",
              "    <div class=\"colab-df-container\">\n",
              "      <div>\n",
              "<style scoped>\n",
              "    .dataframe tbody tr th:only-of-type {\n",
              "        vertical-align: middle;\n",
              "    }\n",
              "\n",
              "    .dataframe tbody tr th {\n",
              "        vertical-align: top;\n",
              "    }\n",
              "\n",
              "    .dataframe thead th {\n",
              "        text-align: right;\n",
              "    }\n",
              "</style>\n",
              "<table border=\"1\" class=\"dataframe\">\n",
              "  <thead>\n",
              "    <tr style=\"text-align: right;\">\n",
              "      <th></th>\n",
              "      <th>Unnamed: 0</th>\n",
              "      <th>id</th>\n",
              "      <th>Age</th>\n",
              "      <th>Flight Distance</th>\n",
              "      <th>Inflight wifi service</th>\n",
              "      <th>Departure/Arrival time convenient</th>\n",
              "      <th>Ease of Online booking</th>\n",
              "      <th>Gate location</th>\n",
              "      <th>Food and drink</th>\n",
              "      <th>Online boarding</th>\n",
              "      <th>Seat comfort</th>\n",
              "      <th>Inflight entertainment</th>\n",
              "      <th>On-board service</th>\n",
              "      <th>Leg room service</th>\n",
              "      <th>Baggage handling</th>\n",
              "      <th>Checkin service</th>\n",
              "      <th>Inflight service</th>\n",
              "      <th>Cleanliness</th>\n",
              "      <th>Departure Delay in Minutes</th>\n",
              "      <th>Arrival Delay in Minutes</th>\n",
              "    </tr>\n",
              "  </thead>\n",
              "  <tbody>\n",
              "    <tr>\n",
              "      <th>Unnamed: 0</th>\n",
              "      <td>1.000000</td>\n",
              "      <td>0.002951</td>\n",
              "      <td>0.004710</td>\n",
              "      <td>0.002026</td>\n",
              "      <td>-0.002489</td>\n",
              "      <td>0.000714</td>\n",
              "      <td>0.001894</td>\n",
              "      <td>0.005129</td>\n",
              "      <td>-0.002023</td>\n",
              "      <td>0.001047</td>\n",
              "      <td>0.000150</td>\n",
              "      <td>0.001447</td>\n",
              "      <td>0.000604</td>\n",
              "      <td>0.003928</td>\n",
              "      <td>-0.000592</td>\n",
              "      <td>-0.004175</td>\n",
              "      <td>-0.000039</td>\n",
              "      <td>-0.001029</td>\n",
              "      <td>-0.000749</td>\n",
              "      <td>-0.000908</td>\n",
              "    </tr>\n",
              "    <tr>\n",
              "      <th>id</th>\n",
              "      <td>0.002951</td>\n",
              "      <td>1.000000</td>\n",
              "      <td>0.022795</td>\n",
              "      <td>0.096297</td>\n",
              "      <td>-0.021408</td>\n",
              "      <td>-0.002063</td>\n",
              "      <td>0.014099</td>\n",
              "      <td>-0.000574</td>\n",
              "      <td>0.000848</td>\n",
              "      <td>0.055421</td>\n",
              "      <td>0.052939</td>\n",
              "      <td>0.002259</td>\n",
              "      <td>0.055185</td>\n",
              "      <td>0.044723</td>\n",
              "      <td>0.074876</td>\n",
              "      <td>0.079392</td>\n",
              "      <td>0.079291</td>\n",
              "      <td>0.024993</td>\n",
              "      <td>-0.017332</td>\n",
              "      <td>-0.036995</td>\n",
              "    </tr>\n",
              "    <tr>\n",
              "      <th>Age</th>\n",
              "      <td>0.004710</td>\n",
              "      <td>0.022795</td>\n",
              "      <td>1.000000</td>\n",
              "      <td>0.099912</td>\n",
              "      <td>0.017926</td>\n",
              "      <td>0.038175</td>\n",
              "      <td>0.024831</td>\n",
              "      <td>-0.001353</td>\n",
              "      <td>0.022801</td>\n",
              "      <td>0.209215</td>\n",
              "      <td>0.160465</td>\n",
              "      <td>0.076435</td>\n",
              "      <td>0.057750</td>\n",
              "      <td>0.040721</td>\n",
              "      <td>-0.047661</td>\n",
              "      <td>0.035476</td>\n",
              "      <td>-0.049789</td>\n",
              "      <td>0.053660</td>\n",
              "      <td>-0.007333</td>\n",
              "      <td>-0.009446</td>\n",
              "    </tr>\n",
              "    <tr>\n",
              "      <th>Flight Distance</th>\n",
              "      <td>0.002026</td>\n",
              "      <td>0.096297</td>\n",
              "      <td>0.099912</td>\n",
              "      <td>1.000000</td>\n",
              "      <td>0.007382</td>\n",
              "      <td>-0.019637</td>\n",
              "      <td>0.065751</td>\n",
              "      <td>0.004716</td>\n",
              "      <td>0.057057</td>\n",
              "      <td>0.215669</td>\n",
              "      <td>0.158243</td>\n",
              "      <td>0.129382</td>\n",
              "      <td>0.110331</td>\n",
              "      <td>0.133852</td>\n",
              "      <td>0.063155</td>\n",
              "      <td>0.073367</td>\n",
              "      <td>0.058661</td>\n",
              "      <td>0.093621</td>\n",
              "      <td>0.000095</td>\n",
              "      <td>-0.005170</td>\n",
              "    </tr>\n",
              "    <tr>\n",
              "      <th>Inflight wifi service</th>\n",
              "      <td>-0.002489</td>\n",
              "      <td>-0.021408</td>\n",
              "      <td>0.017926</td>\n",
              "      <td>0.007382</td>\n",
              "      <td>1.000000</td>\n",
              "      <td>0.343817</td>\n",
              "      <td>0.715915</td>\n",
              "      <td>0.336050</td>\n",
              "      <td>0.133834</td>\n",
              "      <td>0.457789</td>\n",
              "      <td>0.122523</td>\n",
              "      <td>0.209647</td>\n",
              "      <td>0.121557</td>\n",
              "      <td>0.160812</td>\n",
              "      <td>0.121188</td>\n",
              "      <td>0.042827</td>\n",
              "      <td>0.110537</td>\n",
              "      <td>0.132563</td>\n",
              "      <td>-0.017586</td>\n",
              "      <td>-0.019434</td>\n",
              "    </tr>\n",
              "    <tr>\n",
              "      <th>Departure/Arrival time convenient</th>\n",
              "      <td>0.000714</td>\n",
              "      <td>-0.002063</td>\n",
              "      <td>0.038175</td>\n",
              "      <td>-0.019637</td>\n",
              "      <td>0.343817</td>\n",
              "      <td>1.000000</td>\n",
              "      <td>0.436950</td>\n",
              "      <td>0.444661</td>\n",
              "      <td>0.005025</td>\n",
              "      <td>0.070460</td>\n",
              "      <td>0.011639</td>\n",
              "      <td>-0.004945</td>\n",
              "      <td>0.068817</td>\n",
              "      <td>0.012329</td>\n",
              "      <td>0.072022</td>\n",
              "      <td>0.093719</td>\n",
              "      <td>0.073211</td>\n",
              "      <td>0.014598</td>\n",
              "      <td>0.000424</td>\n",
              "      <td>-0.001593</td>\n",
              "    </tr>\n",
              "    <tr>\n",
              "      <th>Ease of Online booking</th>\n",
              "      <td>0.001894</td>\n",
              "      <td>0.014099</td>\n",
              "      <td>0.024831</td>\n",
              "      <td>0.065751</td>\n",
              "      <td>0.715915</td>\n",
              "      <td>0.436950</td>\n",
              "      <td>1.000000</td>\n",
              "      <td>0.458460</td>\n",
              "      <td>0.030968</td>\n",
              "      <td>0.404912</td>\n",
              "      <td>0.029865</td>\n",
              "      <td>0.047080</td>\n",
              "      <td>0.038541</td>\n",
              "      <td>0.107921</td>\n",
              "      <td>0.038864</td>\n",
              "      <td>0.010843</td>\n",
              "      <td>0.035216</td>\n",
              "      <td>0.016085</td>\n",
              "      <td>-0.005988</td>\n",
              "      <td>-0.007696</td>\n",
              "    </tr>\n",
              "    <tr>\n",
              "      <th>Gate location</th>\n",
              "      <td>0.005129</td>\n",
              "      <td>-0.000574</td>\n",
              "      <td>-0.001353</td>\n",
              "      <td>0.004716</td>\n",
              "      <td>0.336050</td>\n",
              "      <td>0.444661</td>\n",
              "      <td>0.458460</td>\n",
              "      <td>1.000000</td>\n",
              "      <td>-0.001208</td>\n",
              "      <td>0.001769</td>\n",
              "      <td>0.003645</td>\n",
              "      <td>0.003718</td>\n",
              "      <td>-0.028537</td>\n",
              "      <td>-0.005633</td>\n",
              "      <td>0.002423</td>\n",
              "      <td>-0.035625</td>\n",
              "      <td>0.001635</td>\n",
              "      <td>-0.003876</td>\n",
              "      <td>0.006946</td>\n",
              "      <td>0.006625</td>\n",
              "    </tr>\n",
              "    <tr>\n",
              "      <th>Food and drink</th>\n",
              "      <td>-0.002023</td>\n",
              "      <td>0.000848</td>\n",
              "      <td>0.022801</td>\n",
              "      <td>0.057057</td>\n",
              "      <td>0.133834</td>\n",
              "      <td>0.005025</td>\n",
              "      <td>0.030968</td>\n",
              "      <td>-0.001208</td>\n",
              "      <td>1.000000</td>\n",
              "      <td>0.234421</td>\n",
              "      <td>0.574910</td>\n",
              "      <td>0.623295</td>\n",
              "      <td>0.058758</td>\n",
              "      <td>0.032429</td>\n",
              "      <td>0.034522</td>\n",
              "      <td>0.086703</td>\n",
              "      <td>0.033726</td>\n",
              "      <td>0.658229</td>\n",
              "      <td>-0.030165</td>\n",
              "      <td>-0.033066</td>\n",
              "    </tr>\n",
              "    <tr>\n",
              "      <th>Online boarding</th>\n",
              "      <td>0.001047</td>\n",
              "      <td>0.055421</td>\n",
              "      <td>0.209215</td>\n",
              "      <td>0.215669</td>\n",
              "      <td>0.457789</td>\n",
              "      <td>0.070460</td>\n",
              "      <td>0.404912</td>\n",
              "      <td>0.001769</td>\n",
              "      <td>0.234421</td>\n",
              "      <td>1.000000</td>\n",
              "      <td>0.419655</td>\n",
              "      <td>0.285204</td>\n",
              "      <td>0.155735</td>\n",
              "      <td>0.124045</td>\n",
              "      <td>0.083402</td>\n",
              "      <td>0.203576</td>\n",
              "      <td>0.074698</td>\n",
              "      <td>0.330790</td>\n",
              "      <td>-0.021308</td>\n",
              "      <td>-0.024732</td>\n",
              "    </tr>\n",
              "    <tr>\n",
              "      <th>Seat comfort</th>\n",
              "      <td>0.000150</td>\n",
              "      <td>0.052939</td>\n",
              "      <td>0.160465</td>\n",
              "      <td>0.158243</td>\n",
              "      <td>0.122523</td>\n",
              "      <td>0.011639</td>\n",
              "      <td>0.029865</td>\n",
              "      <td>0.003645</td>\n",
              "      <td>0.574910</td>\n",
              "      <td>0.419655</td>\n",
              "      <td>1.000000</td>\n",
              "      <td>0.611327</td>\n",
              "      <td>0.132168</td>\n",
              "      <td>0.105771</td>\n",
              "      <td>0.074794</td>\n",
              "      <td>0.190385</td>\n",
              "      <td>0.069230</td>\n",
              "      <td>0.678083</td>\n",
              "      <td>-0.029983</td>\n",
              "      <td>-0.032218</td>\n",
              "    </tr>\n",
              "    <tr>\n",
              "      <th>Inflight entertainment</th>\n",
              "      <td>0.001447</td>\n",
              "      <td>0.002259</td>\n",
              "      <td>0.076435</td>\n",
              "      <td>0.129382</td>\n",
              "      <td>0.209647</td>\n",
              "      <td>-0.004945</td>\n",
              "      <td>0.047080</td>\n",
              "      <td>0.003718</td>\n",
              "      <td>0.623295</td>\n",
              "      <td>0.285204</td>\n",
              "      <td>0.611327</td>\n",
              "      <td>1.000000</td>\n",
              "      <td>0.420328</td>\n",
              "      <td>0.299697</td>\n",
              "      <td>0.378105</td>\n",
              "      <td>0.120738</td>\n",
              "      <td>0.404778</td>\n",
              "      <td>0.692704</td>\n",
              "      <td>-0.028924</td>\n",
              "      <td>-0.032322</td>\n",
              "    </tr>\n",
              "    <tr>\n",
              "      <th>On-board service</th>\n",
              "      <td>0.000604</td>\n",
              "      <td>0.055185</td>\n",
              "      <td>0.057750</td>\n",
              "      <td>0.110331</td>\n",
              "      <td>0.121557</td>\n",
              "      <td>0.068817</td>\n",
              "      <td>0.038541</td>\n",
              "      <td>-0.028537</td>\n",
              "      <td>0.058758</td>\n",
              "      <td>0.155735</td>\n",
              "      <td>0.132168</td>\n",
              "      <td>0.420328</td>\n",
              "      <td>1.000000</td>\n",
              "      <td>0.355728</td>\n",
              "      <td>0.519663</td>\n",
              "      <td>0.244367</td>\n",
              "      <td>0.551081</td>\n",
              "      <td>0.123417</td>\n",
              "      <td>-0.033321</td>\n",
              "      <td>-0.036983</td>\n",
              "    </tr>\n",
              "    <tr>\n",
              "      <th>Leg room service</th>\n",
              "      <td>0.003928</td>\n",
              "      <td>0.044723</td>\n",
              "      <td>0.040721</td>\n",
              "      <td>0.133852</td>\n",
              "      <td>0.160812</td>\n",
              "      <td>0.012329</td>\n",
              "      <td>0.107921</td>\n",
              "      <td>-0.005633</td>\n",
              "      <td>0.032429</td>\n",
              "      <td>0.124045</td>\n",
              "      <td>0.105771</td>\n",
              "      <td>0.299697</td>\n",
              "      <td>0.355728</td>\n",
              "      <td>1.000000</td>\n",
              "      <td>0.369380</td>\n",
              "      <td>0.153339</td>\n",
              "      <td>0.368883</td>\n",
              "      <td>0.096502</td>\n",
              "      <td>0.012743</td>\n",
              "      <td>0.010141</td>\n",
              "    </tr>\n",
              "    <tr>\n",
              "      <th>Baggage handling</th>\n",
              "      <td>-0.000592</td>\n",
              "      <td>0.074876</td>\n",
              "      <td>-0.047661</td>\n",
              "      <td>0.063155</td>\n",
              "      <td>0.121188</td>\n",
              "      <td>0.072022</td>\n",
              "      <td>0.038864</td>\n",
              "      <td>0.002423</td>\n",
              "      <td>0.034522</td>\n",
              "      <td>0.083402</td>\n",
              "      <td>0.074794</td>\n",
              "      <td>0.378105</td>\n",
              "      <td>0.519663</td>\n",
              "      <td>0.369380</td>\n",
              "      <td>1.000000</td>\n",
              "      <td>0.233617</td>\n",
              "      <td>0.629140</td>\n",
              "      <td>0.096044</td>\n",
              "      <td>-0.007018</td>\n",
              "      <td>-0.010415</td>\n",
              "    </tr>\n",
              "    <tr>\n",
              "      <th>Checkin service</th>\n",
              "      <td>-0.004175</td>\n",
              "      <td>0.079392</td>\n",
              "      <td>0.035476</td>\n",
              "      <td>0.073367</td>\n",
              "      <td>0.042827</td>\n",
              "      <td>0.093719</td>\n",
              "      <td>0.010843</td>\n",
              "      <td>-0.035625</td>\n",
              "      <td>0.086703</td>\n",
              "      <td>0.203576</td>\n",
              "      <td>0.190385</td>\n",
              "      <td>0.120738</td>\n",
              "      <td>0.244367</td>\n",
              "      <td>0.153339</td>\n",
              "      <td>0.233617</td>\n",
              "      <td>1.000000</td>\n",
              "      <td>0.237562</td>\n",
              "      <td>0.178248</td>\n",
              "      <td>-0.020924</td>\n",
              "      <td>-0.023223</td>\n",
              "    </tr>\n",
              "    <tr>\n",
              "      <th>Inflight service</th>\n",
              "      <td>-0.000039</td>\n",
              "      <td>0.079291</td>\n",
              "      <td>-0.049789</td>\n",
              "      <td>0.058661</td>\n",
              "      <td>0.110537</td>\n",
              "      <td>0.073211</td>\n",
              "      <td>0.035216</td>\n",
              "      <td>0.001635</td>\n",
              "      <td>0.033726</td>\n",
              "      <td>0.074698</td>\n",
              "      <td>0.069230</td>\n",
              "      <td>0.404778</td>\n",
              "      <td>0.551081</td>\n",
              "      <td>0.368883</td>\n",
              "      <td>0.629140</td>\n",
              "      <td>0.237562</td>\n",
              "      <td>1.000000</td>\n",
              "      <td>0.088859</td>\n",
              "      <td>-0.056103</td>\n",
              "      <td>-0.060702</td>\n",
              "    </tr>\n",
              "    <tr>\n",
              "      <th>Cleanliness</th>\n",
              "      <td>-0.001029</td>\n",
              "      <td>0.024993</td>\n",
              "      <td>0.053660</td>\n",
              "      <td>0.093621</td>\n",
              "      <td>0.132563</td>\n",
              "      <td>0.014598</td>\n",
              "      <td>0.016085</td>\n",
              "      <td>-0.003876</td>\n",
              "      <td>0.658229</td>\n",
              "      <td>0.330790</td>\n",
              "      <td>0.678083</td>\n",
              "      <td>0.692704</td>\n",
              "      <td>0.123417</td>\n",
              "      <td>0.096502</td>\n",
              "      <td>0.096044</td>\n",
              "      <td>0.178248</td>\n",
              "      <td>0.088859</td>\n",
              "      <td>1.000000</td>\n",
              "      <td>-0.016284</td>\n",
              "      <td>-0.018325</td>\n",
              "    </tr>\n",
              "    <tr>\n",
              "      <th>Departure Delay in Minutes</th>\n",
              "      <td>-0.000749</td>\n",
              "      <td>-0.017332</td>\n",
              "      <td>-0.007333</td>\n",
              "      <td>0.000095</td>\n",
              "      <td>-0.017586</td>\n",
              "      <td>0.000424</td>\n",
              "      <td>-0.005988</td>\n",
              "      <td>0.006946</td>\n",
              "      <td>-0.030165</td>\n",
              "      <td>-0.021308</td>\n",
              "      <td>-0.029983</td>\n",
              "      <td>-0.028924</td>\n",
              "      <td>-0.033321</td>\n",
              "      <td>0.012743</td>\n",
              "      <td>-0.007018</td>\n",
              "      <td>-0.020924</td>\n",
              "      <td>-0.056103</td>\n",
              "      <td>-0.016284</td>\n",
              "      <td>1.000000</td>\n",
              "      <td>0.951641</td>\n",
              "    </tr>\n",
              "    <tr>\n",
              "      <th>Arrival Delay in Minutes</th>\n",
              "      <td>-0.000908</td>\n",
              "      <td>-0.036995</td>\n",
              "      <td>-0.009446</td>\n",
              "      <td>-0.005170</td>\n",
              "      <td>-0.019434</td>\n",
              "      <td>-0.001593</td>\n",
              "      <td>-0.007696</td>\n",
              "      <td>0.006625</td>\n",
              "      <td>-0.033066</td>\n",
              "      <td>-0.024732</td>\n",
              "      <td>-0.032218</td>\n",
              "      <td>-0.032322</td>\n",
              "      <td>-0.036983</td>\n",
              "      <td>0.010141</td>\n",
              "      <td>-0.010415</td>\n",
              "      <td>-0.023223</td>\n",
              "      <td>-0.060702</td>\n",
              "      <td>-0.018325</td>\n",
              "      <td>0.951641</td>\n",
              "      <td>1.000000</td>\n",
              "    </tr>\n",
              "  </tbody>\n",
              "</table>\n",
              "</div>\n",
              "      <button class=\"colab-df-convert\" onclick=\"convertToInteractive('df-24493065-849b-455c-a64a-9d5e8ea1466d')\"\n",
              "              title=\"Convert this dataframe to an interactive table.\"\n",
              "              style=\"display:none;\">\n",
              "        \n",
              "  <svg xmlns=\"http://www.w3.org/2000/svg\" height=\"24px\"viewBox=\"0 0 24 24\"\n",
              "       width=\"24px\">\n",
              "    <path d=\"M0 0h24v24H0V0z\" fill=\"none\"/>\n",
              "    <path d=\"M18.56 5.44l.94 2.06.94-2.06 2.06-.94-2.06-.94-.94-2.06-.94 2.06-2.06.94zm-11 1L8.5 8.5l.94-2.06 2.06-.94-2.06-.94L8.5 2.5l-.94 2.06-2.06.94zm10 10l.94 2.06.94-2.06 2.06-.94-2.06-.94-.94-2.06-.94 2.06-2.06.94z\"/><path d=\"M17.41 7.96l-1.37-1.37c-.4-.4-.92-.59-1.43-.59-.52 0-1.04.2-1.43.59L10.3 9.45l-7.72 7.72c-.78.78-.78 2.05 0 2.83L4 21.41c.39.39.9.59 1.41.59.51 0 1.02-.2 1.41-.59l7.78-7.78 2.81-2.81c.8-.78.8-2.07 0-2.86zM5.41 20L4 18.59l7.72-7.72 1.47 1.35L5.41 20z\"/>\n",
              "  </svg>\n",
              "      </button>\n",
              "      \n",
              "  <style>\n",
              "    .colab-df-container {\n",
              "      display:flex;\n",
              "      flex-wrap:wrap;\n",
              "      gap: 12px;\n",
              "    }\n",
              "\n",
              "    .colab-df-convert {\n",
              "      background-color: #E8F0FE;\n",
              "      border: none;\n",
              "      border-radius: 50%;\n",
              "      cursor: pointer;\n",
              "      display: none;\n",
              "      fill: #1967D2;\n",
              "      height: 32px;\n",
              "      padding: 0 0 0 0;\n",
              "      width: 32px;\n",
              "    }\n",
              "\n",
              "    .colab-df-convert:hover {\n",
              "      background-color: #E2EBFA;\n",
              "      box-shadow: 0px 1px 2px rgba(60, 64, 67, 0.3), 0px 1px 3px 1px rgba(60, 64, 67, 0.15);\n",
              "      fill: #174EA6;\n",
              "    }\n",
              "\n",
              "    [theme=dark] .colab-df-convert {\n",
              "      background-color: #3B4455;\n",
              "      fill: #D2E3FC;\n",
              "    }\n",
              "\n",
              "    [theme=dark] .colab-df-convert:hover {\n",
              "      background-color: #434B5C;\n",
              "      box-shadow: 0px 1px 3px 1px rgba(0, 0, 0, 0.15);\n",
              "      filter: drop-shadow(0px 1px 2px rgba(0, 0, 0, 0.3));\n",
              "      fill: #FFFFFF;\n",
              "    }\n",
              "  </style>\n",
              "\n",
              "      <script>\n",
              "        const buttonEl =\n",
              "          document.querySelector('#df-24493065-849b-455c-a64a-9d5e8ea1466d button.colab-df-convert');\n",
              "        buttonEl.style.display =\n",
              "          google.colab.kernel.accessAllowed ? 'block' : 'none';\n",
              "\n",
              "        async function convertToInteractive(key) {\n",
              "          const element = document.querySelector('#df-24493065-849b-455c-a64a-9d5e8ea1466d');\n",
              "          const dataTable =\n",
              "            await google.colab.kernel.invokeFunction('convertToInteractive',\n",
              "                                                     [key], {});\n",
              "          if (!dataTable) return;\n",
              "\n",
              "          const docLinkHtml = 'Like what you see? Visit the ' +\n",
              "            '<a target=\"_blank\" href=https://colab.research.google.com/notebooks/data_table.ipynb>data table notebook</a>'\n",
              "            + ' to learn more about interactive tables.';\n",
              "          element.innerHTML = '';\n",
              "          dataTable['output_type'] = 'display_data';\n",
              "          await google.colab.output.renderOutput(dataTable, element);\n",
              "          const docLink = document.createElement('div');\n",
              "          docLink.innerHTML = docLinkHtml;\n",
              "          element.appendChild(docLink);\n",
              "        }\n",
              "      </script>\n",
              "    </div>\n",
              "  </div>\n",
              "  "
            ]
          },
          "metadata": {},
          "execution_count": 82
        }
      ]
    },
    {
      "cell_type": "code",
      "source": [
        "corr_mat = data1.corr()\n",
        "sns.heatmap(corr_mat, square=True, cmap='coolwarm', vmin=-1.0, vmax=1.0)\n",
        "pass"
      ],
      "metadata": {
        "colab": {
          "base_uri": "https://localhost:8080/",
          "height": 430
        },
        "id": "ag7LXolx9-qH",
        "outputId": "56b5e323-c20f-4dbb-bb00-b2159488f699"
      },
      "execution_count": 83,
      "outputs": [
        {
          "output_type": "display_data",
          "data": {
            "text/plain": [
              "<Figure size 432x288 with 2 Axes>"
            ],
            "image/png": "[encoded data removed]"
          },
          "metadata": {
            "needs_background": "light"
          }
        }
      ]
    },
    {
      "cell_type": "code",
      "source": [
        "corr_mat.where(np.triu(corr_mat > 0.7, k=1)\n",
        "               ).stack().sort_values(ascending=False)"
      ],
      "metadata": {
        "colab": {
          "base_uri": "https://localhost:8080/"
        },
        "id": "sl9hmN0O-YrA",
        "outputId": "5b6431cf-5b49-488e-88eb-f09e860f5dab"
      },
      "execution_count": 84,
      "outputs": [
        {
          "output_type": "execute_result",
          "data": {
            "text/plain": [
              "Departure Delay in Minutes  Arrival Delay in Minutes    0.951641\n",
              "Inflight wifi service       Ease of Online booking      0.715915\n",
              "dtype: float64"
            ]
          },
          "metadata": {},
          "execution_count": 84
        }
      ]
    },
    {
      "cell_type": "markdown",
      "source": [
        "То, что значение корреляции для параметров **Задержка при отправлении** и **Задержка при приземлении** максимальна близка к 1 -- ОЧЕВИДНА! А корреляцию между довольными людьми онлайн бронированием и услугами WI-FI на борту можно объяснить, что большинство людей пользуется интернетом и пользуется им при покупке билетов и в полете."
      ],
      "metadata": {
        "id": "Muo2bMD8_YGQ"
      }
    },
    {
      "cell_type": "code",
      "source": [
        "data1['Customer Type'].value_counts()"
      ],
      "metadata": {
        "colab": {
          "base_uri": "https://localhost:8080/"
        },
        "id": "OZ0kc83Q-jOE",
        "outputId": "fb934737-e6e5-48ca-b0c5-3a6ca328cfd1"
      },
      "execution_count": 85,
      "outputs": [
        {
          "output_type": "execute_result",
          "data": {
            "text/plain": [
              "Loyal Customer       84749\n",
              "disloyal Customer    18952\n",
              "Name: Customer Type, dtype: int64"
            ]
          },
          "metadata": {},
          "execution_count": 85
        }
      ]
    },
    {
      "cell_type": "code",
      "source": [
        "sns.countplot(data=data1,x='Customer Type')\n",
        "pass"
      ],
      "metadata": {
        "colab": {
          "base_uri": "https://localhost:8080/",
          "height": 279
        },
        "id": "G_90pqAY-rSq",
        "outputId": "3e0ea11a-5388-4299-db7b-133557e1797b"
      },
      "execution_count": 86,
      "outputs": [
        {
          "output_type": "display_data",
          "data": {
            "text/plain": [
              "<Figure size 432x288 with 1 Axes>"
            ],
            "image/png": "[encoded data removed]"
          },
          "metadata": {
            "needs_background": "light"
          }
        }
      ]
    },
    {
      "cell_type": "markdown",
      "source": [
        "***Обработка категориальных значений***"
      ],
      "metadata": {
        "id": "JS4x5CPKA9R4"
      }
    },
    {
      "cell_type": "markdown",
      "source": [
        "Мы имеем 5 категориальных признаков: 'Gender', 'Customer Type' , 'Type of Travel' , 'Class' , 'statisfaction'."
      ],
      "metadata": {
        "id": "ks7-A0jXBvtp"
      }
    },
    {
      "cell_type": "code",
      "source": [
        "data_raw['Gender'].unique()\n",
        "gender_dummies = pd.get_dummies(data_raw['Gender'])\n",
        "gender_dummies.head()"
      ],
      "metadata": {
        "colab": {
          "base_uri": "https://localhost:8080/",
          "height": 206
        },
        "id": "R7J2bqdIA_rC",
        "outputId": "bc63a711-a241-47ab-b728-6cdc8f360a4d"
      },
      "execution_count": 87,
      "outputs": [
        {
          "output_type": "execute_result",
          "data": {
            "text/plain": [
              "   Female  Male\n",
              "0       0     1\n",
              "1       0     1\n",
              "2       1     0\n",
              "3       1     0\n",
              "4       0     1"
            ],
            "text/html": [
              "\n",
              "  <div id=\"df-ee6e3ada-8131-4e97-a345-0e438401e4eb\">\n",
              "    <div class=\"colab-df-container\">\n",
              "      <div>\n",
              "<style scoped>\n",
              "    .dataframe tbody tr th:only-of-type {\n",
              "        vertical-align: middle;\n",
              "    }\n",
              "\n",
              "    .dataframe tbody tr th {\n",
              "        vertical-align: top;\n",
              "    }\n",
              "\n",
              "    .dataframe thead th {\n",
              "        text-align: right;\n",
              "    }\n",
              "</style>\n",
              "<table border=\"1\" class=\"dataframe\">\n",
              "  <thead>\n",
              "    <tr style=\"text-align: right;\">\n",
              "      <th></th>\n",
              "      <th>Female</th>\n",
              "      <th>Male</th>\n",
              "    </tr>\n",
              "  </thead>\n",
              "  <tbody>\n",
              "    <tr>\n",
              "      <th>0</th>\n",
              "      <td>0</td>\n",
              "      <td>1</td>\n",
              "    </tr>\n",
              "    <tr>\n",
              "      <th>1</th>\n",
              "      <td>0</td>\n",
              "      <td>1</td>\n",
              "    </tr>\n",
              "    <tr>\n",
              "      <th>2</th>\n",
              "      <td>1</td>\n",
              "      <td>0</td>\n",
              "    </tr>\n",
              "    <tr>\n",
              "      <th>3</th>\n",
              "      <td>1</td>\n",
              "      <td>0</td>\n",
              "    </tr>\n",
              "    <tr>\n",
              "      <th>4</th>\n",
              "      <td>0</td>\n",
              "      <td>1</td>\n",
              "    </tr>\n",
              "  </tbody>\n",
              "</table>\n",
              "</div>\n",
              "      <button class=\"colab-df-convert\" onclick=\"convertToInteractive('df-ee6e3ada-8131-4e97-a345-0e438401e4eb')\"\n",
              "              title=\"Convert this dataframe to an interactive table.\"\n",
              "              style=\"display:none;\">\n",
              "        \n",
              "  <svg xmlns=\"http://www.w3.org/2000/svg\" height=\"24px\"viewBox=\"0 0 24 24\"\n",
              "       width=\"24px\">\n",
              "    <path d=\"M0 0h24v24H0V0z\" fill=\"none\"/>\n",
              "    <path d=\"M18.56 5.44l.94 2.06.94-2.06 2.06-.94-2.06-.94-.94-2.06-.94 2.06-2.06.94zm-11 1L8.5 8.5l.94-2.06 2.06-.94-2.06-.94L8.5 2.5l-.94 2.06-2.06.94zm10 10l.94 2.06.94-2.06 2.06-.94-2.06-.94-.94-2.06-.94 2.06-2.06.94z\"/><path d=\"M17.41 7.96l-1.37-1.37c-.4-.4-.92-.59-1.43-.59-.52 0-1.04.2-1.43.59L10.3 9.45l-7.72 7.72c-.78.78-.78 2.05 0 2.83L4 21.41c.39.39.9.59 1.41.59.51 0 1.02-.2 1.41-.59l7.78-7.78 2.81-2.81c.8-.78.8-2.07 0-2.86zM5.41 20L4 18.59l7.72-7.72 1.47 1.35L5.41 20z\"/>\n",
              "  </svg>\n",
              "      </button>\n",
              "      \n",
              "  <style>\n",
              "    .colab-df-container {\n",
              "      display:flex;\n",
              "      flex-wrap:wrap;\n",
              "      gap: 12px;\n",
              "    }\n",
              "\n",
              "    .colab-df-convert {\n",
              "      background-color: #E8F0FE;\n",
              "      border: none;\n",
              "      border-radius: 50%;\n",
              "      cursor: pointer;\n",
              "      display: none;\n",
              "      fill: #1967D2;\n",
              "      height: 32px;\n",
              "      padding: 0 0 0 0;\n",
              "      width: 32px;\n",
              "    }\n",
              "\n",
              "    .colab-df-convert:hover {\n",
              "      background-color: #E2EBFA;\n",
              "      box-shadow: 0px 1px 2px rgba(60, 64, 67, 0.3), 0px 1px 3px 1px rgba(60, 64, 67, 0.15);\n",
              "      fill: #174EA6;\n",
              "    }\n",
              "\n",
              "    [theme=dark] .colab-df-convert {\n",
              "      background-color: #3B4455;\n",
              "      fill: #D2E3FC;\n",
              "    }\n",
              "\n",
              "    [theme=dark] .colab-df-convert:hover {\n",
              "      background-color: #434B5C;\n",
              "      box-shadow: 0px 1px 3px 1px rgba(0, 0, 0, 0.15);\n",
              "      filter: drop-shadow(0px 1px 2px rgba(0, 0, 0, 0.3));\n",
              "      fill: #FFFFFF;\n",
              "    }\n",
              "  </style>\n",
              "\n",
              "      <script>\n",
              "        const buttonEl =\n",
              "          document.querySelector('#df-ee6e3ada-8131-4e97-a345-0e438401e4eb button.colab-df-convert');\n",
              "        buttonEl.style.display =\n",
              "          google.colab.kernel.accessAllowed ? 'block' : 'none';\n",
              "\n",
              "        async function convertToInteractive(key) {\n",
              "          const element = document.querySelector('#df-ee6e3ada-8131-4e97-a345-0e438401e4eb');\n",
              "          const dataTable =\n",
              "            await google.colab.kernel.invokeFunction('convertToInteractive',\n",
              "                                                     [key], {});\n",
              "          if (!dataTable) return;\n",
              "\n",
              "          const docLinkHtml = 'Like what you see? Visit the ' +\n",
              "            '<a target=\"_blank\" href=https://colab.research.google.com/notebooks/data_table.ipynb>data table notebook</a>'\n",
              "            + ' to learn more about interactive tables.';\n",
              "          element.innerHTML = '';\n",
              "          dataTable['output_type'] = 'display_data';\n",
              "          await google.colab.output.renderOutput(dataTable, element);\n",
              "          const docLink = document.createElement('div');\n",
              "          docLink.innerHTML = docLinkHtml;\n",
              "          element.appendChild(docLink);\n",
              "        }\n",
              "      </script>\n",
              "    </div>\n",
              "  </div>\n",
              "  "
            ]
          },
          "metadata": {},
          "execution_count": 87
        }
      ]
    },
    {
      "cell_type": "markdown",
      "source": [
        "'Customer Type' сделаем не строковыми значениями\n",
        "\n",
        "Loyal - 1, disloyal - 0"
      ],
      "metadata": {
        "id": "62aAl-xANXoQ"
      }
    },
    {
      "cell_type": "code",
      "source": [
        "data_raw['Customer Type'] = data_raw['Customer Type'].astype('object')\n",
        "\n",
        "data_raw.loc[(data_raw['Customer Type'] == 'disloyal Customer'), 'Customer Type'] = 0\n",
        "data_raw.loc[(data_raw['Customer Type'] == 'Loyal Customer'), 'Customer Type'] = 1"
      ],
      "metadata": {
        "id": "IjfOC-2jCKb0"
      },
      "execution_count": 88,
      "outputs": []
    },
    {
      "cell_type": "code",
      "source": [
        "data_raw['Type of Travel'].unique()\n",
        "tot_dummies = pd.get_dummies(data_raw['Type of Travel'])\n",
        "tot_dummies.head()"
      ],
      "metadata": {
        "colab": {
          "base_uri": "https://localhost:8080/",
          "height": 206
        },
        "id": "OObuzr5bCQ6a",
        "outputId": "cee42c51-45b6-43e2-dba2-5e2ed91f62ef"
      },
      "execution_count": 89,
      "outputs": [
        {
          "output_type": "execute_result",
          "data": {
            "text/plain": [
              "   Business travel  Personal Travel\n",
              "0                0                1\n",
              "1                1                0\n",
              "2                1                0\n",
              "3                1                0\n",
              "4                1                0"
            ],
            "text/html": [
              "\n",
              "  <div id=\"df-ae535958-5080-4154-ac34-7ccf0d855036\">\n",
              "    <div class=\"colab-df-container\">\n",
              "      <div>\n",
              "<style scoped>\n",
              "    .dataframe tbody tr th:only-of-type {\n",
              "        vertical-align: middle;\n",
              "    }\n",
              "\n",
              "    .dataframe tbody tr th {\n",
              "        vertical-align: top;\n",
              "    }\n",
              "\n",
              "    .dataframe thead th {\n",
              "        text-align: right;\n",
              "    }\n",
              "</style>\n",
              "<table border=\"1\" class=\"dataframe\">\n",
              "  <thead>\n",
              "    <tr style=\"text-align: right;\">\n",
              "      <th></th>\n",
              "      <th>Business travel</th>\n",
              "      <th>Personal Travel</th>\n",
              "    </tr>\n",
              "  </thead>\n",
              "  <tbody>\n",
              "    <tr>\n",
              "      <th>0</th>\n",
              "      <td>0</td>\n",
              "      <td>1</td>\n",
              "    </tr>\n",
              "    <tr>\n",
              "      <th>1</th>\n",
              "      <td>1</td>\n",
              "      <td>0</td>\n",
              "    </tr>\n",
              "    <tr>\n",
              "      <th>2</th>\n",
              "      <td>1</td>\n",
              "      <td>0</td>\n",
              "    </tr>\n",
              "    <tr>\n",
              "      <th>3</th>\n",
              "      <td>1</td>\n",
              "      <td>0</td>\n",
              "    </tr>\n",
              "    <tr>\n",
              "      <th>4</th>\n",
              "      <td>1</td>\n",
              "      <td>0</td>\n",
              "    </tr>\n",
              "  </tbody>\n",
              "</table>\n",
              "</div>\n",
              "      <button class=\"colab-df-convert\" onclick=\"convertToInteractive('df-ae535958-5080-4154-ac34-7ccf0d855036')\"\n",
              "              title=\"Convert this dataframe to an interactive table.\"\n",
              "              style=\"display:none;\">\n",
              "        \n",
              "  <svg xmlns=\"http://www.w3.org/2000/svg\" height=\"24px\"viewBox=\"0 0 24 24\"\n",
              "       width=\"24px\">\n",
              "    <path d=\"M0 0h24v24H0V0z\" fill=\"none\"/>\n",
              "    <path d=\"M18.56 5.44l.94 2.06.94-2.06 2.06-.94-2.06-.94-.94-2.06-.94 2.06-2.06.94zm-11 1L8.5 8.5l.94-2.06 2.06-.94-2.06-.94L8.5 2.5l-.94 2.06-2.06.94zm10 10l.94 2.06.94-2.06 2.06-.94-2.06-.94-.94-2.06-.94 2.06-2.06.94z\"/><path d=\"M17.41 7.96l-1.37-1.37c-.4-.4-.92-.59-1.43-.59-.52 0-1.04.2-1.43.59L10.3 9.45l-7.72 7.72c-.78.78-.78 2.05 0 2.83L4 21.41c.39.39.9.59 1.41.59.51 0 1.02-.2 1.41-.59l7.78-7.78 2.81-2.81c.8-.78.8-2.07 0-2.86zM5.41 20L4 18.59l7.72-7.72 1.47 1.35L5.41 20z\"/>\n",
              "  </svg>\n",
              "      </button>\n",
              "      \n",
              "  <style>\n",
              "    .colab-df-container {\n",
              "      display:flex;\n",
              "      flex-wrap:wrap;\n",
              "      gap: 12px;\n",
              "    }\n",
              "\n",
              "    .colab-df-convert {\n",
              "      background-color: #E8F0FE;\n",
              "      border: none;\n",
              "      border-radius: 50%;\n",
              "      cursor: pointer;\n",
              "      display: none;\n",
              "      fill: #1967D2;\n",
              "      height: 32px;\n",
              "      padding: 0 0 0 0;\n",
              "      width: 32px;\n",
              "    }\n",
              "\n",
              "    .colab-df-convert:hover {\n",
              "      background-color: #E2EBFA;\n",
              "      box-shadow: 0px 1px 2px rgba(60, 64, 67, 0.3), 0px 1px 3px 1px rgba(60, 64, 67, 0.15);\n",
              "      fill: #174EA6;\n",
              "    }\n",
              "\n",
              "    [theme=dark] .colab-df-convert {\n",
              "      background-color: #3B4455;\n",
              "      fill: #D2E3FC;\n",
              "    }\n",
              "\n",
              "    [theme=dark] .colab-df-convert:hover {\n",
              "      background-color: #434B5C;\n",
              "      box-shadow: 0px 1px 3px 1px rgba(0, 0, 0, 0.15);\n",
              "      filter: drop-shadow(0px 1px 2px rgba(0, 0, 0, 0.3));\n",
              "      fill: #FFFFFF;\n",
              "    }\n",
              "  </style>\n",
              "\n",
              "      <script>\n",
              "        const buttonEl =\n",
              "          document.querySelector('#df-ae535958-5080-4154-ac34-7ccf0d855036 button.colab-df-convert');\n",
              "        buttonEl.style.display =\n",
              "          google.colab.kernel.accessAllowed ? 'block' : 'none';\n",
              "\n",
              "        async function convertToInteractive(key) {\n",
              "          const element = document.querySelector('#df-ae535958-5080-4154-ac34-7ccf0d855036');\n",
              "          const dataTable =\n",
              "            await google.colab.kernel.invokeFunction('convertToInteractive',\n",
              "                                                     [key], {});\n",
              "          if (!dataTable) return;\n",
              "\n",
              "          const docLinkHtml = 'Like what you see? Visit the ' +\n",
              "            '<a target=\"_blank\" href=https://colab.research.google.com/notebooks/data_table.ipynb>data table notebook</a>'\n",
              "            + ' to learn more about interactive tables.';\n",
              "          element.innerHTML = '';\n",
              "          dataTable['output_type'] = 'display_data';\n",
              "          await google.colab.output.renderOutput(dataTable, element);\n",
              "          const docLink = document.createElement('div');\n",
              "          docLink.innerHTML = docLinkHtml;\n",
              "          element.appendChild(docLink);\n",
              "        }\n",
              "      </script>\n",
              "    </div>\n",
              "  </div>\n",
              "  "
            ]
          },
          "metadata": {},
          "execution_count": 89
        }
      ]
    },
    {
      "cell_type": "code",
      "source": [
        "data_raw['Class'].unique()\n",
        "class_dummies = pd.get_dummies(data_raw['Class'])\n",
        "class_dummies.head()"
      ],
      "metadata": {
        "colab": {
          "base_uri": "https://localhost:8080/",
          "height": 206
        },
        "id": "0vx9RCdZCZnT",
        "outputId": "9886243b-b3d0-4415-8828-9e277be4de1f"
      },
      "execution_count": 90,
      "outputs": [
        {
          "output_type": "execute_result",
          "data": {
            "text/plain": [
              "   Business  Eco  Eco Plus\n",
              "0         0    0         1\n",
              "1         1    0         0\n",
              "2         1    0         0\n",
              "3         1    0         0\n",
              "4         1    0         0"
            ],
            "text/html": [
              "\n",
              "  <div id=\"df-558c687b-bc3e-4713-8725-242195bcf140\">\n",
              "    <div class=\"colab-df-container\">\n",
              "      <div>\n",
              "<style scoped>\n",
              "    .dataframe tbody tr th:only-of-type {\n",
              "        vertical-align: middle;\n",
              "    }\n",
              "\n",
              "    .dataframe tbody tr th {\n",
              "        vertical-align: top;\n",
              "    }\n",
              "\n",
              "    .dataframe thead th {\n",
              "        text-align: right;\n",
              "    }\n",
              "</style>\n",
              "<table border=\"1\" class=\"dataframe\">\n",
              "  <thead>\n",
              "    <tr style=\"text-align: right;\">\n",
              "      <th></th>\n",
              "      <th>Business</th>\n",
              "      <th>Eco</th>\n",
              "      <th>Eco Plus</th>\n",
              "    </tr>\n",
              "  </thead>\n",
              "  <tbody>\n",
              "    <tr>\n",
              "      <th>0</th>\n",
              "      <td>0</td>\n",
              "      <td>0</td>\n",
              "      <td>1</td>\n",
              "    </tr>\n",
              "    <tr>\n",
              "      <th>1</th>\n",
              "      <td>1</td>\n",
              "      <td>0</td>\n",
              "      <td>0</td>\n",
              "    </tr>\n",
              "    <tr>\n",
              "      <th>2</th>\n",
              "      <td>1</td>\n",
              "      <td>0</td>\n",
              "      <td>0</td>\n",
              "    </tr>\n",
              "    <tr>\n",
              "      <th>3</th>\n",
              "      <td>1</td>\n",
              "      <td>0</td>\n",
              "      <td>0</td>\n",
              "    </tr>\n",
              "    <tr>\n",
              "      <th>4</th>\n",
              "      <td>1</td>\n",
              "      <td>0</td>\n",
              "      <td>0</td>\n",
              "    </tr>\n",
              "  </tbody>\n",
              "</table>\n",
              "</div>\n",
              "      <button class=\"colab-df-convert\" onclick=\"convertToInteractive('df-558c687b-bc3e-4713-8725-242195bcf140')\"\n",
              "              title=\"Convert this dataframe to an interactive table.\"\n",
              "              style=\"display:none;\">\n",
              "        \n",
              "  <svg xmlns=\"http://www.w3.org/2000/svg\" height=\"24px\"viewBox=\"0 0 24 24\"\n",
              "       width=\"24px\">\n",
              "    <path d=\"M0 0h24v24H0V0z\" fill=\"none\"/>\n",
              "    <path d=\"M18.56 5.44l.94 2.06.94-2.06 2.06-.94-2.06-.94-.94-2.06-.94 2.06-2.06.94zm-11 1L8.5 8.5l.94-2.06 2.06-.94-2.06-.94L8.5 2.5l-.94 2.06-2.06.94zm10 10l.94 2.06.94-2.06 2.06-.94-2.06-.94-.94-2.06-.94 2.06-2.06.94z\"/><path d=\"M17.41 7.96l-1.37-1.37c-.4-.4-.92-.59-1.43-.59-.52 0-1.04.2-1.43.59L10.3 9.45l-7.72 7.72c-.78.78-.78 2.05 0 2.83L4 21.41c.39.39.9.59 1.41.59.51 0 1.02-.2 1.41-.59l7.78-7.78 2.81-2.81c.8-.78.8-2.07 0-2.86zM5.41 20L4 18.59l7.72-7.72 1.47 1.35L5.41 20z\"/>\n",
              "  </svg>\n",
              "      </button>\n",
              "      \n",
              "  <style>\n",
              "    .colab-df-container {\n",
              "      display:flex;\n",
              "      flex-wrap:wrap;\n",
              "      gap: 12px;\n",
              "    }\n",
              "\n",
              "    .colab-df-convert {\n",
              "      background-color: #E8F0FE;\n",
              "      border: none;\n",
              "      border-radius: 50%;\n",
              "      cursor: pointer;\n",
              "      display: none;\n",
              "      fill: #1967D2;\n",
              "      height: 32px;\n",
              "      padding: 0 0 0 0;\n",
              "      width: 32px;\n",
              "    }\n",
              "\n",
              "    .colab-df-convert:hover {\n",
              "      background-color: #E2EBFA;\n",
              "      box-shadow: 0px 1px 2px rgba(60, 64, 67, 0.3), 0px 1px 3px 1px rgba(60, 64, 67, 0.15);\n",
              "      fill: #174EA6;\n",
              "    }\n",
              "\n",
              "    [theme=dark] .colab-df-convert {\n",
              "      background-color: #3B4455;\n",
              "      fill: #D2E3FC;\n",
              "    }\n",
              "\n",
              "    [theme=dark] .colab-df-convert:hover {\n",
              "      background-color: #434B5C;\n",
              "      box-shadow: 0px 1px 3px 1px rgba(0, 0, 0, 0.15);\n",
              "      filter: drop-shadow(0px 1px 2px rgba(0, 0, 0, 0.3));\n",
              "      fill: #FFFFFF;\n",
              "    }\n",
              "  </style>\n",
              "\n",
              "      <script>\n",
              "        const buttonEl =\n",
              "          document.querySelector('#df-558c687b-bc3e-4713-8725-242195bcf140 button.colab-df-convert');\n",
              "        buttonEl.style.display =\n",
              "          google.colab.kernel.accessAllowed ? 'block' : 'none';\n",
              "\n",
              "        async function convertToInteractive(key) {\n",
              "          const element = document.querySelector('#df-558c687b-bc3e-4713-8725-242195bcf140');\n",
              "          const dataTable =\n",
              "            await google.colab.kernel.invokeFunction('convertToInteractive',\n",
              "                                                     [key], {});\n",
              "          if (!dataTable) return;\n",
              "\n",
              "          const docLinkHtml = 'Like what you see? Visit the ' +\n",
              "            '<a target=\"_blank\" href=https://colab.research.google.com/notebooks/data_table.ipynb>data table notebook</a>'\n",
              "            + ' to learn more about interactive tables.';\n",
              "          element.innerHTML = '';\n",
              "          dataTable['output_type'] = 'display_data';\n",
              "          await google.colab.output.renderOutput(dataTable, element);\n",
              "          const docLink = document.createElement('div');\n",
              "          docLink.innerHTML = docLinkHtml;\n",
              "          element.appendChild(docLink);\n",
              "        }\n",
              "      </script>\n",
              "    </div>\n",
              "  </div>\n",
              "  "
            ]
          },
          "metadata": {},
          "execution_count": 90
        }
      ]
    },
    {
      "cell_type": "code",
      "source": [
        "#data_raw['satisfaction'].unique()\n",
        "#sat_dummies = pd.get_dummies(data_raw['satisfaction'])\n",
        "#sat_dummies.head()"
      ],
      "metadata": {
        "id": "OXnZqvptCecr"
      },
      "execution_count": 91,
      "outputs": []
    },
    {
      "cell_type": "code",
      "source": [
        "data_raw.info()"
      ],
      "metadata": {
        "colab": {
          "base_uri": "https://localhost:8080/"
        },
        "id": "4JG7KJ0CIlcg",
        "outputId": "b3b70c57-0978-45b3-c65c-9ecdc9eb0a21"
      },
      "execution_count": 92,
      "outputs": [
        {
          "output_type": "stream",
          "name": "stdout",
          "text": [
            "<class 'pandas.core.frame.DataFrame'>\n",
            "RangeIndex: 103904 entries, 0 to 103903\n",
            "Data columns (total 24 columns):\n",
            " #   Column                             Non-Null Count   Dtype   \n",
            "---  ------                             --------------   -----   \n",
            " 0   Unnamed: 0                         103904 non-null  int64   \n",
            " 1   id                                 103904 non-null  int64   \n",
            " 2   Gender                             103904 non-null  category\n",
            " 3   Customer Type                      103904 non-null  object  \n",
            " 4   Age                                103904 non-null  float64 \n",
            " 5   Type of Travel                     103904 non-null  category\n",
            " 6   Class                              103904 non-null  category\n",
            " 7   Flight Distance                    103904 non-null  float64 \n",
            " 8   Inflight wifi service              103904 non-null  int64   \n",
            " 9   Departure/Arrival time convenient  103904 non-null  int64   \n",
            " 10  Ease of Online booking             103904 non-null  float64 \n",
            " 11  Gate location                      103904 non-null  int64   \n",
            " 12  Food and drink                     103904 non-null  int64   \n",
            " 13  Online boarding                    103904 non-null  float64 \n",
            " 14  Seat comfort                       103904 non-null  float64 \n",
            " 15  Inflight entertainment             103904 non-null  float64 \n",
            " 16  On-board service                   103904 non-null  float64 \n",
            " 17  Leg room service                   103904 non-null  float64 \n",
            " 18  Baggage handling                   103904 non-null  int64   \n",
            " 19  Checkin service                    103904 non-null  float64 \n",
            " 20  Inflight service                   103904 non-null  int64   \n",
            " 21  Cleanliness                        103904 non-null  int64   \n",
            " 22  Departure Delay in Minutes         103904 non-null  int64   \n",
            " 23  Arrival Delay in Minutes           103904 non-null  float64 \n",
            "dtypes: category(3), float64(10), int64(10), object(1)\n",
            "memory usage: 16.9+ MB\n"
          ]
        }
      ]
    },
    {
      "cell_type": "code",
      "source": [
        "data_"
      ],
      "metadata": {
        "colab": {
          "base_uri": "https://localhost:8080/"
        },
        "id": "Bs_2a2CwC3MW",
        "outputId": "4f4227b4-6c51-4995-a217-d6d1c33ee910"
      },
      "execution_count": 93,
      "outputs": [
        {
          "output_type": "execute_result",
          "data": {
            "text/plain": [
              "0         neutral or dissatisfied\n",
              "1         neutral or dissatisfied\n",
              "2                       satisfied\n",
              "3         neutral or dissatisfied\n",
              "4                       satisfied\n",
              "                   ...           \n",
              "103899    neutral or dissatisfied\n",
              "103900                  satisfied\n",
              "103901    neutral or dissatisfied\n",
              "103902    neutral or dissatisfied\n",
              "103903    neutral or dissatisfied\n",
              "Name: satisfaction, Length: 103904, dtype: object"
            ]
          },
          "metadata": {},
          "execution_count": 93
        }
      ]
    },
    {
      "cell_type": "code",
      "source": [
        "data_raw = pd.concat((data_raw, class_dummies), axis = 1)\n",
        "#data_raw = pd.concat((data_raw, sat_dummies), axis = 1)\n",
        "data_raw = pd.concat((data_raw, tot_dummies), axis = 1)\n",
        "data_raw = pd.concat((data_raw, gender_dummies), axis = 1)\n",
        "\n",
        "data_raw = data_raw.drop(['Class','Type of Travel','Gender'], axis = 1)\n",
        "data_raw.head()"
      ],
      "metadata": {
        "id": "3OsY7Ii2Pdhv",
        "colab": {
          "base_uri": "https://localhost:8080/",
          "height": 314
        },
        "outputId": "42b5cfd1-9a93-49e3-d989-24e19a98c55a"
      },
      "execution_count": 94,
      "outputs": [
        {
          "output_type": "execute_result",
          "data": {
            "text/plain": [
              "   Unnamed: 0      id Customer Type   Age  Flight Distance  \\\n",
              "0           0   70172             1  13.0            460.0   \n",
              "1           1    5047             0  25.0            235.0   \n",
              "2           2  110028             1  26.0           1142.0   \n",
              "3           3   24026             1  25.0            562.0   \n",
              "4           4  119299             1  61.0            214.0   \n",
              "\n",
              "   Inflight wifi service  Departure/Arrival time convenient  \\\n",
              "0                      3                                  4   \n",
              "1                      3                                  2   \n",
              "2                      2                                  2   \n",
              "3                      2                                  5   \n",
              "4                      3                                  3   \n",
              "\n",
              "   Ease of Online booking  Gate location  Food and drink  ...  Cleanliness  \\\n",
              "0                     3.0              1               5  ...            5   \n",
              "1                     3.0              3               1  ...            1   \n",
              "2                     2.0              2               5  ...            5   \n",
              "3                     5.0              5               2  ...            2   \n",
              "4                     3.0              3               4  ...            3   \n",
              "\n",
              "   Departure Delay in Minutes  Arrival Delay in Minutes  Business  Eco  \\\n",
              "0                          25                      18.0         0    0   \n",
              "1                           1                       6.0         1    0   \n",
              "2                           0                       0.0         1    0   \n",
              "3                          11                       9.0         1    0   \n",
              "4                           0                       0.0         1    0   \n",
              "\n",
              "   Eco Plus  Business travel  Personal Travel  Female  Male  \n",
              "0         1                0                1       0     1  \n",
              "1         0                1                0       0     1  \n",
              "2         0                1                0       1     0  \n",
              "3         0                1                0       1     0  \n",
              "4         0                1                0       0     1  \n",
              "\n",
              "[5 rows x 28 columns]"
            ],
            "text/html": [
              "\n",
              "  <div id=\"df-1010e9f5-7db5-4cf0-aadc-dc244fdb9b40\">\n",
              "    <div class=\"colab-df-container\">\n",
              "      <div>\n",
              "<style scoped>\n",
              "    .dataframe tbody tr th:only-of-type {\n",
              "        vertical-align: middle;\n",
              "    }\n",
              "\n",
              "    .dataframe tbody tr th {\n",
              "        vertical-align: top;\n",
              "    }\n",
              "\n",
              "    .dataframe thead th {\n",
              "        text-align: right;\n",
              "    }\n",
              "</style>\n",
              "<table border=\"1\" class=\"dataframe\">\n",
              "  <thead>\n",
              "    <tr style=\"text-align: right;\">\n",
              "      <th></th>\n",
              "      <th>Unnamed: 0</th>\n",
              "      <th>id</th>\n",
              "      <th>Customer Type</th>\n",
              "      <th>Age</th>\n",
              "      <th>Flight Distance</th>\n",
              "      <th>Inflight wifi service</th>\n",
              "      <th>Departure/Arrival time convenient</th>\n",
              "      <th>Ease of Online booking</th>\n",
              "      <th>Gate location</th>\n",
              "      <th>Food and drink</th>\n",
              "      <th>...</th>\n",
              "      <th>Cleanliness</th>\n",
              "      <th>Departure Delay in Minutes</th>\n",
              "      <th>Arrival Delay in Minutes</th>\n",
              "      <th>Business</th>\n",
              "      <th>Eco</th>\n",
              "      <th>Eco Plus</th>\n",
              "      <th>Business travel</th>\n",
              "      <th>Personal Travel</th>\n",
              "      <th>Female</th>\n",
              "      <th>Male</th>\n",
              "    </tr>\n",
              "  </thead>\n",
              "  <tbody>\n",
              "    <tr>\n",
              "      <th>0</th>\n",
              "      <td>0</td>\n",
              "      <td>70172</td>\n",
              "      <td>1</td>\n",
              "      <td>13.0</td>\n",
              "      <td>460.0</td>\n",
              "      <td>3</td>\n",
              "      <td>4</td>\n",
              "      <td>3.0</td>\n",
              "      <td>1</td>\n",
              "      <td>5</td>\n",
              "      <td>...</td>\n",
              "      <td>5</td>\n",
              "      <td>25</td>\n",
              "      <td>18.0</td>\n",
              "      <td>0</td>\n",
              "      <td>0</td>\n",
              "      <td>1</td>\n",
              "      <td>0</td>\n",
              "      <td>1</td>\n",
              "      <td>0</td>\n",
              "      <td>1</td>\n",
              "    </tr>\n",
              "    <tr>\n",
              "      <th>1</th>\n",
              "      <td>1</td>\n",
              "      <td>5047</td>\n",
              "      <td>0</td>\n",
              "      <td>25.0</td>\n",
              "      <td>235.0</td>\n",
              "      <td>3</td>\n",
              "      <td>2</td>\n",
              "      <td>3.0</td>\n",
              "      <td>3</td>\n",
              "      <td>1</td>\n",
              "      <td>...</td>\n",
              "      <td>1</td>\n",
              "      <td>1</td>\n",
              "      <td>6.0</td>\n",
              "      <td>1</td>\n",
              "      <td>0</td>\n",
              "      <td>0</td>\n",
              "      <td>1</td>\n",
              "      <td>0</td>\n",
              "      <td>0</td>\n",
              "      <td>1</td>\n",
              "    </tr>\n",
              "    <tr>\n",
              "      <th>2</th>\n",
              "      <td>2</td>\n",
              "      <td>110028</td>\n",
              "      <td>1</td>\n",
              "      <td>26.0</td>\n",
              "      <td>1142.0</td>\n",
              "      <td>2</td>\n",
              "      <td>2</td>\n",
              "      <td>2.0</td>\n",
              "      <td>2</td>\n",
              "      <td>5</td>\n",
              "      <td>...</td>\n",
              "      <td>5</td>\n",
              "      <td>0</td>\n",
              "      <td>0.0</td>\n",
              "      <td>1</td>\n",
              "      <td>0</td>\n",
              "      <td>0</td>\n",
              "      <td>1</td>\n",
              "      <td>0</td>\n",
              "      <td>1</td>\n",
              "      <td>0</td>\n",
              "    </tr>\n",
              "    <tr>\n",
              "      <th>3</th>\n",
              "      <td>3</td>\n",
              "      <td>24026</td>\n",
              "      <td>1</td>\n",
              "      <td>25.0</td>\n",
              "      <td>562.0</td>\n",
              "      <td>2</td>\n",
              "      <td>5</td>\n",
              "      <td>5.0</td>\n",
              "      <td>5</td>\n",
              "      <td>2</td>\n",
              "      <td>...</td>\n",
              "      <td>2</td>\n",
              "      <td>11</td>\n",
              "      <td>9.0</td>\n",
              "      <td>1</td>\n",
              "      <td>0</td>\n",
              "      <td>0</td>\n",
              "      <td>1</td>\n",
              "      <td>0</td>\n",
              "      <td>1</td>\n",
              "      <td>0</td>\n",
              "    </tr>\n",
              "    <tr>\n",
              "      <th>4</th>\n",
              "      <td>4</td>\n",
              "      <td>119299</td>\n",
              "      <td>1</td>\n",
              "      <td>61.0</td>\n",
              "      <td>214.0</td>\n",
              "      <td>3</td>\n",
              "      <td>3</td>\n",
              "      <td>3.0</td>\n",
              "      <td>3</td>\n",
              "      <td>4</td>\n",
              "      <td>...</td>\n",
              "      <td>3</td>\n",
              "      <td>0</td>\n",
              "      <td>0.0</td>\n",
              "      <td>1</td>\n",
              "      <td>0</td>\n",
              "      <td>0</td>\n",
              "      <td>1</td>\n",
              "      <td>0</td>\n",
              "      <td>0</td>\n",
              "      <td>1</td>\n",
              "    </tr>\n",
              "  </tbody>\n",
              "</table>\n",
              "<p>5 rows × 28 columns</p>\n",
              "</div>\n",
              "      <button class=\"colab-df-convert\" onclick=\"convertToInteractive('df-1010e9f5-7db5-4cf0-aadc-dc244fdb9b40')\"\n",
              "              title=\"Convert this dataframe to an interactive table.\"\n",
              "              style=\"display:none;\">\n",
              "        \n",
              "  <svg xmlns=\"http://www.w3.org/2000/svg\" height=\"24px\"viewBox=\"0 0 24 24\"\n",
              "       width=\"24px\">\n",
              "    <path d=\"M0 0h24v24H0V0z\" fill=\"none\"/>\n",
              "    <path d=\"M18.56 5.44l.94 2.06.94-2.06 2.06-.94-2.06-.94-.94-2.06-.94 2.06-2.06.94zm-11 1L8.5 8.5l.94-2.06 2.06-.94-2.06-.94L8.5 2.5l-.94 2.06-2.06.94zm10 10l.94 2.06.94-2.06 2.06-.94-2.06-.94-.94-2.06-.94 2.06-2.06.94z\"/><path d=\"M17.41 7.96l-1.37-1.37c-.4-.4-.92-.59-1.43-.59-.52 0-1.04.2-1.43.59L10.3 9.45l-7.72 7.72c-.78.78-.78 2.05 0 2.83L4 21.41c.39.39.9.59 1.41.59.51 0 1.02-.2 1.41-.59l7.78-7.78 2.81-2.81c.8-.78.8-2.07 0-2.86zM5.41 20L4 18.59l7.72-7.72 1.47 1.35L5.41 20z\"/>\n",
              "  </svg>\n",
              "      </button>\n",
              "      \n",
              "  <style>\n",
              "    .colab-df-container {\n",
              "      display:flex;\n",
              "      flex-wrap:wrap;\n",
              "      gap: 12px;\n",
              "    }\n",
              "\n",
              "    .colab-df-convert {\n",
              "      background-color: #E8F0FE;\n",
              "      border: none;\n",
              "      border-radius: 50%;\n",
              "      cursor: pointer;\n",
              "      display: none;\n",
              "      fill: #1967D2;\n",
              "      height: 32px;\n",
              "      padding: 0 0 0 0;\n",
              "      width: 32px;\n",
              "    }\n",
              "\n",
              "    .colab-df-convert:hover {\n",
              "      background-color: #E2EBFA;\n",
              "      box-shadow: 0px 1px 2px rgba(60, 64, 67, 0.3), 0px 1px 3px 1px rgba(60, 64, 67, 0.15);\n",
              "      fill: #174EA6;\n",
              "    }\n",
              "\n",
              "    [theme=dark] .colab-df-convert {\n",
              "      background-color: #3B4455;\n",
              "      fill: #D2E3FC;\n",
              "    }\n",
              "\n",
              "    [theme=dark] .colab-df-convert:hover {\n",
              "      background-color: #434B5C;\n",
              "      box-shadow: 0px 1px 3px 1px rgba(0, 0, 0, 0.15);\n",
              "      filter: drop-shadow(0px 1px 2px rgba(0, 0, 0, 0.3));\n",
              "      fill: #FFFFFF;\n",
              "    }\n",
              "  </style>\n",
              "\n",
              "      <script>\n",
              "        const buttonEl =\n",
              "          document.querySelector('#df-1010e9f5-7db5-4cf0-aadc-dc244fdb9b40 button.colab-df-convert');\n",
              "        buttonEl.style.display =\n",
              "          google.colab.kernel.accessAllowed ? 'block' : 'none';\n",
              "\n",
              "        async function convertToInteractive(key) {\n",
              "          const element = document.querySelector('#df-1010e9f5-7db5-4cf0-aadc-dc244fdb9b40');\n",
              "          const dataTable =\n",
              "            await google.colab.kernel.invokeFunction('convertToInteractive',\n",
              "                                                     [key], {});\n",
              "          if (!dataTable) return;\n",
              "\n",
              "          const docLinkHtml = 'Like what you see? Visit the ' +\n",
              "            '<a target=\"_blank\" href=https://colab.research.google.com/notebooks/data_table.ipynb>data table notebook</a>'\n",
              "            + ' to learn more about interactive tables.';\n",
              "          element.innerHTML = '';\n",
              "          dataTable['output_type'] = 'display_data';\n",
              "          await google.colab.output.renderOutput(dataTable, element);\n",
              "          const docLink = document.createElement('div');\n",
              "          docLink.innerHTML = docLinkHtml;\n",
              "          element.appendChild(docLink);\n",
              "        }\n",
              "      </script>\n",
              "    </div>\n",
              "  </div>\n",
              "  "
            ]
          },
          "metadata": {},
          "execution_count": 94
        }
      ]
    },
    {
      "cell_type": "code",
      "source": [
        "data_raw.info()"
      ],
      "metadata": {
        "colab": {
          "base_uri": "https://localhost:8080/"
        },
        "id": "-BuAtYYWEhwQ",
        "outputId": "28f9b803-6b3b-4cab-a869-5c8ca9d45563"
      },
      "execution_count": 95,
      "outputs": [
        {
          "output_type": "stream",
          "name": "stdout",
          "text": [
            "<class 'pandas.core.frame.DataFrame'>\n",
            "RangeIndex: 103904 entries, 0 to 103903\n",
            "Data columns (total 28 columns):\n",
            " #   Column                             Non-Null Count   Dtype  \n",
            "---  ------                             --------------   -----  \n",
            " 0   Unnamed: 0                         103904 non-null  int64  \n",
            " 1   id                                 103904 non-null  int64  \n",
            " 2   Customer Type                      103904 non-null  object \n",
            " 3   Age                                103904 non-null  float64\n",
            " 4   Flight Distance                    103904 non-null  float64\n",
            " 5   Inflight wifi service              103904 non-null  int64  \n",
            " 6   Departure/Arrival time convenient  103904 non-null  int64  \n",
            " 7   Ease of Online booking             103904 non-null  float64\n",
            " 8   Gate location                      103904 non-null  int64  \n",
            " 9   Food and drink                     103904 non-null  int64  \n",
            " 10  Online boarding                    103904 non-null  float64\n",
            " 11  Seat comfort                       103904 non-null  float64\n",
            " 12  Inflight entertainment             103904 non-null  float64\n",
            " 13  On-board service                   103904 non-null  float64\n",
            " 14  Leg room service                   103904 non-null  float64\n",
            " 15  Baggage handling                   103904 non-null  int64  \n",
            " 16  Checkin service                    103904 non-null  float64\n",
            " 17  Inflight service                   103904 non-null  int64  \n",
            " 18  Cleanliness                        103904 non-null  int64  \n",
            " 19  Departure Delay in Minutes         103904 non-null  int64  \n",
            " 20  Arrival Delay in Minutes           103904 non-null  float64\n",
            " 21  Business                           103904 non-null  uint8  \n",
            " 22  Eco                                103904 non-null  uint8  \n",
            " 23  Eco Plus                           103904 non-null  uint8  \n",
            " 24  Business travel                    103904 non-null  uint8  \n",
            " 25  Personal Travel                    103904 non-null  uint8  \n",
            " 26  Female                             103904 non-null  uint8  \n",
            " 27  Male                               103904 non-null  uint8  \n",
            "dtypes: float64(10), int64(10), object(1), uint8(7)\n",
            "memory usage: 17.3+ MB\n"
          ]
        }
      ]
    },
    {
      "cell_type": "markdown",
      "source": [
        "***Нормализация***"
      ],
      "metadata": {
        "id": "OT1BZreGDh3E"
      }
    },
    {
      "cell_type": "code",
      "source": [
        "numerical_columns = [c for c in data_raw.columns if data_raw[c].dtype.name != 'object']\n",
        "data_norm = data_raw[numerical_columns]\n",
        "data_norm.describe()"
      ],
      "metadata": {
        "colab": {
          "base_uri": "https://localhost:8080/",
          "height": 428
        },
        "id": "c8qRu9nqRbUZ",
        "outputId": "75df7eee-679b-42fa-d29e-78cbcb3f02e4"
      },
      "execution_count": 96,
      "outputs": [
        {
          "output_type": "execute_result",
          "data": {
            "text/plain": [
              "          Unnamed: 0             id            Age  Flight Distance  \\\n",
              "count  103904.000000  103904.000000  103904.000000    103904.000000   \n",
              "mean    51951.500000   64924.210502      39.379966      1189.444988   \n",
              "std     29994.645522   37463.812252      15.114826       997.143375   \n",
              "min         0.000000       1.000000       7.000000        31.000000   \n",
              "25%     25975.750000   32533.750000      27.000000       414.000000   \n",
              "50%     51951.500000   64856.500000      40.000000       843.000000   \n",
              "75%     77927.250000   97368.250000      51.000000      1743.000000   \n",
              "max    103903.000000  129880.000000      85.000000      4983.000000   \n",
              "\n",
              "       Inflight wifi service  Departure/Arrival time convenient  \\\n",
              "count          103904.000000                      103904.000000   \n",
              "mean                2.729683                           3.060296   \n",
              "std                 1.327829                           1.525075   \n",
              "min                 0.000000                           0.000000   \n",
              "25%                 2.000000                           2.000000   \n",
              "50%                 3.000000                           3.000000   \n",
              "75%                 4.000000                           4.000000   \n",
              "max                 5.000000                           5.000000   \n",
              "\n",
              "       Ease of Online booking  Gate location  Food and drink  Online boarding  \\\n",
              "count           103904.000000  103904.000000   103904.000000    103904.000000   \n",
              "mean                 2.756881       2.976883        3.202129         3.250375   \n",
              "std                  1.398912       1.277621        1.329533         1.349502   \n",
              "min                  0.000000       0.000000        0.000000         0.000000   \n",
              "25%                  2.000000       2.000000        2.000000         2.000000   \n",
              "50%                  3.000000       3.000000        3.000000         3.000000   \n",
              "75%                  4.000000       4.000000        4.000000         4.000000   \n",
              "max                  5.000000       5.000000        5.000000         5.000000   \n",
              "\n",
              "       ...    Cleanliness  Departure Delay in Minutes  \\\n",
              "count  ...  103904.000000               103904.000000   \n",
              "mean   ...       3.286351                   14.815618   \n",
              "std    ...       1.312273                   38.230901   \n",
              "min    ...       0.000000                    0.000000   \n",
              "25%    ...       2.000000                    0.000000   \n",
              "50%    ...       3.000000                    0.000000   \n",
              "75%    ...       4.000000                   12.000000   \n",
              "max    ...       5.000000                 1592.000000   \n",
              "\n",
              "       Arrival Delay in Minutes       Business            Eco       Eco Plus  \\\n",
              "count             103904.000000  103904.000000  103904.000000  103904.000000   \n",
              "mean                  15.133392       0.478018       0.449858       0.072124   \n",
              "std                   38.649776       0.499519       0.497482       0.258695   \n",
              "min                    0.000000       0.000000       0.000000       0.000000   \n",
              "25%                    0.000000       0.000000       0.000000       0.000000   \n",
              "50%                    0.000000       0.000000       0.000000       0.000000   \n",
              "75%                   13.000000       1.000000       1.000000       0.000000   \n",
              "max                 1584.000000       1.000000       1.000000       1.000000   \n",
              "\n",
              "       Business travel  Personal Travel         Female           Male  \n",
              "count    103904.000000    103904.000000  103904.000000  103904.000000  \n",
              "mean          0.689627         0.310373       0.507459       0.492541  \n",
              "std           0.462649         0.462649       0.499947       0.499947  \n",
              "min           0.000000         0.000000       0.000000       0.000000  \n",
              "25%           0.000000         0.000000       0.000000       0.000000  \n",
              "50%           1.000000         0.000000       1.000000       0.000000  \n",
              "75%           1.000000         1.000000       1.000000       1.000000  \n",
              "max           1.000000         1.000000       1.000000       1.000000  \n",
              "\n",
              "[8 rows x 27 columns]"
            ],
            "text/html": [
              "\n",
              "  <div id=\"df-d5eb49a2-f3a4-41d5-9784-31d06a9520f4\">\n",
              "    <div class=\"colab-df-container\">\n",
              "      <div>\n",
              "<style scoped>\n",
              "    .dataframe tbody tr th:only-of-type {\n",
              "        vertical-align: middle;\n",
              "    }\n",
              "\n",
              "    .dataframe tbody tr th {\n",
              "        vertical-align: top;\n",
              "    }\n",
              "\n",
              "    .dataframe thead th {\n",
              "        text-align: right;\n",
              "    }\n",
              "</style>\n",
              "<table border=\"1\" class=\"dataframe\">\n",
              "  <thead>\n",
              "    <tr style=\"text-align: right;\">\n",
              "      <th></th>\n",
              "      <th>Unnamed: 0</th>\n",
              "      <th>id</th>\n",
              "      <th>Age</th>\n",
              "      <th>Flight Distance</th>\n",
              "      <th>Inflight wifi service</th>\n",
              "      <th>Departure/Arrival time convenient</th>\n",
              "      <th>Ease of Online booking</th>\n",
              "      <th>Gate location</th>\n",
              "      <th>Food and drink</th>\n",
              "      <th>Online boarding</th>\n",
              "      <th>...</th>\n",
              "      <th>Cleanliness</th>\n",
              "      <th>Departure Delay in Minutes</th>\n",
              "      <th>Arrival Delay in Minutes</th>\n",
              "      <th>Business</th>\n",
              "      <th>Eco</th>\n",
              "      <th>Eco Plus</th>\n",
              "      <th>Business travel</th>\n",
              "      <th>Personal Travel</th>\n",
              "      <th>Female</th>\n",
              "      <th>Male</th>\n",
              "    </tr>\n",
              "  </thead>\n",
              "  <tbody>\n",
              "    <tr>\n",
              "      <th>count</th>\n",
              "      <td>103904.000000</td>\n",
              "      <td>103904.000000</td>\n",
              "      <td>103904.000000</td>\n",
              "      <td>103904.000000</td>\n",
              "      <td>103904.000000</td>\n",
              "      <td>103904.000000</td>\n",
              "      <td>103904.000000</td>\n",
              "      <td>103904.000000</td>\n",
              "      <td>103904.000000</td>\n",
              "      <td>103904.000000</td>\n",
              "      <td>...</td>\n",
              "      <td>103904.000000</td>\n",
              "      <td>103904.000000</td>\n",
              "      <td>103904.000000</td>\n",
              "      <td>103904.000000</td>\n",
              "      <td>103904.000000</td>\n",
              "      <td>103904.000000</td>\n",
              "      <td>103904.000000</td>\n",
              "      <td>103904.000000</td>\n",
              "      <td>103904.000000</td>\n",
              "      <td>103904.000000</td>\n",
              "    </tr>\n",
              "    <tr>\n",
              "      <th>mean</th>\n",
              "      <td>51951.500000</td>\n",
              "      <td>64924.210502</td>\n",
              "      <td>39.379966</td>\n",
              "      <td>1189.444988</td>\n",
              "      <td>2.729683</td>\n",
              "      <td>3.060296</td>\n",
              "      <td>2.756881</td>\n",
              "      <td>2.976883</td>\n",
              "      <td>3.202129</td>\n",
              "      <td>3.250375</td>\n",
              "      <td>...</td>\n",
              "      <td>3.286351</td>\n",
              "      <td>14.815618</td>\n",
              "      <td>15.133392</td>\n",
              "      <td>0.478018</td>\n",
              "      <td>0.449858</td>\n",
              "      <td>0.072124</td>\n",
              "      <td>0.689627</td>\n",
              "      <td>0.310373</td>\n",
              "      <td>0.507459</td>\n",
              "      <td>0.492541</td>\n",
              "    </tr>\n",
              "    <tr>\n",
              "      <th>std</th>\n",
              "      <td>29994.645522</td>\n",
              "      <td>37463.812252</td>\n",
              "      <td>15.114826</td>\n",
              "      <td>997.143375</td>\n",
              "      <td>1.327829</td>\n",
              "      <td>1.525075</td>\n",
              "      <td>1.398912</td>\n",
              "      <td>1.277621</td>\n",
              "      <td>1.329533</td>\n",
              "      <td>1.349502</td>\n",
              "      <td>...</td>\n",
              "      <td>1.312273</td>\n",
              "      <td>38.230901</td>\n",
              "      <td>38.649776</td>\n",
              "      <td>0.499519</td>\n",
              "      <td>0.497482</td>\n",
              "      <td>0.258695</td>\n",
              "      <td>0.462649</td>\n",
              "      <td>0.462649</td>\n",
              "      <td>0.499947</td>\n",
              "      <td>0.499947</td>\n",
              "    </tr>\n",
              "    <tr>\n",
              "      <th>min</th>\n",
              "      <td>0.000000</td>\n",
              "      <td>1.000000</td>\n",
              "      <td>7.000000</td>\n",
              "      <td>31.000000</td>\n",
              "      <td>0.000000</td>\n",
              "      <td>0.000000</td>\n",
              "      <td>0.000000</td>\n",
              "      <td>0.000000</td>\n",
              "      <td>0.000000</td>\n",
              "      <td>0.000000</td>\n",
              "      <td>...</td>\n",
              "      <td>0.000000</td>\n",
              "      <td>0.000000</td>\n",
              "      <td>0.000000</td>\n",
              "      <td>0.000000</td>\n",
              "      <td>0.000000</td>\n",
              "      <td>0.000000</td>\n",
              "      <td>0.000000</td>\n",
              "      <td>0.000000</td>\n",
              "      <td>0.000000</td>\n",
              "      <td>0.000000</td>\n",
              "    </tr>\n",
              "    <tr>\n",
              "      <th>25%</th>\n",
              "      <td>25975.750000</td>\n",
              "      <td>32533.750000</td>\n",
              "      <td>27.000000</td>\n",
              "      <td>414.000000</td>\n",
              "      <td>2.000000</td>\n",
              "      <td>2.000000</td>\n",
              "      <td>2.000000</td>\n",
              "      <td>2.000000</td>\n",
              "      <td>2.000000</td>\n",
              "      <td>2.000000</td>\n",
              "      <td>...</td>\n",
              "      <td>2.000000</td>\n",
              "      <td>0.000000</td>\n",
              "      <td>0.000000</td>\n",
              "      <td>0.000000</td>\n",
              "      <td>0.000000</td>\n",
              "      <td>0.000000</td>\n",
              "      <td>0.000000</td>\n",
              "      <td>0.000000</td>\n",
              "      <td>0.000000</td>\n",
              "      <td>0.000000</td>\n",
              "    </tr>\n",
              "    <tr>\n",
              "      <th>50%</th>\n",
              "      <td>51951.500000</td>\n",
              "      <td>64856.500000</td>\n",
              "      <td>40.000000</td>\n",
              "      <td>843.000000</td>\n",
              "      <td>3.000000</td>\n",
              "      <td>3.000000</td>\n",
              "      <td>3.000000</td>\n",
              "      <td>3.000000</td>\n",
              "      <td>3.000000</td>\n",
              "      <td>3.000000</td>\n",
              "      <td>...</td>\n",
              "      <td>3.000000</td>\n",
              "      <td>0.000000</td>\n",
              "      <td>0.000000</td>\n",
              "      <td>0.000000</td>\n",
              "      <td>0.000000</td>\n",
              "      <td>0.000000</td>\n",
              "      <td>1.000000</td>\n",
              "      <td>0.000000</td>\n",
              "      <td>1.000000</td>\n",
              "      <td>0.000000</td>\n",
              "    </tr>\n",
              "    <tr>\n",
              "      <th>75%</th>\n",
              "      <td>77927.250000</td>\n",
              "      <td>97368.250000</td>\n",
              "      <td>51.000000</td>\n",
              "      <td>1743.000000</td>\n",
              "      <td>4.000000</td>\n",
              "      <td>4.000000</td>\n",
              "      <td>4.000000</td>\n",
              "      <td>4.000000</td>\n",
              "      <td>4.000000</td>\n",
              "      <td>4.000000</td>\n",
              "      <td>...</td>\n",
              "      <td>4.000000</td>\n",
              "      <td>12.000000</td>\n",
              "      <td>13.000000</td>\n",
              "      <td>1.000000</td>\n",
              "      <td>1.000000</td>\n",
              "      <td>0.000000</td>\n",
              "      <td>1.000000</td>\n",
              "      <td>1.000000</td>\n",
              "      <td>1.000000</td>\n",
              "      <td>1.000000</td>\n",
              "    </tr>\n",
              "    <tr>\n",
              "      <th>max</th>\n",
              "      <td>103903.000000</td>\n",
              "      <td>129880.000000</td>\n",
              "      <td>85.000000</td>\n",
              "      <td>4983.000000</td>\n",
              "      <td>5.000000</td>\n",
              "      <td>5.000000</td>\n",
              "      <td>5.000000</td>\n",
              "      <td>5.000000</td>\n",
              "      <td>5.000000</td>\n",
              "      <td>5.000000</td>\n",
              "      <td>...</td>\n",
              "      <td>5.000000</td>\n",
              "      <td>1592.000000</td>\n",
              "      <td>1584.000000</td>\n",
              "      <td>1.000000</td>\n",
              "      <td>1.000000</td>\n",
              "      <td>1.000000</td>\n",
              "      <td>1.000000</td>\n",
              "      <td>1.000000</td>\n",
              "      <td>1.000000</td>\n",
              "      <td>1.000000</td>\n",
              "    </tr>\n",
              "  </tbody>\n",
              "</table>\n",
              "<p>8 rows × 27 columns</p>\n",
              "</div>\n",
              "      <button class=\"colab-df-convert\" onclick=\"convertToInteractive('df-d5eb49a2-f3a4-41d5-9784-31d06a9520f4')\"\n",
              "              title=\"Convert this dataframe to an interactive table.\"\n",
              "              style=\"display:none;\">\n",
              "        \n",
              "  <svg xmlns=\"http://www.w3.org/2000/svg\" height=\"24px\"viewBox=\"0 0 24 24\"\n",
              "       width=\"24px\">\n",
              "    <path d=\"M0 0h24v24H0V0z\" fill=\"none\"/>\n",
              "    <path d=\"M18.56 5.44l.94 2.06.94-2.06 2.06-.94-2.06-.94-.94-2.06-.94 2.06-2.06.94zm-11 1L8.5 8.5l.94-2.06 2.06-.94-2.06-.94L8.5 2.5l-.94 2.06-2.06.94zm10 10l.94 2.06.94-2.06 2.06-.94-2.06-.94-.94-2.06-.94 2.06-2.06.94z\"/><path d=\"M17.41 7.96l-1.37-1.37c-.4-.4-.92-.59-1.43-.59-.52 0-1.04.2-1.43.59L10.3 9.45l-7.72 7.72c-.78.78-.78 2.05 0 2.83L4 21.41c.39.39.9.59 1.41.59.51 0 1.02-.2 1.41-.59l7.78-7.78 2.81-2.81c.8-.78.8-2.07 0-2.86zM5.41 20L4 18.59l7.72-7.72 1.47 1.35L5.41 20z\"/>\n",
              "  </svg>\n",
              "      </button>\n",
              "      \n",
              "  <style>\n",
              "    .colab-df-container {\n",
              "      display:flex;\n",
              "      flex-wrap:wrap;\n",
              "      gap: 12px;\n",
              "    }\n",
              "\n",
              "    .colab-df-convert {\n",
              "      background-color: #E8F0FE;\n",
              "      border: none;\n",
              "      border-radius: 50%;\n",
              "      cursor: pointer;\n",
              "      display: none;\n",
              "      fill: #1967D2;\n",
              "      height: 32px;\n",
              "      padding: 0 0 0 0;\n",
              "      width: 32px;\n",
              "    }\n",
              "\n",
              "    .colab-df-convert:hover {\n",
              "      background-color: #E2EBFA;\n",
              "      box-shadow: 0px 1px 2px rgba(60, 64, 67, 0.3), 0px 1px 3px 1px rgba(60, 64, 67, 0.15);\n",
              "      fill: #174EA6;\n",
              "    }\n",
              "\n",
              "    [theme=dark] .colab-df-convert {\n",
              "      background-color: #3B4455;\n",
              "      fill: #D2E3FC;\n",
              "    }\n",
              "\n",
              "    [theme=dark] .colab-df-convert:hover {\n",
              "      background-color: #434B5C;\n",
              "      box-shadow: 0px 1px 3px 1px rgba(0, 0, 0, 0.15);\n",
              "      filter: drop-shadow(0px 1px 2px rgba(0, 0, 0, 0.3));\n",
              "      fill: #FFFFFF;\n",
              "    }\n",
              "  </style>\n",
              "\n",
              "      <script>\n",
              "        const buttonEl =\n",
              "          document.querySelector('#df-d5eb49a2-f3a4-41d5-9784-31d06a9520f4 button.colab-df-convert');\n",
              "        buttonEl.style.display =\n",
              "          google.colab.kernel.accessAllowed ? 'block' : 'none';\n",
              "\n",
              "        async function convertToInteractive(key) {\n",
              "          const element = document.querySelector('#df-d5eb49a2-f3a4-41d5-9784-31d06a9520f4');\n",
              "          const dataTable =\n",
              "            await google.colab.kernel.invokeFunction('convertToInteractive',\n",
              "                                                     [key], {});\n",
              "          if (!dataTable) return;\n",
              "\n",
              "          const docLinkHtml = 'Like what you see? Visit the ' +\n",
              "            '<a target=\"_blank\" href=https://colab.research.google.com/notebooks/data_table.ipynb>data table notebook</a>'\n",
              "            + ' to learn more about interactive tables.';\n",
              "          element.innerHTML = '';\n",
              "          dataTable['output_type'] = 'display_data';\n",
              "          await google.colab.output.renderOutput(dataTable, element);\n",
              "          const docLink = document.createElement('div');\n",
              "          docLink.innerHTML = docLinkHtml;\n",
              "          element.appendChild(docLink);\n",
              "        }\n",
              "      </script>\n",
              "    </div>\n",
              "  </div>\n",
              "  "
            ]
          },
          "metadata": {},
          "execution_count": 96
        }
      ]
    },
    {
      "cell_type": "code",
      "source": [
        "data_norm = (data_raw - data_norm.mean(axis = 0))/data_norm.std(axis = 0)\n",
        "data_norm.describe()"
      ],
      "metadata": {
        "colab": {
          "base_uri": "https://localhost:8080/",
          "height": 515
        },
        "id": "fWSWQE6gDlMI",
        "outputId": "32c05867-e4a6-44f9-a893-c9503138f650"
      },
      "execution_count": 97,
      "outputs": [
        {
          "output_type": "execute_result",
          "data": {
            "text/plain": [
              "                Age  Arrival Delay in Minutes  Baggage handling      Business  \\\n",
              "count  1.039040e+05              1.039040e+05      1.039040e+05  1.039040e+05   \n",
              "mean  -1.136380e-16              1.463429e-17      1.914767e-18  5.737463e-17   \n",
              "std    1.000000e+00              1.000000e+00      1.000000e+00  1.000000e+00   \n",
              "min   -2.142265e+00             -3.915519e-01     -2.228661e+00 -9.569570e-01   \n",
              "25%   -8.190611e-01             -3.915519e-01     -5.350423e-01 -9.569570e-01   \n",
              "50%    4.102157e-02             -3.915519e-01      3.117670e-01 -9.569570e-01   \n",
              "75%    7.687838e-01             -5.519805e-02      1.158576e+00  1.044969e+00   \n",
              "max    3.018231e+00              4.059187e+01      1.158576e+00  1.044969e+00   \n",
              "\n",
              "       Business travel  Checkin service   Cleanliness  \\\n",
              "count     1.039040e+05     1.039040e+05  1.039040e+05   \n",
              "mean      7.282954e-17    -2.543905e-17 -4.321903e-17   \n",
              "std       1.000000e+00     1.000000e+00  1.000000e+00   \n",
              "min      -1.490607e+00    -2.611326e+00 -2.504320e+00   \n",
              "25%      -1.490607e+00    -2.404896e-01 -9.802465e-01   \n",
              "50%       6.708614e-01    -2.404896e-01 -2.182099e-01   \n",
              "75%       6.708614e-01     5.497894e-01  5.438268e-01   \n",
              "max       6.708614e-01     1.340068e+00  1.305863e+00   \n",
              "\n",
              "       Departure Delay in Minutes  Departure/Arrival time convenient  \\\n",
              "count                1.039040e+05                       1.039040e+05   \n",
              "mean                 1.853221e-17                      -1.155699e-16   \n",
              "std                  1.000000e+00                       1.000000e+00   \n",
              "min                 -3.875299e-01                      -2.006653e+00   \n",
              "25%                 -3.875299e-01                      -6.952418e-01   \n",
              "50%                 -3.875299e-01                      -3.953644e-02   \n",
              "75%                 -7.364771e-02                       6.161689e-01   \n",
              "max                  4.125418e+01                       1.271874e+00   \n",
              "\n",
              "       Ease of Online booking  ...  Inflight service  Inflight wifi service  \\\n",
              "count            1.039040e+05  ...      1.039040e+05           1.039040e+05   \n",
              "mean            -1.319822e-16  ...      5.607532e-17           1.204252e-16   \n",
              "std              1.000000e+00  ...      1.000000e+00           1.000000e+00   \n",
              "min             -1.970732e+00  ...     -3.096489e+00          -2.055748e+00   \n",
              "25%             -5.410499e-01  ...     -5.447375e-01          -5.495308e-01   \n",
              "50%              1.737912e-01  ...      3.058464e-01           2.035780e-01   \n",
              "75%              8.886323e-01  ...      1.156430e+00           9.566867e-01   \n",
              "max              1.603473e+00  ...      1.156430e+00           1.709795e+00   \n",
              "\n",
              "       Leg room service          Male  On-board service  Online boarding  \\\n",
              "count      1.039040e+05  1.039040e+05      1.039040e+05     1.039040e+05   \n",
              "mean       3.391873e-17  3.788504e-17      1.377265e-16     1.914767e-18   \n",
              "std        1.000000e+00  1.000000e+00      1.000000e+00     1.000000e+00   \n",
              "min       -2.547168e+00 -9.851873e-01     -2.625336e+00    -2.408574e+00   \n",
              "25%       -1.026945e+00 -9.851873e-01     -1.072968e+00    -9.265459e-01   \n",
              "50%        4.932781e-01 -9.851873e-01      4.794003e-01    -1.855317e-01   \n",
              "75%        4.932781e-01  1.015026e+00      4.794003e-01     5.554825e-01   \n",
              "max        1.253390e+00  1.015026e+00      1.255584e+00     1.296497e+00   \n",
              "\n",
              "       Personal Travel  Seat comfort    Unnamed: 0            id  \n",
              "count     1.039040e+05  1.039040e+05  1.039040e+05  1.039040e+05  \n",
              "mean     -7.282954e-17  1.460010e-16 -3.501289e-17 -5.301512e-17  \n",
              "std       1.000000e+00  1.000000e+00  1.000000e+00  1.000000e+00  \n",
              "min      -6.708614e-01 -2.607413e+00 -1.732026e+00 -1.732958e+00  \n",
              "25%      -6.708614e-01 -1.091205e+00 -8.660129e-01 -8.645799e-01  \n",
              "50%      -6.708614e-01  4.250036e-01  0.000000e+00 -1.807357e-03  \n",
              "75%       1.490607e+00  1.183108e+00  8.660129e-01  8.660101e-01  \n",
              "max       1.490607e+00  1.183108e+00  1.732026e+00  1.733828e+00  \n",
              "\n",
              "[8 rows x 27 columns]"
            ],
            "text/html": [
              "\n",
              "  <div id=\"df-a564da60-40cf-48bf-acfb-0295a48e51dd\">\n",
              "    <div class=\"colab-df-container\">\n",
              "      <div>\n",
              "<style scoped>\n",
              "    .dataframe tbody tr th:only-of-type {\n",
              "        vertical-align: middle;\n",
              "    }\n",
              "\n",
              "    .dataframe tbody tr th {\n",
              "        vertical-align: top;\n",
              "    }\n",
              "\n",
              "    .dataframe thead th {\n",
              "        text-align: right;\n",
              "    }\n",
              "</style>\n",
              "<table border=\"1\" class=\"dataframe\">\n",
              "  <thead>\n",
              "    <tr style=\"text-align: right;\">\n",
              "      <th></th>\n",
              "      <th>Age</th>\n",
              "      <th>Arrival Delay in Minutes</th>\n",
              "      <th>Baggage handling</th>\n",
              "      <th>Business</th>\n",
              "      <th>Business travel</th>\n",
              "      <th>Checkin service</th>\n",
              "      <th>Cleanliness</th>\n",
              "      <th>Departure Delay in Minutes</th>\n",
              "      <th>Departure/Arrival time convenient</th>\n",
              "      <th>Ease of Online booking</th>\n",
              "      <th>...</th>\n",
              "      <th>Inflight service</th>\n",
              "      <th>Inflight wifi service</th>\n",
              "      <th>Leg room service</th>\n",
              "      <th>Male</th>\n",
              "      <th>On-board service</th>\n",
              "      <th>Online boarding</th>\n",
              "      <th>Personal Travel</th>\n",
              "      <th>Seat comfort</th>\n",
              "      <th>Unnamed: 0</th>\n",
              "      <th>id</th>\n",
              "    </tr>\n",
              "  </thead>\n",
              "  <tbody>\n",
              "    <tr>\n",
              "      <th>count</th>\n",
              "      <td>1.039040e+05</td>\n",
              "      <td>1.039040e+05</td>\n",
              "      <td>1.039040e+05</td>\n",
              "      <td>1.039040e+05</td>\n",
              "      <td>1.039040e+05</td>\n",
              "      <td>1.039040e+05</td>\n",
              "      <td>1.039040e+05</td>\n",
              "      <td>1.039040e+05</td>\n",
              "      <td>1.039040e+05</td>\n",
              "      <td>1.039040e+05</td>\n",
              "      <td>...</td>\n",
              "      <td>1.039040e+05</td>\n",
              "      <td>1.039040e+05</td>\n",
              "      <td>1.039040e+05</td>\n",
              "      <td>1.039040e+05</td>\n",
              "      <td>1.039040e+05</td>\n",
              "      <td>1.039040e+05</td>\n",
              "      <td>1.039040e+05</td>\n",
              "      <td>1.039040e+05</td>\n",
              "      <td>1.039040e+05</td>\n",
              "      <td>1.039040e+05</td>\n",
              "    </tr>\n",
              "    <tr>\n",
              "      <th>mean</th>\n",
              "      <td>-1.136380e-16</td>\n",
              "      <td>1.463429e-17</td>\n",
              "      <td>1.914767e-18</td>\n",
              "      <td>5.737463e-17</td>\n",
              "      <td>7.282954e-17</td>\n",
              "      <td>-2.543905e-17</td>\n",
              "      <td>-4.321903e-17</td>\n",
              "      <td>1.853221e-17</td>\n",
              "      <td>-1.155699e-16</td>\n",
              "      <td>-1.319822e-16</td>\n",
              "      <td>...</td>\n",
              "      <td>5.607532e-17</td>\n",
              "      <td>1.204252e-16</td>\n",
              "      <td>3.391873e-17</td>\n",
              "      <td>3.788504e-17</td>\n",
              "      <td>1.377265e-16</td>\n",
              "      <td>1.914767e-18</td>\n",
              "      <td>-7.282954e-17</td>\n",
              "      <td>1.460010e-16</td>\n",
              "      <td>-3.501289e-17</td>\n",
              "      <td>-5.301512e-17</td>\n",
              "    </tr>\n",
              "    <tr>\n",
              "      <th>std</th>\n",
              "      <td>1.000000e+00</td>\n",
              "      <td>1.000000e+00</td>\n",
              "      <td>1.000000e+00</td>\n",
              "      <td>1.000000e+00</td>\n",
              "      <td>1.000000e+00</td>\n",
              "      <td>1.000000e+00</td>\n",
              "      <td>1.000000e+00</td>\n",
              "      <td>1.000000e+00</td>\n",
              "      <td>1.000000e+00</td>\n",
              "      <td>1.000000e+00</td>\n",
              "      <td>...</td>\n",
              "      <td>1.000000e+00</td>\n",
              "      <td>1.000000e+00</td>\n",
              "      <td>1.000000e+00</td>\n",
              "      <td>1.000000e+00</td>\n",
              "      <td>1.000000e+00</td>\n",
              "      <td>1.000000e+00</td>\n",
              "      <td>1.000000e+00</td>\n",
              "      <td>1.000000e+00</td>\n",
              "      <td>1.000000e+00</td>\n",
              "      <td>1.000000e+00</td>\n",
              "    </tr>\n",
              "    <tr>\n",
              "      <th>min</th>\n",
              "      <td>-2.142265e+00</td>\n",
              "      <td>-3.915519e-01</td>\n",
              "      <td>-2.228661e+00</td>\n",
              "      <td>-9.569570e-01</td>\n",
              "      <td>-1.490607e+00</td>\n",
              "      <td>-2.611326e+00</td>\n",
              "      <td>-2.504320e+00</td>\n",
              "      <td>-3.875299e-01</td>\n",
              "      <td>-2.006653e+00</td>\n",
              "      <td>-1.970732e+00</td>\n",
              "      <td>...</td>\n",
              "      <td>-3.096489e+00</td>\n",
              "      <td>-2.055748e+00</td>\n",
              "      <td>-2.547168e+00</td>\n",
              "      <td>-9.851873e-01</td>\n",
              "      <td>-2.625336e+00</td>\n",
              "      <td>-2.408574e+00</td>\n",
              "      <td>-6.708614e-01</td>\n",
              "      <td>-2.607413e+00</td>\n",
              "      <td>-1.732026e+00</td>\n",
              "      <td>-1.732958e+00</td>\n",
              "    </tr>\n",
              "    <tr>\n",
              "      <th>25%</th>\n",
              "      <td>-8.190611e-01</td>\n",
              "      <td>-3.915519e-01</td>\n",
              "      <td>-5.350423e-01</td>\n",
              "      <td>-9.569570e-01</td>\n",
              "      <td>-1.490607e+00</td>\n",
              "      <td>-2.404896e-01</td>\n",
              "      <td>-9.802465e-01</td>\n",
              "      <td>-3.875299e-01</td>\n",
              "      <td>-6.952418e-01</td>\n",
              "      <td>-5.410499e-01</td>\n",
              "      <td>...</td>\n",
              "      <td>-5.447375e-01</td>\n",
              "      <td>-5.495308e-01</td>\n",
              "      <td>-1.026945e+00</td>\n",
              "      <td>-9.851873e-01</td>\n",
              "      <td>-1.072968e+00</td>\n",
              "      <td>-9.265459e-01</td>\n",
              "      <td>-6.708614e-01</td>\n",
              "      <td>-1.091205e+00</td>\n",
              "      <td>-8.660129e-01</td>\n",
              "      <td>-8.645799e-01</td>\n",
              "    </tr>\n",
              "    <tr>\n",
              "      <th>50%</th>\n",
              "      <td>4.102157e-02</td>\n",
              "      <td>-3.915519e-01</td>\n",
              "      <td>3.117670e-01</td>\n",
              "      <td>-9.569570e-01</td>\n",
              "      <td>6.708614e-01</td>\n",
              "      <td>-2.404896e-01</td>\n",
              "      <td>-2.182099e-01</td>\n",
              "      <td>-3.875299e-01</td>\n",
              "      <td>-3.953644e-02</td>\n",
              "      <td>1.737912e-01</td>\n",
              "      <td>...</td>\n",
              "      <td>3.058464e-01</td>\n",
              "      <td>2.035780e-01</td>\n",
              "      <td>4.932781e-01</td>\n",
              "      <td>-9.851873e-01</td>\n",
              "      <td>4.794003e-01</td>\n",
              "      <td>-1.855317e-01</td>\n",
              "      <td>-6.708614e-01</td>\n",
              "      <td>4.250036e-01</td>\n",
              "      <td>0.000000e+00</td>\n",
              "      <td>-1.807357e-03</td>\n",
              "    </tr>\n",
              "    <tr>\n",
              "      <th>75%</th>\n",
              "      <td>7.687838e-01</td>\n",
              "      <td>-5.519805e-02</td>\n",
              "      <td>1.158576e+00</td>\n",
              "      <td>1.044969e+00</td>\n",
              "      <td>6.708614e-01</td>\n",
              "      <td>5.497894e-01</td>\n",
              "      <td>5.438268e-01</td>\n",
              "      <td>-7.364771e-02</td>\n",
              "      <td>6.161689e-01</td>\n",
              "      <td>8.886323e-01</td>\n",
              "      <td>...</td>\n",
              "      <td>1.156430e+00</td>\n",
              "      <td>9.566867e-01</td>\n",
              "      <td>4.932781e-01</td>\n",
              "      <td>1.015026e+00</td>\n",
              "      <td>4.794003e-01</td>\n",
              "      <td>5.554825e-01</td>\n",
              "      <td>1.490607e+00</td>\n",
              "      <td>1.183108e+00</td>\n",
              "      <td>8.660129e-01</td>\n",
              "      <td>8.660101e-01</td>\n",
              "    </tr>\n",
              "    <tr>\n",
              "      <th>max</th>\n",
              "      <td>3.018231e+00</td>\n",
              "      <td>4.059187e+01</td>\n",
              "      <td>1.158576e+00</td>\n",
              "      <td>1.044969e+00</td>\n",
              "      <td>6.708614e-01</td>\n",
              "      <td>1.340068e+00</td>\n",
              "      <td>1.305863e+00</td>\n",
              "      <td>4.125418e+01</td>\n",
              "      <td>1.271874e+00</td>\n",
              "      <td>1.603473e+00</td>\n",
              "      <td>...</td>\n",
              "      <td>1.156430e+00</td>\n",
              "      <td>1.709795e+00</td>\n",
              "      <td>1.253390e+00</td>\n",
              "      <td>1.015026e+00</td>\n",
              "      <td>1.255584e+00</td>\n",
              "      <td>1.296497e+00</td>\n",
              "      <td>1.490607e+00</td>\n",
              "      <td>1.183108e+00</td>\n",
              "      <td>1.732026e+00</td>\n",
              "      <td>1.733828e+00</td>\n",
              "    </tr>\n",
              "  </tbody>\n",
              "</table>\n",
              "<p>8 rows × 27 columns</p>\n",
              "</div>\n",
              "      <button class=\"colab-df-convert\" onclick=\"convertToInteractive('df-a564da60-40cf-48bf-acfb-0295a48e51dd')\"\n",
              "              title=\"Convert this dataframe to an interactive table.\"\n",
              "              style=\"display:none;\">\n",
              "        \n",
              "  <svg xmlns=\"http://www.w3.org/2000/svg\" height=\"24px\"viewBox=\"0 0 24 24\"\n",
              "       width=\"24px\">\n",
              "    <path d=\"M0 0h24v24H0V0z\" fill=\"none\"/>\n",
              "    <path d=\"M18.56 5.44l.94 2.06.94-2.06 2.06-.94-2.06-.94-.94-2.06-.94 2.06-2.06.94zm-11 1L8.5 8.5l.94-2.06 2.06-.94-2.06-.94L8.5 2.5l-.94 2.06-2.06.94zm10 10l.94 2.06.94-2.06 2.06-.94-2.06-.94-.94-2.06-.94 2.06-2.06.94z\"/><path d=\"M17.41 7.96l-1.37-1.37c-.4-.4-.92-.59-1.43-.59-.52 0-1.04.2-1.43.59L10.3 9.45l-7.72 7.72c-.78.78-.78 2.05 0 2.83L4 21.41c.39.39.9.59 1.41.59.51 0 1.02-.2 1.41-.59l7.78-7.78 2.81-2.81c.8-.78.8-2.07 0-2.86zM5.41 20L4 18.59l7.72-7.72 1.47 1.35L5.41 20z\"/>\n",
              "  </svg>\n",
              "      </button>\n",
              "      \n",
              "  <style>\n",
              "    .colab-df-container {\n",
              "      display:flex;\n",
              "      flex-wrap:wrap;\n",
              "      gap: 12px;\n",
              "    }\n",
              "\n",
              "    .colab-df-convert {\n",
              "      background-color: #E8F0FE;\n",
              "      border: none;\n",
              "      border-radius: 50%;\n",
              "      cursor: pointer;\n",
              "      display: none;\n",
              "      fill: #1967D2;\n",
              "      height: 32px;\n",
              "      padding: 0 0 0 0;\n",
              "      width: 32px;\n",
              "    }\n",
              "\n",
              "    .colab-df-convert:hover {\n",
              "      background-color: #E2EBFA;\n",
              "      box-shadow: 0px 1px 2px rgba(60, 64, 67, 0.3), 0px 1px 3px 1px rgba(60, 64, 67, 0.15);\n",
              "      fill: #174EA6;\n",
              "    }\n",
              "\n",
              "    [theme=dark] .colab-df-convert {\n",
              "      background-color: #3B4455;\n",
              "      fill: #D2E3FC;\n",
              "    }\n",
              "\n",
              "    [theme=dark] .colab-df-convert:hover {\n",
              "      background-color: #434B5C;\n",
              "      box-shadow: 0px 1px 3px 1px rgba(0, 0, 0, 0.15);\n",
              "      filter: drop-shadow(0px 1px 2px rgba(0, 0, 0, 0.3));\n",
              "      fill: #FFFFFF;\n",
              "    }\n",
              "  </style>\n",
              "\n",
              "      <script>\n",
              "        const buttonEl =\n",
              "          document.querySelector('#df-a564da60-40cf-48bf-acfb-0295a48e51dd button.colab-df-convert');\n",
              "        buttonEl.style.display =\n",
              "          google.colab.kernel.accessAllowed ? 'block' : 'none';\n",
              "\n",
              "        async function convertToInteractive(key) {\n",
              "          const element = document.querySelector('#df-a564da60-40cf-48bf-acfb-0295a48e51dd');\n",
              "          const dataTable =\n",
              "            await google.colab.kernel.invokeFunction('convertToInteractive',\n",
              "                                                     [key], {});\n",
              "          if (!dataTable) return;\n",
              "\n",
              "          const docLinkHtml = 'Like what you see? Visit the ' +\n",
              "            '<a target=\"_blank\" href=https://colab.research.google.com/notebooks/data_table.ipynb>data table notebook</a>'\n",
              "            + ' to learn more about interactive tables.';\n",
              "          element.innerHTML = '';\n",
              "          dataTable['output_type'] = 'display_data';\n",
              "          await google.colab.output.renderOutput(dataTable, element);\n",
              "          const docLink = document.createElement('div');\n",
              "          docLink.innerHTML = docLinkHtml;\n",
              "          element.appendChild(docLink);\n",
              "        }\n",
              "      </script>\n",
              "    </div>\n",
              "  </div>\n",
              "  "
            ]
          },
          "metadata": {},
          "execution_count": 97
        }
      ]
    },
    {
      "cell_type": "markdown",
      "source": [
        "Отлично, перейдем к разбиению на обучающую и тестовую выборку"
      ],
      "metadata": {
        "id": "wV5lNsVWFNPb"
      }
    },
    {
      "cell_type": "markdown",
      "source": [
        "**Обучение**\n",
        "\n",
        "**Выбор обучающей и тестовой выборок**"
      ],
      "metadata": {
        "id": "ryRd8xOZFWda"
      }
    },
    {
      "cell_type": "code",
      "source": [
        "X = data_raw.drop('Customer Type', axis = 1)\n",
        "y = data_\n",
        "feature_names = X.columns"
      ],
      "metadata": {
        "id": "NbYp-YTRFnQu"
      },
      "execution_count": 47,
      "outputs": []
    },
    {
      "cell_type": "code",
      "source": [
        "feature_names"
      ],
      "metadata": {
        "colab": {
          "base_uri": "https://localhost:8080/"
        },
        "id": "VRlRbITqSB8P",
        "outputId": "0f80cb47-3fca-4087-aae8-8ffc0a7a6970"
      },
      "execution_count": 48,
      "outputs": [
        {
          "output_type": "execute_result",
          "data": {
            "text/plain": [
              "Index(['Unnamed: 0', 'id', 'Age', 'Flight Distance', 'Inflight wifi service',\n",
              "       'Departure/Arrival time convenient', 'Ease of Online booking',\n",
              "       'Gate location', 'Food and drink', 'Online boarding', 'Seat comfort',\n",
              "       'Inflight entertainment', 'On-board service', 'Leg room service',\n",
              "       'Baggage handling', 'Checkin service', 'Inflight service',\n",
              "       'Cleanliness', 'Departure Delay in Minutes', 'Arrival Delay in Minutes',\n",
              "       'Business', 'Eco', 'Eco Plus', 'Business travel', 'Personal Travel',\n",
              "       'Female', 'Male'],\n",
              "      dtype='object')"
            ]
          },
          "metadata": {},
          "execution_count": 48
        }
      ]
    },
    {
      "cell_type": "code",
      "source": [
        "X# = X.to_numpy()\n",
        "#type(X)"
      ],
      "metadata": {
        "colab": {
          "base_uri": "https://localhost:8080/"
        },
        "id": "tsX8NtlBSOqb",
        "outputId": "6e13eefa-9a44-4dcb-fc74-c6df5a0cceb8"
      },
      "execution_count": 98,
      "outputs": [
        {
          "output_type": "execute_result",
          "data": {
            "text/plain": [
              "array([[0.00000e+00, 7.01720e+04, 1.30000e+01, ..., 1.00000e+00,\n",
              "        0.00000e+00, 1.00000e+00],\n",
              "       [1.00000e+00, 5.04700e+03, 2.50000e+01, ..., 0.00000e+00,\n",
              "        0.00000e+00, 1.00000e+00],\n",
              "       [2.00000e+00, 1.10028e+05, 2.60000e+01, ..., 0.00000e+00,\n",
              "        1.00000e+00, 0.00000e+00],\n",
              "       ...,\n",
              "       [1.03901e+05, 6.88250e+04, 3.00000e+01, ..., 0.00000e+00,\n",
              "        0.00000e+00, 1.00000e+00],\n",
              "       [1.03902e+05, 5.41730e+04, 2.20000e+01, ..., 0.00000e+00,\n",
              "        1.00000e+00, 0.00000e+00],\n",
              "       [1.03903e+05, 6.25670e+04, 4.00000e+01, ..., 0.00000e+00,\n",
              "        0.00000e+00, 1.00000e+00]])"
            ]
          },
          "metadata": {},
          "execution_count": 98
        }
      ]
    },
    {
      "cell_type": "code",
      "source": [
        "#y = np.array(y, dtype='int')\n",
        "y"
      ],
      "metadata": {
        "colab": {
          "base_uri": "https://localhost:8080/"
        },
        "id": "nzxuMme3SSCC",
        "outputId": "0941078a-075e-4906-b64e-46ded76768d2"
      },
      "execution_count": 99,
      "outputs": [
        {
          "output_type": "execute_result",
          "data": {
            "text/plain": [
              "0         neutral or dissatisfied\n",
              "1         neutral or dissatisfied\n",
              "2                       satisfied\n",
              "3         neutral or dissatisfied\n",
              "4                       satisfied\n",
              "                   ...           \n",
              "103899    neutral or dissatisfied\n",
              "103900                  satisfied\n",
              "103901    neutral or dissatisfied\n",
              "103902    neutral or dissatisfied\n",
              "103903    neutral or dissatisfied\n",
              "Name: satisfaction, Length: 103904, dtype: object"
            ]
          },
          "metadata": {},
          "execution_count": 99
        }
      ]
    },
    {
      "cell_type": "markdown",
      "source": [
        "***Смотрим совпадают ли размерности массивов для работы с ними***"
      ],
      "metadata": {
        "id": "a1L1vLFySb1b"
      }
    },
    {
      "cell_type": "markdown",
      "source": [
        "разобьем данные на обучающую и тестовую выборки. За обучающую возьмем 0.75 данных, за тестовую 025"
      ],
      "metadata": {
        "id": "scybi3o7Squm"
      }
    },
    {
      "cell_type": "code",
      "source": [
        "print(X.shape)\n",
        "print(y.shape)\n",
        "N, d = X.shape"
      ],
      "metadata": {
        "colab": {
          "base_uri": "https://localhost:8080/"
        },
        "id": "LiDBb6URSZzW",
        "outputId": "86356c86-186e-4b2e-f7a4-78e812dfc783"
      },
      "execution_count": 100,
      "outputs": [
        {
          "output_type": "stream",
          "name": "stdout",
          "text": [
            "(103904, 27)\n",
            "(103904,)\n"
          ]
        }
      ]
    },
    {
      "cell_type": "code",
      "source": [
        "from sklearn.model_selection import train_test_split\n",
        "X_train, X_test, y_train, y_test = train_test_split(X, y, test_size = 0.25, random_state = 42)\n",
        "\n",
        "N_train, _ = X_train.shape\n",
        "N_test, _ = X_test.shape\n",
        "\n",
        "print(N_train, N_test)"
      ],
      "metadata": {
        "colab": {
          "base_uri": "https://localhost:8080/"
        },
        "id": "s3I8i6VTSl7y",
        "outputId": "17ba3cdd-9742-43f4-a44a-3cff6555bfbb"
      },
      "execution_count": 101,
      "outputs": [
        {
          "output_type": "stream",
          "name": "stdout",
          "text": [
            "77928 25976\n"
          ]
        }
      ]
    },
    {
      "cell_type": "markdown",
      "source": [
        "***kNN - метод ближайших соседей***"
      ],
      "metadata": {
        "id": "zLhpb3XlS9N7"
      }
    },
    {
      "cell_type": "code",
      "source": [
        "from sklearn.neighbors import KNeighborsClassifier\n",
        "\n",
        "knn = KNeighborsClassifier(n_neighbors = 10)\n",
        "knn.fit(X_train, y_train)"
      ],
      "metadata": {
        "colab": {
          "base_uri": "https://localhost:8080/"
        },
        "id": "O1_1fvJ2TR1c",
        "outputId": "12fc937f-d0bc-491d-b886-aea55d1c919f"
      },
      "execution_count": null,
      "outputs": [
        {
          "output_type": "execute_result",
          "data": {
            "text/plain": [
              "KNeighborsClassifier(n_neighbors=10)"
            ]
          },
          "metadata": {},
          "execution_count": 80
        }
      ]
    },
    {
      "cell_type": "code",
      "source": [
        "knn"
      ],
      "metadata": {
        "colab": {
          "base_uri": "https://localhost:8080/"
        },
        "id": "24lfhyHoTjCg",
        "outputId": "ea596375-1cfa-4cb8-e0b0-9a3960e66130"
      },
      "execution_count": null,
      "outputs": [
        {
          "output_type": "execute_result",
          "data": {
            "text/plain": [
              "KNeighborsClassifier(n_neighbors=10)"
            ]
          },
          "metadata": {},
          "execution_count": 81
        }
      ]
    },
    {
      "cell_type": "code",
      "source": [
        "y_test_predict = knn.predict(X_test)\n",
        "err_test = np.mean(y_test != y_test_predict)"
      ],
      "metadata": {
        "id": "SrFIftjYTmmp"
      },
      "execution_count": null,
      "outputs": []
    },
    {
      "cell_type": "code",
      "source": [
        "err_test"
      ],
      "metadata": {
        "colab": {
          "base_uri": "https://localhost:8080/"
        },
        "id": "aoWQfEInUt99",
        "outputId": "7c8d92c7-6a46-45c4-fa13-781c6a9114b5"
      },
      "execution_count": null,
      "outputs": [
        {
          "output_type": "execute_result",
          "data": {
            "text/plain": [
              "0.4096666666666667"
            ]
          },
          "metadata": {},
          "execution_count": 83
        }
      ]
    },
    {
      "cell_type": "markdown",
      "source": [
        "Возьмем 7 соседей"
      ],
      "metadata": {
        "id": "wtcZoBsOVKE5"
      }
    },
    {
      "cell_type": "code",
      "source": [
        "knn = KNeighborsClassifier(n_neighbors = 7)\n",
        "knn.fit(X_train, y_train)\n",
        "y_test_predict = knn.predict(X_test)\n",
        "err_test = np.mean(y_test != y_test_predict)\n",
        "err_test"
      ],
      "metadata": {
        "colab": {
          "base_uri": "https://localhost:8080/"
        },
        "id": "WYsjf-T7VL5L",
        "outputId": "7acd4d75-242a-472c-df6f-0cdf18c63705"
      },
      "execution_count": null,
      "outputs": [
        {
          "output_type": "execute_result",
          "data": {
            "text/plain": [
              "0.4256666666666667"
            ]
          },
          "metadata": {},
          "execution_count": 84
        }
      ]
    },
    {
      "cell_type": "code",
      "source": [
        "knn = KNeighborsClassifier(n_neighbors = 13)\n",
        "knn.fit(X_train, y_train)\n",
        "y_test_predict = knn.predict(X_test)\n",
        "err_test = np.mean(y_test != y_test_predict)\n",
        "err_test"
      ],
      "metadata": {
        "colab": {
          "base_uri": "https://localhost:8080/"
        },
        "id": "DnELFAkAXWxt",
        "outputId": "8a28b431-c88d-45a7-9688-99c88396d981"
      },
      "execution_count": null,
      "outputs": [
        {
          "output_type": "execute_result",
          "data": {
            "text/plain": [
              "0.4226666666666667"
            ]
          },
          "metadata": {},
          "execution_count": 85
        }
      ]
    },
    {
      "cell_type": "markdown",
      "source": [
        "***Random Forest***"
      ],
      "metadata": {
        "id": "ksBR0wf-YAx1"
      }
    },
    {
      "cell_type": "code",
      "source": [
        "from sklearn import ensemble\n",
        "rf = ensemble.RandomForestClassifier(n_estimators = 1000)\n",
        "rf.fit(X_train, y_train)\n",
        "\n",
        "err_train = np.mean(y_train != rf.predict(X_train))\n",
        "err_test  = np.mean(y_test  != rf.predict(X_test))\n",
        "\n",
        "print(err_train, err_test)"
      ],
      "metadata": {
        "colab": {
          "base_uri": "https://localhost:8080/"
        },
        "id": "u3b8_WVHYCK0",
        "outputId": "e01e97b6-cd86-4503-dbe8-e95775bbb240"
      },
      "execution_count": null,
      "outputs": [
        {
          "output_type": "stream",
          "name": "stdout",
          "text": [
            "0.0 0.0\n"
          ]
        }
      ]
    },
    {
      "cell_type": "code",
      "source": [
        "np.sum(rf.feature_importances_)"
      ],
      "metadata": {
        "colab": {
          "base_uri": "https://localhost:8080/"
        },
        "id": "JP8Fm55fYZCl",
        "outputId": "69c1ca9f-7850-4ef9-e504-019e8fc20503"
      },
      "execution_count": null,
      "outputs": [
        {
          "output_type": "execute_result",
          "data": {
            "text/plain": [
              "1.0"
            ]
          },
          "metadata": {},
          "execution_count": 87
        }
      ]
    },
    {
      "cell_type": "code",
      "source": [
        "importances = rf.feature_importances_\n",
        "indices = np.argsort(importances)[::-1]\n",
        "\n",
        "print(\"Feature ranking:\")\n",
        "\n",
        "for f in range(d):\n",
        "    print(\"%2d. feature '%5s' (%f)\" % (f + 1, feature_names[indices[f]], importances[indices[f]])) "
      ],
      "metadata": {
        "colab": {
          "base_uri": "https://localhost:8080/"
        },
        "id": "YsEgitg7Yjll",
        "outputId": "1a885158-7883-4533-c86d-36e156569e03"
      },
      "execution_count": null,
      "outputs": [
        {
          "output_type": "stream",
          "name": "stdout",
          "text": [
            "Feature ranking:\n",
            " 1. feature 'satisfied' (0.361839)\n",
            " 2. feature 'Business travel' (0.343095)\n",
            " 3. feature 'Seat comfort' (0.069132)\n",
            " 4. feature '  Eco' (0.036982)\n",
            " 5. feature 'Departure/Arrival time convenient' (0.029247)\n",
            " 6. feature 'Eco Plus' (0.026873)\n",
            " 7. feature 'Personal Travel' (0.026336)\n",
            " 8. feature 'Female' (0.022848)\n",
            " 9. feature 'On-board service' (0.019628)\n",
            "10. feature 'Inflight entertainment' (0.012207)\n",
            "11. feature 'Baggage handling' (0.008625)\n",
            "12. feature 'Leg room service' (0.006913)\n",
            "13. feature '  Age' (0.005835)\n",
            "14. feature 'Gate location' (0.005518)\n",
            "15. feature 'Departure Delay in Minutes' (0.005142)\n",
            "16. feature 'Inflight wifi service' (0.004181)\n",
            "17. feature 'Checkin service' (0.003871)\n",
            "18. feature 'Cleanliness' (0.003144)\n",
            "19. feature 'Inflight service' (0.002138)\n",
            "20. feature 'Flight Distance' (0.001481)\n",
            "21. feature '   id' (0.001228)\n",
            "22. feature 'Online boarding' (0.000997)\n",
            "23. feature 'Ease of Online booking' (0.000667)\n",
            "24. feature 'Food and drink' (0.000524)\n",
            "25. feature 'Business' (0.000446)\n",
            "26. feature 'Unnamed: 0' (0.000359)\n",
            "27. feature 'Arrival Delay in Minutes' (0.000262)\n",
            "28. feature 'neutral or dissatisfied' (0.000232)\n",
            "29. feature ' Male' (0.000127)\n"
          ]
        }
      ]
    },
    {
      "cell_type": "code",
      "source": [
        "d_first = 10\n",
        "plt.title(\"Вклад каждого пункта опроса:\")\n",
        "plt.bar(range(d_first), importances[indices[:d_first]], align = 'center', color = 'green')\n",
        "plt.xticks(range(d_first), feature_names[indices[:d_first]], rotation = 90)\n",
        "plt.xlim([-5, d_first+5])"
      ],
      "metadata": {
        "colab": {
          "base_uri": "https://localhost:8080/",
          "height": 460
        },
        "id": "8gCq7zYTYpQC",
        "outputId": "8a0d62eb-844a-4ba3-8470-fec4074ddbb8"
      },
      "execution_count": null,
      "outputs": [
        {
          "output_type": "execute_result",
          "data": {
            "text/plain": [
              "(-5.0, 15.0)"
            ]
          },
          "metadata": {},
          "execution_count": 89
        },
        {
          "output_type": "display_data",
          "data": {
            "text/plain": [
              "<Figure size 432x288 with 1 Axes>"
            ],
            "image/png": "[encoded data removed]"
          },
          "metadata": {
            "needs_background": "light"
          }
        }
      ]
    },
    {
      "cell_type": "markdown",
      "source": [
        "Можно сказать, что половина принаков вносит свой значительный вклад, а в основном Age, Personal Travel, Buisiness travel Flight Distance"
      ],
      "metadata": {
        "id": "12bY6sBeY-h2"
      }
    },
    {
      "cell_type": "markdown",
      "source": [
        "**ВЫВОД:**\n",
        "\n",
        "-Безусловно алгоритм Random Forest, чем метод ближайших соседей;\n",
        "\n",
        "-При увеличении числа соседей, ошибка уменьшается на тестовой выборке;\n",
        "\n",
        "-0.0 ошибка на обучающей выборке, и 0.01324299353249153 ошибка на тестовой выборке при методе random forest; а у knn - 0.18\n"
      ],
      "metadata": {
        "id": "ujmSDG6NZ3Ye"
      }
    },
    {
      "cell_type": "markdown",
      "source": [],
      "metadata": {
        "id": "_z9TL0bgVAXO"
      }
    },
    {
      "cell_type": "markdown",
      "source": [
        "# **ОБУЧЕНИЕ НА НАШЕЙ ВЫБОРКЕ ПОЛНОСВЯЗНУЮ(НЕГЛУБОКУЮ)НЕЙРОННУЮ СЕТЬ.**"
      ],
      "metadata": {
        "id": "vstBXDY6YWws"
      }
    },
    {
      "cell_type": "markdown",
      "source": [
        "На обучающую и тестовую выборку уже разбили, далее следует обучить классификатор."
      ],
      "metadata": {
        "id": "lzlbH955Zsor"
      }
    },
    {
      "cell_type": "markdown",
      "source": [],
      "metadata": {
        "id": "ShnU6nL6Ykb1"
      }
    },
    {
      "cell_type": "code",
      "source": [
        "from sklearn.neural_network import MLPClassifier"
      ],
      "metadata": {
        "id": "XPcPN1ZOZgkd"
      },
      "execution_count": 102,
      "outputs": []
    },
    {
      "cell_type": "code",
      "source": [
        "mlp_model = MLPClassifier(hidden_layer_sizes = (100,),\n",
        "                          solver = 'lbfgs', \n",
        "                          activation = 'logistic',\n",
        "                          random_state = 42)"
      ],
      "metadata": {
        "id": "4LLIJQc7bvVA"
      },
      "execution_count": 103,
      "outputs": []
    },
    {
      "cell_type": "code",
      "source": [
        "#X = data_raw\n",
        "#y = data_raw['satisfied']\n",
        "X_train, X_test, y_train, y_test = train_test_split(X, y,train_size = 20000, test_size = 3000,stratify = y, random_state = 2)\n",
        "X_train.shape, X_test.shape "
      ],
      "metadata": {
        "colab": {
          "base_uri": "https://localhost:8080/"
        },
        "id": "exUG1b8Zb44Q",
        "outputId": "722aa7c0-1d1c-4851-fc51-5eccc92b462e"
      },
      "execution_count": 104,
      "outputs": [
        {
          "output_type": "execute_result",
          "data": {
            "text/plain": [
              "((20000, 27), (3000, 27))"
            ]
          },
          "metadata": {},
          "execution_count": 104
        }
      ]
    },
    {
      "cell_type": "code",
      "source": [
        "%%time\n",
        "mlp_model.fit(X_train, y_train)"
      ],
      "metadata": {
        "colab": {
          "base_uri": "https://localhost:8080/"
        },
        "id": "86xdwi9Tb25s",
        "outputId": "7829ba72-6f35-44b0-aa69-21b9e6a183f9"
      },
      "execution_count": 105,
      "outputs": [
        {
          "output_type": "stream",
          "name": "stdout",
          "text": [
            "CPU times: user 45.2 s, sys: 27 s, total: 1min 12s\n",
            "Wall time: 38.6 s\n"
          ]
        },
        {
          "output_type": "stream",
          "name": "stderr",
          "text": [
            "/usr/local/lib/python3.8/dist-packages/sklearn/neural_network/_multilayer_perceptron.py:549: ConvergenceWarning: lbfgs failed to converge (status=1):\n",
            "STOP: TOTAL NO. of ITERATIONS REACHED LIMIT.\n",
            "\n",
            "Increase the number of iterations (max_iter) or scale the data as shown in:\n",
            "    https://scikit-learn.org/stable/modules/preprocessing.html\n",
            "  self.n_iter_ = _check_optimize_result(\"lbfgs\", opt_res, self.max_iter)\n"
          ]
        },
        {
          "output_type": "execute_result",
          "data": {
            "text/plain": [
              "MLPClassifier(activation='logistic', random_state=42, solver='lbfgs')"
            ]
          },
          "metadata": {},
          "execution_count": 105
        }
      ]
    },
    {
      "cell_type": "markdown",
      "source": [
        "**Далее как это предлагается на https://github.com/NikolaiZolotykh/MachineLearningCourse/blob/master/14.%20MLP%20-%20%D0%A0%D0%B0%D1%81%D0%BF%D0%BE%D0%B7%D0%BD%D0%B0%D0%B2%D0%B0%D0%BD%D0%B8%D0%B5%20%D1%80%D1%83%D0%BA%D0%BE%D0%BF%D0%B8%D1%81%D0%BD%D1%8B%D1%85%20%D1%86%D0%B8%D1%84%D1%80.ipynb проверим качество классификатора.**"
      ],
      "metadata": {
        "id": "ZPDU3VY-bGHm"
      }
    },
    {
      "cell_type": "code",
      "source": [
        "y_train_pred = mlp_model.predict(X_train)\n",
        "y_test_pred = mlp_model.predict(X_test)"
      ],
      "metadata": {
        "id": "hpjdwNHUb9Ru"
      },
      "execution_count": 106,
      "outputs": []
    },
    {
      "cell_type": "markdown",
      "source": [
        "# **Ошибки на обучающей и тестовой выборке**"
      ],
      "metadata": {
        "id": "_2JegoaEcCGb"
      }
    },
    {
      "cell_type": "code",
      "source": [
        "print(np.mean(y_train != y_train_pred), np.mean(y_test != y_test_pred))"
      ],
      "metadata": {
        "colab": {
          "base_uri": "https://localhost:8080/"
        },
        "id": "Sytght7XcJY2",
        "outputId": "25f7da0f-7659-4319-f4bb-1e267f8cfe2f"
      },
      "execution_count": 107,
      "outputs": [
        {
          "output_type": "stream",
          "name": "stdout",
          "text": [
            "0.4113 0.416\n"
          ]
        }
      ]
    },
    {
      "cell_type": "markdown",
      "source": [
        "**Или так:**"
      ],
      "metadata": {
        "id": "aGUHrTlwcSbB"
      }
    },
    {
      "cell_type": "code",
      "source": [
        "from sklearn.metrics import accuracy_score\n",
        "accuracy_score(y_train, y_train_pred)\n"
      ],
      "metadata": {
        "colab": {
          "base_uri": "https://localhost:8080/"
        },
        "id": "YglNUCqucWAJ",
        "outputId": "316e4f46-c5cd-431e-af19-ad0ec9dad08b"
      },
      "execution_count": 108,
      "outputs": [
        {
          "output_type": "execute_result",
          "data": {
            "text/plain": [
              "0.5887"
            ]
          },
          "metadata": {},
          "execution_count": 108
        }
      ]
    },
    {
      "cell_type": "code",
      "source": [
        "accuracy_score(y_test, y_test_pred)"
      ],
      "metadata": {
        "colab": {
          "base_uri": "https://localhost:8080/"
        },
        "id": "Dl45-xWvcc7S",
        "outputId": "10f37fc0-6c91-4d03-89b6-68d99d3aefd5"
      },
      "execution_count": 109,
      "outputs": [
        {
          "output_type": "execute_result",
          "data": {
            "text/plain": [
              "0.584"
            ]
          },
          "metadata": {},
          "execution_count": 109
        }
      ]
    },
    {
      "cell_type": "markdown",
      "source": [
        "# **Подбор _гипер_параметров**\n",
        "# Подберем оптимальное значение параметра регуляризации alpha"
      ],
      "metadata": {
        "id": "aOS2XW8EcoR0"
      }
    },
    {
      "cell_type": "code",
      "source": [
        "alpha_arr = np.logspace(-3, 2, 21)\n",
        "test_err = []\n",
        "train_err = []\n",
        "train_acc = []\n",
        "test_acc = []\n",
        "\n",
        "for alpha in alpha_arr:\n",
        "    mlp_model = MLPClassifier(alpha = alpha, hidden_layer_sizes = (3,), \n",
        "                              solver = 'lbfgs', activation = 'logistic', max_iter=1000, random_state = 42)\n",
        "    mlp_model.fit(X_train, y_train)\n",
        "\n",
        "    y_train_pred = mlp_model.predict(X_train)\n",
        "    y_test_pred = mlp_model.predict(X_test)\n",
        "    \n",
        "    train_err.append(np.mean(y_train != y_train_pred))\n",
        "    test_err.append(np.mean(y_test != y_test_pred))\n",
        "    train_acc.append(accuracy_score(y_train, y_train_pred))\n",
        "    test_acc.append(accuracy_score(y_test, y_test_pred))"
      ],
      "metadata": {
        "id": "RPkHfHDnALK_"
      },
      "execution_count": 136,
      "outputs": []
    },
    {
      "cell_type": "code",
      "source": [
        "plt.semilogx(alpha_arr, train_err, 'b-o', label = 'train')\n",
        "plt.semilogx(alpha_arr, test_err, 'r-o', label = 'test')\n",
        "plt.xlim([np.min(alpha_arr), np.max(alpha_arr)])\n",
        "plt.title('Error vs. alpha')\n",
        "plt.xlabel('Alpha')\n",
        "plt.ylabel('Error')\n",
        "plt.legend()\n",
        "pass"
      ],
      "metadata": {
        "colab": {
          "base_uri": "https://localhost:8080/",
          "height": 299
        },
        "id": "KfVzrLGyGmZk",
        "outputId": "0453c906-04dd-494a-91bc-ef6ccf033c23"
      },
      "execution_count": 137,
      "outputs": [
        {
          "output_type": "display_data",
          "data": {
            "text/plain": [
              "<Figure size 432x288 with 1 Axes>"
            ],
            "image/png": "[encoded data removed]"
          },
          "metadata": {
            "needs_background": "light"
          }
        }
      ]
    },
    {
      "cell_type": "markdown",
      "source": [
        "**Рассмотрим как менялась метрика в зависимости от гиперпараметра:**"
      ],
      "metadata": {
        "id": "eWQSsg8jhnFn"
      }
    },
    {
      "cell_type": "code",
      "source": [
        "plt.semilogx(alpha_arr, train_acc, 'r-o', label = 'train')\n",
        "plt.semilogx(alpha_arr, test_acc, 'b-o', label = 'test')\n",
        "plt.xlim([np.min(alpha_arr), np.max(alpha_arr)])\n",
        "plt.title('Accuracy vs. alpha')\n",
        "plt.xlabel('alpha')\n",
        "plt.ylabel('Accuracy')\n",
        "plt.legend()"
      ],
      "metadata": {
        "colab": {
          "base_uri": "https://localhost:8080/",
          "height": 317
        },
        "id": "QN8HjLNFhpmL",
        "outputId": "1c08f436-3eb1-4bed-99d4-79c9113c0c4b"
      },
      "execution_count": 138,
      "outputs": [
        {
          "output_type": "execute_result",
          "data": {
            "text/plain": [
              "<matplotlib.legend.Legend at 0x7f8135a45d30>"
            ]
          },
          "metadata": {},
          "execution_count": 138
        },
        {
          "output_type": "display_data",
          "data": {
            "text/plain": [
              "<Figure size 432x288 with 1 Axes>"
            ],
            "image/png": "[encoded data removed]"
          },
          "metadata": {
            "needs_background": "light"
          }
        }
      ]
    },
    {
      "cell_type": "code",
      "source": [
        "alpha_arr = np.logspace(-3, 2, 21)\n",
        "test_err = []\n",
        "train_err = []\n",
        "train_acc = []\n",
        "test_acc = []\n",
        "\n",
        "for alpha in alpha_arr:\n",
        "    mlp_model = MLPClassifier(alpha = alpha, hidden_layer_sizes = (30,), \n",
        "                              solver = 'lbfgs', activation = 'logistic', max_iter=1000, random_state = 42)\n",
        "    mlp_model.fit(X_train, y_train)\n",
        "\n",
        "    y_train_pred = mlp_model.predict(X_train)\n",
        "    y_test_pred = mlp_model.predict(X_test)\n",
        "    \n",
        "    train_err.append(np.mean(y_train != y_train_pred))\n",
        "    test_err.append(np.mean(y_test != y_test_pred))\n",
        "    train_acc.append(accuracy_score(y_train, y_train_pred))\n",
        "    test_acc.append(accuracy_score(y_test, y_test_pred))"
      ],
      "metadata": {
        "colab": {
          "base_uri": "https://localhost:8080/"
        },
        "id": "5W87dbMyucwh",
        "outputId": "536ab748-ead7-4c44-e0e9-cc2b6848ea2c"
      },
      "execution_count": 124,
      "outputs": [
        {
          "output_type": "stream",
          "name": "stderr",
          "text": [
            "/usr/local/lib/python3.8/dist-packages/sklearn/neural_network/_multilayer_perceptron.py:549: ConvergenceWarning: lbfgs failed to converge (status=1):\n",
            "STOP: TOTAL NO. of ITERATIONS REACHED LIMIT.\n",
            "\n",
            "Increase the number of iterations (max_iter) or scale the data as shown in:\n",
            "    https://scikit-learn.org/stable/modules/preprocessing.html\n",
            "  self.n_iter_ = _check_optimize_result(\"lbfgs\", opt_res, self.max_iter)\n",
            "/usr/local/lib/python3.8/dist-packages/sklearn/neural_network/_multilayer_perceptron.py:549: ConvergenceWarning: lbfgs failed to converge (status=1):\n",
            "STOP: TOTAL NO. of ITERATIONS REACHED LIMIT.\n",
            "\n",
            "Increase the number of iterations (max_iter) or scale the data as shown in:\n",
            "    https://scikit-learn.org/stable/modules/preprocessing.html\n",
            "  self.n_iter_ = _check_optimize_result(\"lbfgs\", opt_res, self.max_iter)\n",
            "/usr/local/lib/python3.8/dist-packages/sklearn/neural_network/_multilayer_perceptron.py:549: ConvergenceWarning: lbfgs failed to converge (status=1):\n",
            "STOP: TOTAL NO. of ITERATIONS REACHED LIMIT.\n",
            "\n",
            "Increase the number of iterations (max_iter) or scale the data as shown in:\n",
            "    https://scikit-learn.org/stable/modules/preprocessing.html\n",
            "  self.n_iter_ = _check_optimize_result(\"lbfgs\", opt_res, self.max_iter)\n",
            "/usr/local/lib/python3.8/dist-packages/sklearn/neural_network/_multilayer_perceptron.py:549: ConvergenceWarning: lbfgs failed to converge (status=1):\n",
            "STOP: TOTAL NO. of ITERATIONS REACHED LIMIT.\n",
            "\n",
            "Increase the number of iterations (max_iter) or scale the data as shown in:\n",
            "    https://scikit-learn.org/stable/modules/preprocessing.html\n",
            "  self.n_iter_ = _check_optimize_result(\"lbfgs\", opt_res, self.max_iter)\n",
            "/usr/local/lib/python3.8/dist-packages/sklearn/neural_network/_multilayer_perceptron.py:549: ConvergenceWarning: lbfgs failed to converge (status=1):\n",
            "STOP: TOTAL NO. of ITERATIONS REACHED LIMIT.\n",
            "\n",
            "Increase the number of iterations (max_iter) or scale the data as shown in:\n",
            "    https://scikit-learn.org/stable/modules/preprocessing.html\n",
            "  self.n_iter_ = _check_optimize_result(\"lbfgs\", opt_res, self.max_iter)\n",
            "/usr/local/lib/python3.8/dist-packages/sklearn/neural_network/_multilayer_perceptron.py:549: ConvergenceWarning: lbfgs failed to converge (status=1):\n",
            "STOP: TOTAL NO. of ITERATIONS REACHED LIMIT.\n",
            "\n",
            "Increase the number of iterations (max_iter) or scale the data as shown in:\n",
            "    https://scikit-learn.org/stable/modules/preprocessing.html\n",
            "  self.n_iter_ = _check_optimize_result(\"lbfgs\", opt_res, self.max_iter)\n",
            "/usr/local/lib/python3.8/dist-packages/sklearn/neural_network/_multilayer_perceptron.py:549: ConvergenceWarning: lbfgs failed to converge (status=1):\n",
            "STOP: TOTAL NO. of ITERATIONS REACHED LIMIT.\n",
            "\n",
            "Increase the number of iterations (max_iter) or scale the data as shown in:\n",
            "    https://scikit-learn.org/stable/modules/preprocessing.html\n",
            "  self.n_iter_ = _check_optimize_result(\"lbfgs\", opt_res, self.max_iter)\n",
            "/usr/local/lib/python3.8/dist-packages/sklearn/neural_network/_multilayer_perceptron.py:549: ConvergenceWarning: lbfgs failed to converge (status=1):\n",
            "STOP: TOTAL NO. of ITERATIONS REACHED LIMIT.\n",
            "\n",
            "Increase the number of iterations (max_iter) or scale the data as shown in:\n",
            "    https://scikit-learn.org/stable/modules/preprocessing.html\n",
            "  self.n_iter_ = _check_optimize_result(\"lbfgs\", opt_res, self.max_iter)\n",
            "/usr/local/lib/python3.8/dist-packages/sklearn/neural_network/_multilayer_perceptron.py:549: ConvergenceWarning: lbfgs failed to converge (status=1):\n",
            "STOP: TOTAL NO. of ITERATIONS REACHED LIMIT.\n",
            "\n",
            "Increase the number of iterations (max_iter) or scale the data as shown in:\n",
            "    https://scikit-learn.org/stable/modules/preprocessing.html\n",
            "  self.n_iter_ = _check_optimize_result(\"lbfgs\", opt_res, self.max_iter)\n",
            "/usr/local/lib/python3.8/dist-packages/sklearn/neural_network/_multilayer_perceptron.py:549: ConvergenceWarning: lbfgs failed to converge (status=1):\n",
            "STOP: TOTAL NO. of ITERATIONS REACHED LIMIT.\n",
            "\n",
            "Increase the number of iterations (max_iter) or scale the data as shown in:\n",
            "    https://scikit-learn.org/stable/modules/preprocessing.html\n",
            "  self.n_iter_ = _check_optimize_result(\"lbfgs\", opt_res, self.max_iter)\n",
            "/usr/local/lib/python3.8/dist-packages/sklearn/neural_network/_multilayer_perceptron.py:549: ConvergenceWarning: lbfgs failed to converge (status=1):\n",
            "STOP: TOTAL NO. of ITERATIONS REACHED LIMIT.\n",
            "\n",
            "Increase the number of iterations (max_iter) or scale the data as shown in:\n",
            "    https://scikit-learn.org/stable/modules/preprocessing.html\n",
            "  self.n_iter_ = _check_optimize_result(\"lbfgs\", opt_res, self.max_iter)\n",
            "/usr/local/lib/python3.8/dist-packages/sklearn/neural_network/_multilayer_perceptron.py:549: ConvergenceWarning: lbfgs failed to converge (status=1):\n",
            "STOP: TOTAL NO. of ITERATIONS REACHED LIMIT.\n",
            "\n",
            "Increase the number of iterations (max_iter) or scale the data as shown in:\n",
            "    https://scikit-learn.org/stable/modules/preprocessing.html\n",
            "  self.n_iter_ = _check_optimize_result(\"lbfgs\", opt_res, self.max_iter)\n",
            "/usr/local/lib/python3.8/dist-packages/sklearn/neural_network/_multilayer_perceptron.py:549: ConvergenceWarning: lbfgs failed to converge (status=1):\n",
            "STOP: TOTAL NO. of ITERATIONS REACHED LIMIT.\n",
            "\n",
            "Increase the number of iterations (max_iter) or scale the data as shown in:\n",
            "    https://scikit-learn.org/stable/modules/preprocessing.html\n",
            "  self.n_iter_ = _check_optimize_result(\"lbfgs\", opt_res, self.max_iter)\n",
            "/usr/local/lib/python3.8/dist-packages/sklearn/neural_network/_multilayer_perceptron.py:549: ConvergenceWarning: lbfgs failed to converge (status=1):\n",
            "STOP: TOTAL NO. of ITERATIONS REACHED LIMIT.\n",
            "\n",
            "Increase the number of iterations (max_iter) or scale the data as shown in:\n",
            "    https://scikit-learn.org/stable/modules/preprocessing.html\n",
            "  self.n_iter_ = _check_optimize_result(\"lbfgs\", opt_res, self.max_iter)\n",
            "/usr/local/lib/python3.8/dist-packages/sklearn/neural_network/_multilayer_perceptron.py:549: ConvergenceWarning: lbfgs failed to converge (status=1):\n",
            "STOP: TOTAL NO. of ITERATIONS REACHED LIMIT.\n",
            "\n",
            "Increase the number of iterations (max_iter) or scale the data as shown in:\n",
            "    https://scikit-learn.org/stable/modules/preprocessing.html\n",
            "  self.n_iter_ = _check_optimize_result(\"lbfgs\", opt_res, self.max_iter)\n",
            "/usr/local/lib/python3.8/dist-packages/sklearn/neural_network/_multilayer_perceptron.py:549: ConvergenceWarning: lbfgs failed to converge (status=1):\n",
            "STOP: TOTAL NO. of ITERATIONS REACHED LIMIT.\n",
            "\n",
            "Increase the number of iterations (max_iter) or scale the data as shown in:\n",
            "    https://scikit-learn.org/stable/modules/preprocessing.html\n",
            "  self.n_iter_ = _check_optimize_result(\"lbfgs\", opt_res, self.max_iter)\n",
            "/usr/local/lib/python3.8/dist-packages/sklearn/neural_network/_multilayer_perceptron.py:549: ConvergenceWarning: lbfgs failed to converge (status=1):\n",
            "STOP: TOTAL NO. of ITERATIONS REACHED LIMIT.\n",
            "\n",
            "Increase the number of iterations (max_iter) or scale the data as shown in:\n",
            "    https://scikit-learn.org/stable/modules/preprocessing.html\n",
            "  self.n_iter_ = _check_optimize_result(\"lbfgs\", opt_res, self.max_iter)\n",
            "/usr/local/lib/python3.8/dist-packages/sklearn/neural_network/_multilayer_perceptron.py:549: ConvergenceWarning: lbfgs failed to converge (status=1):\n",
            "STOP: TOTAL NO. of ITERATIONS REACHED LIMIT.\n",
            "\n",
            "Increase the number of iterations (max_iter) or scale the data as shown in:\n",
            "    https://scikit-learn.org/stable/modules/preprocessing.html\n",
            "  self.n_iter_ = _check_optimize_result(\"lbfgs\", opt_res, self.max_iter)\n",
            "/usr/local/lib/python3.8/dist-packages/sklearn/neural_network/_multilayer_perceptron.py:549: ConvergenceWarning: lbfgs failed to converge (status=1):\n",
            "STOP: TOTAL NO. of ITERATIONS REACHED LIMIT.\n",
            "\n",
            "Increase the number of iterations (max_iter) or scale the data as shown in:\n",
            "    https://scikit-learn.org/stable/modules/preprocessing.html\n",
            "  self.n_iter_ = _check_optimize_result(\"lbfgs\", opt_res, self.max_iter)\n"
          ]
        }
      ]
    },
    {
      "cell_type": "code",
      "source": [
        "plt.semilogx(alpha_arr, train_err, 'b-o', label = 'train')\n",
        "plt.semilogx(alpha_arr, test_err, 'r-o', label = 'test')\n",
        "plt.xlim([np.min(alpha_arr), np.max(alpha_arr)])\n",
        "plt.title('Error vs. alpha')\n",
        "plt.xlabel('alpha')\n",
        "plt.ylabel('error')\n",
        "plt.legend()"
      ],
      "metadata": {
        "colab": {
          "base_uri": "https://localhost:8080/",
          "height": 317
        },
        "id": "lexEEVTHulVE",
        "outputId": "44c7154e-e91a-43f3-f946-5ac2b1951f5c"
      },
      "execution_count": 125,
      "outputs": [
        {
          "output_type": "execute_result",
          "data": {
            "text/plain": [
              "<matplotlib.legend.Legend at 0x7f8132606670>"
            ]
          },
          "metadata": {},
          "execution_count": 125
        },
        {
          "output_type": "display_data",
          "data": {
            "text/plain": [
              "<Figure size 432x288 with 1 Axes>"
            ],
            "image/png": "[encoded data removed]"
          },
          "metadata": {
            "needs_background": "light"
          }
        }
      ]
    },
    {
      "cell_type": "code",
      "source": [
        "plt.semilogx(alpha_arr, train_acc, 'r-o', label = 'train')\n",
        "plt.semilogx(alpha_arr, test_acc, 'b-o', label = 'test')\n",
        "plt.xlim([np.min(alpha_arr), np.max(alpha_arr)])\n",
        "plt.title('Accuracy vs. alpha')\n",
        "plt.xlabel('alpha')\n",
        "plt.ylabel('Accuracy')\n",
        "plt.legend()"
      ],
      "metadata": {
        "colab": {
          "base_uri": "https://localhost:8080/",
          "height": 317
        },
        "id": "yZ3EN-rzzdOc",
        "outputId": "f858b882-5c21-4370-e96f-9974e68a03f4"
      },
      "execution_count": 126,
      "outputs": [
        {
          "output_type": "execute_result",
          "data": {
            "text/plain": [
              "<matplotlib.legend.Legend at 0x7f8135a86b20>"
            ]
          },
          "metadata": {},
          "execution_count": 126
        },
        {
          "output_type": "display_data",
          "data": {
            "text/plain": [
              "<Figure size 432x288 with 1 Axes>"
            ],
            "image/png": "[encoded data removed]"
          },
          "metadata": {
            "needs_background": "light"
          }
        }
      ]
    },
    {
      "cell_type": "code",
      "source": [
        "alpha_arr = np.logspace(-3, 2, 21)\n",
        "test_err = []\n",
        "train_err = []\n",
        "train_acc = []\n",
        "test_acc = []\n",
        "\n",
        "for alpha in alpha_arr:\n",
        "    mlp_model = MLPClassifier(alpha = alpha, hidden_layer_sizes = 35, \n",
        "                              solver = 'lbfgs', activation = 'logistic', max_iter=1000, random_state = 42)\n",
        "    mlp_model.fit(X_train, y_train)\n",
        "\n",
        "    y_train_pred = mlp_model.predict(X_train)\n",
        "    y_test_pred = mlp_model.predict(X_test)\n",
        "    \n",
        "    train_err.append(np.mean(y_train != y_train_pred))\n",
        "    test_err.append(np.mean(y_test != y_test_pred))\n",
        "    train_acc.append(accuracy_score(y_train, y_train_pred))\n",
        "    test_acc.append(accuracy_score(y_test, y_test_pred))"
      ],
      "metadata": {
        "colab": {
          "base_uri": "https://localhost:8080/"
        },
        "id": "-qz674VLzq9A",
        "outputId": "bed9a63b-aef3-400b-ae79-a623600d7393"
      },
      "execution_count": 127,
      "outputs": [
        {
          "output_type": "stream",
          "name": "stderr",
          "text": [
            "/usr/local/lib/python3.8/dist-packages/sklearn/neural_network/_multilayer_perceptron.py:549: ConvergenceWarning: lbfgs failed to converge (status=1):\n",
            "STOP: TOTAL NO. of ITERATIONS REACHED LIMIT.\n",
            "\n",
            "Increase the number of iterations (max_iter) or scale the data as shown in:\n",
            "    https://scikit-learn.org/stable/modules/preprocessing.html\n",
            "  self.n_iter_ = _check_optimize_result(\"lbfgs\", opt_res, self.max_iter)\n",
            "/usr/local/lib/python3.8/dist-packages/sklearn/neural_network/_multilayer_perceptron.py:549: ConvergenceWarning: lbfgs failed to converge (status=1):\n",
            "STOP: TOTAL NO. of ITERATIONS REACHED LIMIT.\n",
            "\n",
            "Increase the number of iterations (max_iter) or scale the data as shown in:\n",
            "    https://scikit-learn.org/stable/modules/preprocessing.html\n",
            "  self.n_iter_ = _check_optimize_result(\"lbfgs\", opt_res, self.max_iter)\n",
            "/usr/local/lib/python3.8/dist-packages/sklearn/neural_network/_multilayer_perceptron.py:549: ConvergenceWarning: lbfgs failed to converge (status=1):\n",
            "STOP: TOTAL NO. of ITERATIONS REACHED LIMIT.\n",
            "\n",
            "Increase the number of iterations (max_iter) or scale the data as shown in:\n",
            "    https://scikit-learn.org/stable/modules/preprocessing.html\n",
            "  self.n_iter_ = _check_optimize_result(\"lbfgs\", opt_res, self.max_iter)\n",
            "/usr/local/lib/python3.8/dist-packages/sklearn/neural_network/_multilayer_perceptron.py:549: ConvergenceWarning: lbfgs failed to converge (status=1):\n",
            "STOP: TOTAL NO. of ITERATIONS REACHED LIMIT.\n",
            "\n",
            "Increase the number of iterations (max_iter) or scale the data as shown in:\n",
            "    https://scikit-learn.org/stable/modules/preprocessing.html\n",
            "  self.n_iter_ = _check_optimize_result(\"lbfgs\", opt_res, self.max_iter)\n",
            "/usr/local/lib/python3.8/dist-packages/sklearn/neural_network/_multilayer_perceptron.py:549: ConvergenceWarning: lbfgs failed to converge (status=1):\n",
            "STOP: TOTAL NO. of ITERATIONS REACHED LIMIT.\n",
            "\n",
            "Increase the number of iterations (max_iter) or scale the data as shown in:\n",
            "    https://scikit-learn.org/stable/modules/preprocessing.html\n",
            "  self.n_iter_ = _check_optimize_result(\"lbfgs\", opt_res, self.max_iter)\n",
            "/usr/local/lib/python3.8/dist-packages/sklearn/neural_network/_multilayer_perceptron.py:549: ConvergenceWarning: lbfgs failed to converge (status=1):\n",
            "STOP: TOTAL NO. of ITERATIONS REACHED LIMIT.\n",
            "\n",
            "Increase the number of iterations (max_iter) or scale the data as shown in:\n",
            "    https://scikit-learn.org/stable/modules/preprocessing.html\n",
            "  self.n_iter_ = _check_optimize_result(\"lbfgs\", opt_res, self.max_iter)\n",
            "/usr/local/lib/python3.8/dist-packages/sklearn/neural_network/_multilayer_perceptron.py:549: ConvergenceWarning: lbfgs failed to converge (status=1):\n",
            "STOP: TOTAL NO. of ITERATIONS REACHED LIMIT.\n",
            "\n",
            "Increase the number of iterations (max_iter) or scale the data as shown in:\n",
            "    https://scikit-learn.org/stable/modules/preprocessing.html\n",
            "  self.n_iter_ = _check_optimize_result(\"lbfgs\", opt_res, self.max_iter)\n",
            "/usr/local/lib/python3.8/dist-packages/sklearn/neural_network/_multilayer_perceptron.py:549: ConvergenceWarning: lbfgs failed to converge (status=1):\n",
            "STOP: TOTAL NO. of ITERATIONS REACHED LIMIT.\n",
            "\n",
            "Increase the number of iterations (max_iter) or scale the data as shown in:\n",
            "    https://scikit-learn.org/stable/modules/preprocessing.html\n",
            "  self.n_iter_ = _check_optimize_result(\"lbfgs\", opt_res, self.max_iter)\n",
            "/usr/local/lib/python3.8/dist-packages/sklearn/neural_network/_multilayer_perceptron.py:549: ConvergenceWarning: lbfgs failed to converge (status=1):\n",
            "STOP: TOTAL NO. of ITERATIONS REACHED LIMIT.\n",
            "\n",
            "Increase the number of iterations (max_iter) or scale the data as shown in:\n",
            "    https://scikit-learn.org/stable/modules/preprocessing.html\n",
            "  self.n_iter_ = _check_optimize_result(\"lbfgs\", opt_res, self.max_iter)\n",
            "/usr/local/lib/python3.8/dist-packages/sklearn/neural_network/_multilayer_perceptron.py:549: ConvergenceWarning: lbfgs failed to converge (status=1):\n",
            "STOP: TOTAL NO. of ITERATIONS REACHED LIMIT.\n",
            "\n",
            "Increase the number of iterations (max_iter) or scale the data as shown in:\n",
            "    https://scikit-learn.org/stable/modules/preprocessing.html\n",
            "  self.n_iter_ = _check_optimize_result(\"lbfgs\", opt_res, self.max_iter)\n",
            "/usr/local/lib/python3.8/dist-packages/sklearn/neural_network/_multilayer_perceptron.py:549: ConvergenceWarning: lbfgs failed to converge (status=1):\n",
            "STOP: TOTAL NO. of ITERATIONS REACHED LIMIT.\n",
            "\n",
            "Increase the number of iterations (max_iter) or scale the data as shown in:\n",
            "    https://scikit-learn.org/stable/modules/preprocessing.html\n",
            "  self.n_iter_ = _check_optimize_result(\"lbfgs\", opt_res, self.max_iter)\n",
            "/usr/local/lib/python3.8/dist-packages/sklearn/neural_network/_multilayer_perceptron.py:549: ConvergenceWarning: lbfgs failed to converge (status=1):\n",
            "STOP: TOTAL NO. of ITERATIONS REACHED LIMIT.\n",
            "\n",
            "Increase the number of iterations (max_iter) or scale the data as shown in:\n",
            "    https://scikit-learn.org/stable/modules/preprocessing.html\n",
            "  self.n_iter_ = _check_optimize_result(\"lbfgs\", opt_res, self.max_iter)\n",
            "/usr/local/lib/python3.8/dist-packages/sklearn/neural_network/_multilayer_perceptron.py:549: ConvergenceWarning: lbfgs failed to converge (status=1):\n",
            "STOP: TOTAL NO. of ITERATIONS REACHED LIMIT.\n",
            "\n",
            "Increase the number of iterations (max_iter) or scale the data as shown in:\n",
            "    https://scikit-learn.org/stable/modules/preprocessing.html\n",
            "  self.n_iter_ = _check_optimize_result(\"lbfgs\", opt_res, self.max_iter)\n",
            "/usr/local/lib/python3.8/dist-packages/sklearn/neural_network/_multilayer_perceptron.py:549: ConvergenceWarning: lbfgs failed to converge (status=1):\n",
            "STOP: TOTAL NO. of ITERATIONS REACHED LIMIT.\n",
            "\n",
            "Increase the number of iterations (max_iter) or scale the data as shown in:\n",
            "    https://scikit-learn.org/stable/modules/preprocessing.html\n",
            "  self.n_iter_ = _check_optimize_result(\"lbfgs\", opt_res, self.max_iter)\n",
            "/usr/local/lib/python3.8/dist-packages/sklearn/neural_network/_multilayer_perceptron.py:549: ConvergenceWarning: lbfgs failed to converge (status=1):\n",
            "STOP: TOTAL NO. of ITERATIONS REACHED LIMIT.\n",
            "\n",
            "Increase the number of iterations (max_iter) or scale the data as shown in:\n",
            "    https://scikit-learn.org/stable/modules/preprocessing.html\n",
            "  self.n_iter_ = _check_optimize_result(\"lbfgs\", opt_res, self.max_iter)\n",
            "/usr/local/lib/python3.8/dist-packages/sklearn/neural_network/_multilayer_perceptron.py:549: ConvergenceWarning: lbfgs failed to converge (status=1):\n",
            "STOP: TOTAL NO. of ITERATIONS REACHED LIMIT.\n",
            "\n",
            "Increase the number of iterations (max_iter) or scale the data as shown in:\n",
            "    https://scikit-learn.org/stable/modules/preprocessing.html\n",
            "  self.n_iter_ = _check_optimize_result(\"lbfgs\", opt_res, self.max_iter)\n",
            "/usr/local/lib/python3.8/dist-packages/sklearn/neural_network/_multilayer_perceptron.py:549: ConvergenceWarning: lbfgs failed to converge (status=1):\n",
            "STOP: TOTAL NO. of ITERATIONS REACHED LIMIT.\n",
            "\n",
            "Increase the number of iterations (max_iter) or scale the data as shown in:\n",
            "    https://scikit-learn.org/stable/modules/preprocessing.html\n",
            "  self.n_iter_ = _check_optimize_result(\"lbfgs\", opt_res, self.max_iter)\n",
            "/usr/local/lib/python3.8/dist-packages/sklearn/neural_network/_multilayer_perceptron.py:549: ConvergenceWarning: lbfgs failed to converge (status=1):\n",
            "STOP: TOTAL NO. of ITERATIONS REACHED LIMIT.\n",
            "\n",
            "Increase the number of iterations (max_iter) or scale the data as shown in:\n",
            "    https://scikit-learn.org/stable/modules/preprocessing.html\n",
            "  self.n_iter_ = _check_optimize_result(\"lbfgs\", opt_res, self.max_iter)\n",
            "/usr/local/lib/python3.8/dist-packages/sklearn/neural_network/_multilayer_perceptron.py:549: ConvergenceWarning: lbfgs failed to converge (status=1):\n",
            "STOP: TOTAL NO. of ITERATIONS REACHED LIMIT.\n",
            "\n",
            "Increase the number of iterations (max_iter) or scale the data as shown in:\n",
            "    https://scikit-learn.org/stable/modules/preprocessing.html\n",
            "  self.n_iter_ = _check_optimize_result(\"lbfgs\", opt_res, self.max_iter)\n",
            "/usr/local/lib/python3.8/dist-packages/sklearn/neural_network/_multilayer_perceptron.py:549: ConvergenceWarning: lbfgs failed to converge (status=1):\n",
            "STOP: TOTAL NO. of ITERATIONS REACHED LIMIT.\n",
            "\n",
            "Increase the number of iterations (max_iter) or scale the data as shown in:\n",
            "    https://scikit-learn.org/stable/modules/preprocessing.html\n",
            "  self.n_iter_ = _check_optimize_result(\"lbfgs\", opt_res, self.max_iter)\n",
            "/usr/local/lib/python3.8/dist-packages/sklearn/neural_network/_multilayer_perceptron.py:549: ConvergenceWarning: lbfgs failed to converge (status=1):\n",
            "STOP: TOTAL NO. of ITERATIONS REACHED LIMIT.\n",
            "\n",
            "Increase the number of iterations (max_iter) or scale the data as shown in:\n",
            "    https://scikit-learn.org/stable/modules/preprocessing.html\n",
            "  self.n_iter_ = _check_optimize_result(\"lbfgs\", opt_res, self.max_iter)\n"
          ]
        }
      ]
    },
    {
      "cell_type": "code",
      "source": [
        "plt.semilogx(alpha_arr, train_err, 'b-o', label = 'train')\n",
        "plt.semilogx(alpha_arr, test_err, 'r-o', label = 'test')\n",
        "plt.xlim([np.min(alpha_arr), np.max(alpha_arr)])\n",
        "plt.title('Error vs. alpha')\n",
        "plt.xlabel('alpha')\n",
        "plt.ylabel('error')\n",
        "plt.legend()"
      ],
      "metadata": {
        "colab": {
          "base_uri": "https://localhost:8080/",
          "height": 317
        },
        "id": "ncpOhGBB5fO2",
        "outputId": "1a3d77a0-3252-476a-f0c2-b52df49a0c0d"
      },
      "execution_count": 128,
      "outputs": [
        {
          "output_type": "execute_result",
          "data": {
            "text/plain": [
              "<matplotlib.legend.Legend at 0x7f8132746df0>"
            ]
          },
          "metadata": {},
          "execution_count": 128
        },
        {
          "output_type": "display_data",
          "data": {
            "text/plain": [
              "<Figure size 432x288 with 1 Axes>"
            ],
            "image/png": "[encoded data removed]"
          },
          "metadata": {
            "needs_background": "light"
          }
        }
      ]
    },
    {
      "cell_type": "code",
      "source": [
        "plt.semilogx(alpha_arr, train_acc, 'r-o', label = 'train')\n",
        "plt.semilogx(alpha_arr, test_acc, 'b-o', label = 'test')\n",
        "plt.xlim([np.min(alpha_arr), np.max(alpha_arr)])\n",
        "plt.title('Accuracy vs. alpha')\n",
        "plt.xlabel('alpha')\n",
        "plt.ylabel('Accuracy')\n",
        "plt.legend()"
      ],
      "metadata": {
        "colab": {
          "base_uri": "https://localhost:8080/",
          "height": 317
        },
        "id": "SBSMPmoF5l5K",
        "outputId": "a7880ebf-ef11-40ca-8250-52591dc5d738"
      },
      "execution_count": 129,
      "outputs": [
        {
          "output_type": "execute_result",
          "data": {
            "text/plain": [
              "<matplotlib.legend.Legend at 0x7f813257d190>"
            ]
          },
          "metadata": {},
          "execution_count": 129
        },
        {
          "output_type": "display_data",
          "data": {
            "text/plain": [
              "<Figure size 432x288 with 1 Axes>"
            ],
            "image/png": "[encoded data removed]"
          },
          "metadata": {
            "needs_background": "light"
          }
        }
      ]
    },
    {
      "cell_type": "markdown",
      "source": [
        "# Минимальное значение ошибки:"
      ],
      "metadata": {
        "id": "v6Myk0dShv2O"
      }
    },
    {
      "cell_type": "code",
      "source": [
        "min_train_err = np.min(train_err)\n",
        "min_test_err = np.min(test_err)\n",
        "print(min_train_err, min_test_err)"
      ],
      "metadata": {
        "colab": {
          "base_uri": "https://localhost:8080/"
        },
        "id": "eJY70IWehxU-",
        "outputId": "0c4eac5e-8652-451b-dae1-92a112596801"
      },
      "execution_count": 139,
      "outputs": [
        {
          "output_type": "stream",
          "name": "stdout",
          "text": [
            "0.3594 0.363\n"
          ]
        }
      ]
    },
    {
      "cell_type": "markdown",
      "source": [
        "Оптимальное значение alpha:"
      ],
      "metadata": {
        "id": "AsjNs32xh2_4"
      }
    },
    {
      "cell_type": "code",
      "source": [
        "alpha_opt = alpha_arr[test_err == min_test_err]\n",
        "print(alpha_opt)"
      ],
      "metadata": {
        "colab": {
          "base_uri": "https://localhost:8080/"
        },
        "id": "S3EKezsfh3t0",
        "outputId": "465aadf7-d775-43aa-8cb6-3153ae62e683"
      },
      "execution_count": 140,
      "outputs": [
        {
          "output_type": "stream",
          "name": "stdout",
          "text": [
            "[100.]\n"
          ]
        }
      ]
    },
    {
      "cell_type": "code",
      "source": [
        "alpha_opt = alpha_opt[0]"
      ],
      "metadata": {
        "id": "_gk1XtgSh8rg"
      },
      "execution_count": 141,
      "outputs": []
    },
    {
      "cell_type": "markdown",
      "source": [
        "# **Классификатор при найденном оптимальном значении alpha:**\n",
        "**Повторим обучение:**"
      ],
      "metadata": {
        "id": "6kruLigiiACo"
      }
    },
    {
      "cell_type": "code",
      "source": [
        "mlp_model = MLPClassifier(alpha = alpha_opt, hidden_layer_sizes = (3,),\n",
        "                          solver = 'lbfgs', activation = 'logistic', random_state = 42)\n",
        "mlp_model.fit(X_train, y_train)\n",
        "\n",
        "y_train_pred = mlp_model.predict(X_train)\n",
        "y_test_pred = mlp_model.predict(X_test)\n",
        "print(np.mean(y_train != y_train_pred))\n",
        "print(np.mean(y_test != y_test_pred))"
      ],
      "metadata": {
        "colab": {
          "base_uri": "https://localhost:8080/"
        },
        "id": "yMHcU7a3iC25",
        "outputId": "bb31590d-214a-4c8c-c2ca-1db0871b6fe8"
      },
      "execution_count": 142,
      "outputs": [
        {
          "output_type": "stream",
          "name": "stdout",
          "text": [
            "0.3594\n",
            "0.363\n"
          ]
        }
      ]
    },
    {
      "cell_type": "markdown",
      "source": [
        "# Матрица рассогласования:"
      ],
      "metadata": {
        "id": "8W4c-Gt0idhR"
      }
    },
    {
      "cell_type": "code",
      "source": [
        "from sklearn.metrics import  confusion_matrix, ConfusionMatrixDisplay,accuracy_score\n"
      ],
      "metadata": {
        "id": "cTsNlXycieta"
      },
      "execution_count": 143,
      "outputs": []
    },
    {
      "cell_type": "code",
      "source": [
        "print(confusion_matrix(y_test_pred, y_test))"
      ],
      "metadata": {
        "colab": {
          "base_uri": "https://localhost:8080/"
        },
        "id": "3oj26T1vihej",
        "outputId": "d4e9f4ff-f60f-41fa-ecb5-3e1c5931ebd3"
      },
      "execution_count": 144,
      "outputs": [
        {
          "output_type": "stream",
          "name": "stdout",
          "text": [
            "[[1343  732]\n",
            " [ 357  568]]\n"
          ]
        }
      ]
    },
    {
      "cell_type": "code",
      "source": [
        "#M = confusion_matrix(y_test_pred, y_test)\n",
        "#M = np.sqrt(M)\n",
        "#plt.imshow(M, interpolation = 'nearest')\n",
        "#plt.set_cmap('binary')\n",
        "#plt.xticks(range(10))\n",
        "#plt.yticks(range(10))\n",
        "#plt.xlabel(\"true label\")\n",
        "#plt.ylabel(\"predicted label\")\n",
        "#plt.colorbar()\n",
        "#pass"
      ],
      "metadata": {
        "id": "JhFDf94Lilgg"
      },
      "execution_count": 145,
      "outputs": []
    },
    {
      "cell_type": "markdown",
      "source": [
        "**Вариант с использованием встроенной в Sklearn функцией, которая сама считает и отрисовывает Confusion matrix**"
      ],
      "metadata": {
        "id": "aLEJSFjMi66F"
      }
    },
    {
      "cell_type": "code",
      "source": [
        "from sklearn.metrics import plot_confusion_matrix"
      ],
      "metadata": {
        "id": "W6huAHAJ1HcW"
      },
      "execution_count": 146,
      "outputs": []
    },
    {
      "cell_type": "code",
      "source": [
        "plot_confusion_matrix(mlp_model, X_test, y_test) "
      ],
      "metadata": {
        "colab": {
          "base_uri": "https://localhost:8080/",
          "height": 354
        },
        "id": "9DEYgARUiskh",
        "outputId": "50a31cca-4454-4116-f068-269357f5d5a8"
      },
      "execution_count": 147,
      "outputs": [
        {
          "output_type": "stream",
          "name": "stderr",
          "text": [
            "/usr/local/lib/python3.8/dist-packages/sklearn/utils/deprecation.py:87: FutureWarning: Function plot_confusion_matrix is deprecated; Function `plot_confusion_matrix` is deprecated in 1.0 and will be removed in 1.2. Use one of the class methods: ConfusionMatrixDisplay.from_predictions or ConfusionMatrixDisplay.from_estimator.\n",
            "  warnings.warn(msg, category=FutureWarning)\n"
          ]
        },
        {
          "output_type": "execute_result",
          "data": {
            "text/plain": [
              "<sklearn.metrics._plot.confusion_matrix.ConfusionMatrixDisplay at 0x7f8131d32fd0>"
            ]
          },
          "metadata": {},
          "execution_count": 147
        },
        {
          "output_type": "display_data",
          "data": {
            "text/plain": [
              "<Figure size 432x288 with 2 Axes>"
            ],
            "image/png": "[encoded data removed]"
          },
          "metadata": {
            "needs_background": "light"
          }
        }
      ]
    },
    {
      "cell_type": "markdown",
      "source": [
        "Другие метрики качества:"
      ],
      "metadata": {
        "id": "8U7fb3DrjBNA"
      }
    },
    {
      "cell_type": "code",
      "source": [
        "from sklearn.metrics import classification_report\n"
      ],
      "metadata": {
        "id": "-kvHtoUQjCcQ"
      },
      "execution_count": 148,
      "outputs": []
    },
    {
      "cell_type": "code",
      "source": [
        "print(classification_report(y_test, y_test_pred))"
      ],
      "metadata": {
        "colab": {
          "base_uri": "https://localhost:8080/"
        },
        "id": "LK6gvXihjF8I",
        "outputId": "c7bb5642-a57d-4c13-c064-7ca6621e4a6a"
      },
      "execution_count": 149,
      "outputs": [
        {
          "output_type": "stream",
          "name": "stdout",
          "text": [
            "                         precision    recall  f1-score   support\n",
            "\n",
            "neutral or dissatisfied       0.65      0.79      0.71      1700\n",
            "              satisfied       0.61      0.44      0.51      1300\n",
            "\n",
            "               accuracy                           0.64      3000\n",
            "              macro avg       0.63      0.61      0.61      3000\n",
            "           weighted avg       0.63      0.64      0.62      3000\n",
            "\n"
          ]
        }
      ]
    },
    {
      "cell_type": "markdown",
      "source": [
        " **Вывод**:Данная задача достаточно сносно классифицируется с текущим набором параметров и с выбранными классами классификации. Также ,возможно, при переборе гипер_параметров можно подобрать более оптимальный вариант. В целом, если увеличить тренировочную и контрольную выборку, то результат только улучшится. "
      ],
      "metadata": {
        "id": "On2gwJ1m6ntN"
      }
    },
    {
      "cell_type": "code",
      "source": [],
      "metadata": {
        "id": "PmhX4Ppr6our"
      },
      "execution_count": null,
      "outputs": []
    }
  ]
}